{
 "cells": [
  {
   "cell_type": "code",
   "execution_count": 1,
   "id": "29ee2486",
   "metadata": {},
   "outputs": [],
   "source": [
    "%%capture\n",
    "!pip install category-encoders\n",
    "!pip install pyldavis"
   ]
  },
  {
   "cell_type": "code",
   "execution_count": 2,
   "id": "0cdef03b",
   "metadata": {},
   "outputs": [
    {
     "name": "stderr",
     "output_type": "stream",
     "text": [
      "/Users/dylansivori/.local/share/virtualenvs/Spotify-Song-Suggester-AdyWyJ8v/lib/python3.8/site-packages/gensim/similarities/__init__.py:15: UserWarning: The gensim.similarities.levenshtein submodule is disabled, because the optional Levenshtein package <https://pypi.org/project/python-Levenshtein/> is unavailable. Install Levenhstein (e.g. `pip install python-Levenshtein`) to suppress this warning.\n",
      "  warnings.warn(msg)\n",
      "/Users/dylansivori/.local/share/virtualenvs/Spotify-Song-Suggester-AdyWyJ8v/lib/python3.8/site-packages/patsy/constraint.py:13: DeprecationWarning: Using or importing the ABCs from 'collections' instead of from 'collections.abc' is deprecated since Python 3.3, and in 3.9 it will stop working\n",
      "  from collections import Mapping\n"
     ]
    }
   ],
   "source": [
    "# import libraries\n",
    "import pandas as pd\n",
    "from sklearn.neighbors import NearestNeighbors\n",
    "import joblib\n",
    "import spacy\n",
    "import re\n",
    "import gensim\n",
    "import gensim.corpora as corpora\n",
    "from gensim.utils import simple_preprocess\n",
    "from gensim.models import CoherenceModel\n",
    "import pyLDAvis\n",
    "import pyLDAvis.gensim_models\n",
    "from category_encoders import OneHotEncoder\n",
    "import numpy as np"
   ]
  },
  {
   "cell_type": "code",
   "execution_count": 3,
   "id": "beb21657",
   "metadata": {},
   "outputs": [
    {
     "name": "stderr",
     "output_type": "stream",
     "text": [
      "/Users/dylansivori/.local/share/virtualenvs/Spotify-Song-Suggester-AdyWyJ8v/lib/python3.8/site-packages/ipykernel/ipkernel.py:283: DeprecationWarning: `should_run_async` will not call `transform_cell` automatically in the future. Please pass the result to `transformed_cell` argument and any exception that happen during thetransform in `preprocessing_exc_tuple` in IPython 7.17 and above.\n",
      "  and should_run_async(code)\n"
     ]
    }
   ],
   "source": [
    "# run once\n",
    "# !python -m spacy download en_core_web_lg"
   ]
  },
  {
   "cell_type": "code",
   "execution_count": 4,
   "id": "e4e9fa29",
   "metadata": {},
   "outputs": [
    {
     "name": "stderr",
     "output_type": "stream",
     "text": [
      "/Users/dylansivori/.local/share/virtualenvs/Spotify-Song-Suggester-AdyWyJ8v/lib/python3.8/site-packages/ipykernel/ipkernel.py:283: DeprecationWarning: `should_run_async` will not call `transform_cell` automatically in the future. Please pass the result to `transformed_cell` argument and any exception that happen during thetransform in `preprocessing_exc_tuple` in IPython 7.17 and above.\n",
      "  and should_run_async(code)\n"
     ]
    }
   ],
   "source": [
    "# load spacy model\n",
    "nlp = spacy.load(\"en_core_web_lg\")"
   ]
  },
  {
   "cell_type": "markdown",
   "id": "024e35c6",
   "metadata": {},
   "source": [
    "# Baseline Nearest Neighbors Model"
   ]
  },
  {
   "cell_type": "code",
   "execution_count": 5,
   "id": "727c2ae5",
   "metadata": {},
   "outputs": [
    {
     "name": "stderr",
     "output_type": "stream",
     "text": [
      "/Users/dylansivori/.local/share/virtualenvs/Spotify-Song-Suggester-AdyWyJ8v/lib/python3.8/site-packages/ipykernel/ipkernel.py:283: DeprecationWarning: `should_run_async` will not call `transform_cell` automatically in the future. Please pass the result to `transformed_cell` argument and any exception that happen during thetransform in `preprocessing_exc_tuple` in IPython 7.17 and above.\n",
      "  and should_run_async(code)\n",
      "<>:31: DeprecationWarning: invalid escape sequence \\S\n",
      "<>:31: DeprecationWarning: invalid escape sequence \\S\n",
      "<ipython-input-5-f5e2b701b702>:31: DeprecationWarning: invalid escape sequence \\S\n",
      "  strip_post_dash = ' - \\S+'\n"
     ]
    }
   ],
   "source": [
    "# read in data\n",
    "data_path = \"../data/\"\n",
    "\n",
    "def wrangle(data_path):\n",
    "\n",
    "    # reads in the data\n",
    "    df_tracks = pd.read_csv(data_path + 'tracks.csv', parse_dates=['release_date'])\n",
    "    df_lyrics = pd.read_csv(data_path + 'lyrics.csv') #usecols=['SName', 'Lyric']\n",
    "    \n",
    "    # drop null values on df_tracks\n",
    "    df_tracks.dropna(inplace=True)\n",
    "    df_lyrics.dropna(inplace=True)\n",
    "    \n",
    "    # case normalization on song names\n",
    "    df_lyrics['SName'] = df_lyrics['SName'].apply(lambda x: x.lower())\n",
    "    df_tracks['name'] = df_tracks['name'].apply(lambda x: x.lower())\n",
    "    \n",
    "    # clean up df_lyrics data for merging\n",
    "    df_lyrics = df_lyrics.rename(columns={'ALink': 'Artist', 'SName': 'name'})\n",
    "    df_lyrics['Artist'] = df_lyrics['Artist'].apply(lambda x: x.rstrip('/').lstrip('/').replace('-', \" \").lower())\n",
    "\n",
    "    # drops duplicate lyrics \n",
    "    df_lyrics = df_lyrics.drop_duplicates(subset=['Artist', 'name'])\n",
    "    \n",
    "    # clean up df_tracks data for merging\n",
    "    df_tracks = df_tracks.rename(columns={'artists': 'Artist'})\n",
    "\n",
    "    df_tracks['Artist'] = df_tracks['Artist'].apply(lambda x: x.lstrip(\"['\").rstrip(\"']\").lower())\n",
    "    \n",
    "    # use regex to strip acoustic/remix versions\n",
    "    strip_post_dash = ' - \\S+'\n",
    "    strip_version = ' version'\n",
    "\n",
    "    df_tracks['name'] = df_tracks['name'].apply(lambda song_name: re.sub(strip_post_dash, \"\", song_name))\n",
    "    df_tracks['name'] = df_tracks['name'].apply(lambda song_name: re.sub(strip_version, \"\", song_name))\n",
    "    \n",
    "    # drop duplicate rows\n",
    "    df_tracks = df_tracks.drop_duplicates(subset=['Artist', 'name'])\n",
    "    \n",
    "    df_merged = pd.merge(df_lyrics, df_tracks, on=['Artist', 'name'], how='inner')\n",
    "    \n",
    "    # drop unwanted columns\n",
    "    df_merged = df_merged.drop(columns=['duration_ms'])\n",
    "    \n",
    "    df_merged = df_merged[df_merged['Idiom'] == 'ENGLISH']\n",
    "    \n",
    "    # original merge dataframes\n",
    "    # df_merged = pd.merge(df_tracks, df_lyrics, how='inner', left_on=['name'], right_on='SName')\n",
    "    \n",
    "    \n",
    "    # original drop columns not used in NN model\n",
    "    # df_merged = df_merged.drop(columns= ['id', 'name', 'artists', 'id_artists', 'release_date', ])\n",
    "    \n",
    "    return df_merged\n",
    "\n",
    "def keep_wanted_columns(df):\n",
    "    df_dropped = df[['popularity', 'explicit', 'danceability', 'energy', 'key', 'loudness', 'mode', 'speechiness', 'acousticness',\n",
    "       'instrumentalness', 'liveness', 'valence', 'tempo', 'time_signature', 'new_topic_name_Existential', 'new_topic_name_Religion',\n",
    "        'new_topic_name_Gangsta', 'new_topic_name_Poppy','new_topic_name_Love']]\n",
    "    \n",
    "    #drop(columns= ['Artist', 'name', 'SLink', 'Lyric', 'Idiom', 'id_artists', 'id', 'release_date'])\n",
    "    \n",
    "    return df_dropped"
   ]
  },
  {
   "cell_type": "code",
   "execution_count": 6,
   "id": "fd4f13b2",
   "metadata": {},
   "outputs": [
    {
     "name": "stderr",
     "output_type": "stream",
     "text": [
      "/Users/dylansivori/.local/share/virtualenvs/Spotify-Song-Suggester-AdyWyJ8v/lib/python3.8/site-packages/ipykernel/ipkernel.py:283: DeprecationWarning: `should_run_async` will not call `transform_cell` automatically in the future. Please pass the result to `transformed_cell` argument and any exception that happen during thetransform in `preprocessing_exc_tuple` in IPython 7.17 and above.\n",
      "  and should_run_async(code)\n"
     ]
    }
   ],
   "source": [
    "df_merged = wrangle(data_path)"
   ]
  },
  {
   "cell_type": "code",
   "execution_count": 7,
   "id": "ab65703a",
   "metadata": {
    "scrolled": true
   },
   "outputs": [
    {
     "name": "stderr",
     "output_type": "stream",
     "text": [
      "/Users/dylansivori/.local/share/virtualenvs/Spotify-Song-Suggester-AdyWyJ8v/lib/python3.8/site-packages/ipykernel/ipkernel.py:283: DeprecationWarning: `should_run_async` will not call `transform_cell` automatically in the future. Please pass the result to `transformed_cell` argument and any exception that happen during thetransform in `preprocessing_exc_tuple` in IPython 7.17 and above.\n",
      "  and should_run_async(code)\n"
     ]
    },
    {
     "data": {
      "text/html": [
       "<div>\n",
       "<style scoped>\n",
       "    .dataframe tbody tr th:only-of-type {\n",
       "        vertical-align: middle;\n",
       "    }\n",
       "\n",
       "    .dataframe tbody tr th {\n",
       "        vertical-align: top;\n",
       "    }\n",
       "\n",
       "    .dataframe thead th {\n",
       "        text-align: right;\n",
       "    }\n",
       "</style>\n",
       "<table border=\"1\" class=\"dataframe\">\n",
       "  <thead>\n",
       "    <tr style=\"text-align: right;\">\n",
       "      <th></th>\n",
       "      <th>Artist</th>\n",
       "      <th>name</th>\n",
       "      <th>SLink</th>\n",
       "      <th>Lyric</th>\n",
       "      <th>Idiom</th>\n",
       "      <th>id</th>\n",
       "      <th>popularity</th>\n",
       "      <th>explicit</th>\n",
       "      <th>id_artists</th>\n",
       "      <th>release_date</th>\n",
       "      <th>...</th>\n",
       "      <th>key</th>\n",
       "      <th>loudness</th>\n",
       "      <th>mode</th>\n",
       "      <th>speechiness</th>\n",
       "      <th>acousticness</th>\n",
       "      <th>instrumentalness</th>\n",
       "      <th>liveness</th>\n",
       "      <th>valence</th>\n",
       "      <th>tempo</th>\n",
       "      <th>time_signature</th>\n",
       "    </tr>\n",
       "  </thead>\n",
       "  <tbody>\n",
       "    <tr>\n",
       "      <th>0</th>\n",
       "      <td>12 stones</td>\n",
       "      <td>world so cold</td>\n",
       "      <td>/12-stones/world-so-cold.html</td>\n",
       "      <td>It starts with pain, followed by hate. Fueled ...</td>\n",
       "      <td>ENGLISH</td>\n",
       "      <td>471eQ7hcJ7JdGY1NzMmUeg</td>\n",
       "      <td>55</td>\n",
       "      <td>0</td>\n",
       "      <td>['0DrXhci3WAyo0WJv1RBOG6']</td>\n",
       "      <td>2007-01-01</td>\n",
       "      <td>...</td>\n",
       "      <td>4</td>\n",
       "      <td>-4.949</td>\n",
       "      <td>0</td>\n",
       "      <td>0.0443</td>\n",
       "      <td>0.472000</td>\n",
       "      <td>0.000000</td>\n",
       "      <td>0.360</td>\n",
       "      <td>0.394</td>\n",
       "      <td>186.227</td>\n",
       "      <td>3</td>\n",
       "    </tr>\n",
       "    <tr>\n",
       "      <th>1</th>\n",
       "      <td>12 stones</td>\n",
       "      <td>anthem for the underdog</td>\n",
       "      <td>/12-stones/anthem-for-the-underdog.html</td>\n",
       "      <td>You say you know just who I am. But you can't ...</td>\n",
       "      <td>ENGLISH</td>\n",
       "      <td>6FFwt1ea9hJ4MfMQLywahm</td>\n",
       "      <td>59</td>\n",
       "      <td>0</td>\n",
       "      <td>['0DrXhci3WAyo0WJv1RBOG6']</td>\n",
       "      <td>2007-01-01</td>\n",
       "      <td>...</td>\n",
       "      <td>5</td>\n",
       "      <td>-3.424</td>\n",
       "      <td>1</td>\n",
       "      <td>0.0626</td>\n",
       "      <td>0.000651</td>\n",
       "      <td>0.000000</td>\n",
       "      <td>0.339</td>\n",
       "      <td>0.468</td>\n",
       "      <td>93.977</td>\n",
       "      <td>3</td>\n",
       "    </tr>\n",
       "    <tr>\n",
       "      <th>2</th>\n",
       "      <td>12 stones</td>\n",
       "      <td>we are one</td>\n",
       "      <td>/12-stones/we-are-one.html</td>\n",
       "      <td>We walk alone. In the unknown. We live to win ...</td>\n",
       "      <td>ENGLISH</td>\n",
       "      <td>4lhqal0Hq63U2wETCeBdG1</td>\n",
       "      <td>58</td>\n",
       "      <td>0</td>\n",
       "      <td>['0DrXhci3WAyo0WJv1RBOG6']</td>\n",
       "      <td>2010-01-01</td>\n",
       "      <td>...</td>\n",
       "      <td>5</td>\n",
       "      <td>-4.041</td>\n",
       "      <td>0</td>\n",
       "      <td>0.1140</td>\n",
       "      <td>0.000119</td>\n",
       "      <td>0.000016</td>\n",
       "      <td>0.233</td>\n",
       "      <td>0.306</td>\n",
       "      <td>127.102</td>\n",
       "      <td>4</td>\n",
       "    </tr>\n",
       "    <tr>\n",
       "      <th>3</th>\n",
       "      <td>3 doors down</td>\n",
       "      <td>here without you</td>\n",
       "      <td>/3-doors-down/here-without-you.html</td>\n",
       "      <td>A hundred days have made me older,. Since the ...</td>\n",
       "      <td>ENGLISH</td>\n",
       "      <td>3NLrRZoMF0Lx6zTlYqeIo4</td>\n",
       "      <td>76</td>\n",
       "      <td>0</td>\n",
       "      <td>['2RTUTCvo6onsAnheUk3aL9']</td>\n",
       "      <td>2002-11-12</td>\n",
       "      <td>...</td>\n",
       "      <td>10</td>\n",
       "      <td>-6.817</td>\n",
       "      <td>0</td>\n",
       "      <td>0.0252</td>\n",
       "      <td>0.049200</td>\n",
       "      <td>0.000000</td>\n",
       "      <td>0.205</td>\n",
       "      <td>0.233</td>\n",
       "      <td>143.994</td>\n",
       "      <td>4</td>\n",
       "    </tr>\n",
       "    <tr>\n",
       "      <th>4</th>\n",
       "      <td>3 doors down</td>\n",
       "      <td>when i'm gone</td>\n",
       "      <td>/3-doors-down/when-im-gone.html</td>\n",
       "      <td>There's another world inside of me that you ma...</td>\n",
       "      <td>ENGLISH</td>\n",
       "      <td>3WbphvawbMZ8FyqDxYGdSQ</td>\n",
       "      <td>70</td>\n",
       "      <td>0</td>\n",
       "      <td>['2RTUTCvo6onsAnheUk3aL9']</td>\n",
       "      <td>2002-11-12</td>\n",
       "      <td>...</td>\n",
       "      <td>7</td>\n",
       "      <td>-5.611</td>\n",
       "      <td>1</td>\n",
       "      <td>0.0284</td>\n",
       "      <td>0.003850</td>\n",
       "      <td>0.000000</td>\n",
       "      <td>0.103</td>\n",
       "      <td>0.374</td>\n",
       "      <td>148.095</td>\n",
       "      <td>4</td>\n",
       "    </tr>\n",
       "    <tr>\n",
       "      <th>...</th>\n",
       "      <td>...</td>\n",
       "      <td>...</td>\n",
       "      <td>...</td>\n",
       "      <td>...</td>\n",
       "      <td>...</td>\n",
       "      <td>...</td>\n",
       "      <td>...</td>\n",
       "      <td>...</td>\n",
       "      <td>...</td>\n",
       "      <td>...</td>\n",
       "      <td>...</td>\n",
       "      <td>...</td>\n",
       "      <td>...</td>\n",
       "      <td>...</td>\n",
       "      <td>...</td>\n",
       "      <td>...</td>\n",
       "      <td>...</td>\n",
       "      <td>...</td>\n",
       "      <td>...</td>\n",
       "      <td>...</td>\n",
       "      <td>...</td>\n",
       "    </tr>\n",
       "    <tr>\n",
       "      <th>14394</th>\n",
       "      <td>whitney houston</td>\n",
       "      <td>you'll never stand alone</td>\n",
       "      <td>/whitney-houston/youll-never-stand-alone.html</td>\n",
       "      <td>Verse 1:. If there's a time when the tears sho...</td>\n",
       "      <td>ENGLISH</td>\n",
       "      <td>3KFbjIFQxMbOKdZ4S3lv4S</td>\n",
       "      <td>34</td>\n",
       "      <td>0</td>\n",
       "      <td>['6XpaIBNiVzIetEPCWDvAFP']</td>\n",
       "      <td>1998-11-17</td>\n",
       "      <td>...</td>\n",
       "      <td>9</td>\n",
       "      <td>-6.943</td>\n",
       "      <td>1</td>\n",
       "      <td>0.0254</td>\n",
       "      <td>0.105000</td>\n",
       "      <td>0.000000</td>\n",
       "      <td>0.272</td>\n",
       "      <td>0.194</td>\n",
       "      <td>103.907</td>\n",
       "      <td>4</td>\n",
       "    </tr>\n",
       "    <tr>\n",
       "      <th>14395</th>\n",
       "      <td>whitney houston</td>\n",
       "      <td>you're still my man</td>\n",
       "      <td>/whitney-houston/youre-still-my-man.html</td>\n",
       "      <td>You'Re Still My Man. On the day that you left ...</td>\n",
       "      <td>ENGLISH</td>\n",
       "      <td>2csRQWI7A2FjLYBQBiAIoi</td>\n",
       "      <td>42</td>\n",
       "      <td>0</td>\n",
       "      <td>['6XpaIBNiVzIetEPCWDvAFP']</td>\n",
       "      <td>1987-06-02</td>\n",
       "      <td>...</td>\n",
       "      <td>10</td>\n",
       "      <td>-9.496</td>\n",
       "      <td>1</td>\n",
       "      <td>0.0295</td>\n",
       "      <td>0.684000</td>\n",
       "      <td>0.000004</td>\n",
       "      <td>0.226</td>\n",
       "      <td>0.308</td>\n",
       "      <td>131.743</td>\n",
       "      <td>4</td>\n",
       "    </tr>\n",
       "    <tr>\n",
       "      <th>14441</th>\n",
       "      <td>zendaya</td>\n",
       "      <td>replay</td>\n",
       "      <td>/zendaya/replay.html</td>\n",
       "      <td>Make it stop, sounds so good. I just can't tak...</td>\n",
       "      <td>ENGLISH</td>\n",
       "      <td>7d1CFwrBmH34gmS0Hkbfbt</td>\n",
       "      <td>67</td>\n",
       "      <td>0</td>\n",
       "      <td>['6sCbFbEjbYepqswM1vWjjs']</td>\n",
       "      <td>2013-01-01</td>\n",
       "      <td>...</td>\n",
       "      <td>6</td>\n",
       "      <td>-6.682</td>\n",
       "      <td>0</td>\n",
       "      <td>0.1210</td>\n",
       "      <td>0.041600</td>\n",
       "      <td>0.000200</td>\n",
       "      <td>0.302</td>\n",
       "      <td>0.618</td>\n",
       "      <td>140.023</td>\n",
       "      <td>4</td>\n",
       "    </tr>\n",
       "    <tr>\n",
       "      <th>15306</th>\n",
       "      <td>jorge ben jor</td>\n",
       "      <td>brother</td>\n",
       "      <td>/jorge-ben-jor/brother.html</td>\n",
       "      <td>Brother, Brother, Prepare one more happy way f...</td>\n",
       "      <td>ENGLISH</td>\n",
       "      <td>1LLRVZB4fz7bduFEZ22DE4</td>\n",
       "      <td>48</td>\n",
       "      <td>0</td>\n",
       "      <td>['5JYtpnUKxAzXfHEYpOeeit']</td>\n",
       "      <td>1974-01-01</td>\n",
       "      <td>...</td>\n",
       "      <td>2</td>\n",
       "      <td>-11.125</td>\n",
       "      <td>1</td>\n",
       "      <td>0.0378</td>\n",
       "      <td>0.416000</td>\n",
       "      <td>0.000000</td>\n",
       "      <td>0.233</td>\n",
       "      <td>0.972</td>\n",
       "      <td>132.249</td>\n",
       "      <td>4</td>\n",
       "    </tr>\n",
       "    <tr>\n",
       "      <th>15331</th>\n",
       "      <td>jorge ben jor</td>\n",
       "      <td>jorge well</td>\n",
       "      <td>/jorge-ben-jor/jorge-well.html</td>\n",
       "      <td>Mama. Mama. Mama. Take it easy, girl. I am her...</td>\n",
       "      <td>ENGLISH</td>\n",
       "      <td>3a4IBVbcJt9arG1i5mdjxY</td>\n",
       "      <td>14</td>\n",
       "      <td>0</td>\n",
       "      <td>['5JYtpnUKxAzXfHEYpOeeit']</td>\n",
       "      <td>1965-02-26</td>\n",
       "      <td>...</td>\n",
       "      <td>0</td>\n",
       "      <td>-5.899</td>\n",
       "      <td>1</td>\n",
       "      <td>0.0438</td>\n",
       "      <td>0.342000</td>\n",
       "      <td>0.000000</td>\n",
       "      <td>0.341</td>\n",
       "      <td>0.845</td>\n",
       "      <td>150.565</td>\n",
       "      <td>4</td>\n",
       "    </tr>\n",
       "  </tbody>\n",
       "</table>\n",
       "<p>12780 rows × 22 columns</p>\n",
       "</div>"
      ],
      "text/plain": [
       "                Artist                      name  \\\n",
       "0            12 stones             world so cold   \n",
       "1            12 stones   anthem for the underdog   \n",
       "2            12 stones                we are one   \n",
       "3         3 doors down          here without you   \n",
       "4         3 doors down             when i'm gone   \n",
       "...                ...                       ...   \n",
       "14394  whitney houston  you'll never stand alone   \n",
       "14395  whitney houston       you're still my man   \n",
       "14441          zendaya                    replay   \n",
       "15306    jorge ben jor                   brother   \n",
       "15331    jorge ben jor                jorge well   \n",
       "\n",
       "                                               SLink  \\\n",
       "0                      /12-stones/world-so-cold.html   \n",
       "1            /12-stones/anthem-for-the-underdog.html   \n",
       "2                         /12-stones/we-are-one.html   \n",
       "3                /3-doors-down/here-without-you.html   \n",
       "4                    /3-doors-down/when-im-gone.html   \n",
       "...                                              ...   \n",
       "14394  /whitney-houston/youll-never-stand-alone.html   \n",
       "14395       /whitney-houston/youre-still-my-man.html   \n",
       "14441                           /zendaya/replay.html   \n",
       "15306                    /jorge-ben-jor/brother.html   \n",
       "15331                 /jorge-ben-jor/jorge-well.html   \n",
       "\n",
       "                                                   Lyric    Idiom  \\\n",
       "0      It starts with pain, followed by hate. Fueled ...  ENGLISH   \n",
       "1      You say you know just who I am. But you can't ...  ENGLISH   \n",
       "2      We walk alone. In the unknown. We live to win ...  ENGLISH   \n",
       "3      A hundred days have made me older,. Since the ...  ENGLISH   \n",
       "4      There's another world inside of me that you ma...  ENGLISH   \n",
       "...                                                  ...      ...   \n",
       "14394  Verse 1:. If there's a time when the tears sho...  ENGLISH   \n",
       "14395  You'Re Still My Man. On the day that you left ...  ENGLISH   \n",
       "14441  Make it stop, sounds so good. I just can't tak...  ENGLISH   \n",
       "15306  Brother, Brother, Prepare one more happy way f...  ENGLISH   \n",
       "15331  Mama. Mama. Mama. Take it easy, girl. I am her...  ENGLISH   \n",
       "\n",
       "                           id  popularity  explicit  \\\n",
       "0      471eQ7hcJ7JdGY1NzMmUeg          55         0   \n",
       "1      6FFwt1ea9hJ4MfMQLywahm          59         0   \n",
       "2      4lhqal0Hq63U2wETCeBdG1          58         0   \n",
       "3      3NLrRZoMF0Lx6zTlYqeIo4          76         0   \n",
       "4      3WbphvawbMZ8FyqDxYGdSQ          70         0   \n",
       "...                       ...         ...       ...   \n",
       "14394  3KFbjIFQxMbOKdZ4S3lv4S          34         0   \n",
       "14395  2csRQWI7A2FjLYBQBiAIoi          42         0   \n",
       "14441  7d1CFwrBmH34gmS0Hkbfbt          67         0   \n",
       "15306  1LLRVZB4fz7bduFEZ22DE4          48         0   \n",
       "15331  3a4IBVbcJt9arG1i5mdjxY          14         0   \n",
       "\n",
       "                       id_artists release_date  ...  key  loudness  mode  \\\n",
       "0      ['0DrXhci3WAyo0WJv1RBOG6']   2007-01-01  ...    4    -4.949     0   \n",
       "1      ['0DrXhci3WAyo0WJv1RBOG6']   2007-01-01  ...    5    -3.424     1   \n",
       "2      ['0DrXhci3WAyo0WJv1RBOG6']   2010-01-01  ...    5    -4.041     0   \n",
       "3      ['2RTUTCvo6onsAnheUk3aL9']   2002-11-12  ...   10    -6.817     0   \n",
       "4      ['2RTUTCvo6onsAnheUk3aL9']   2002-11-12  ...    7    -5.611     1   \n",
       "...                           ...          ...  ...  ...       ...   ...   \n",
       "14394  ['6XpaIBNiVzIetEPCWDvAFP']   1998-11-17  ...    9    -6.943     1   \n",
       "14395  ['6XpaIBNiVzIetEPCWDvAFP']   1987-06-02  ...   10    -9.496     1   \n",
       "14441  ['6sCbFbEjbYepqswM1vWjjs']   2013-01-01  ...    6    -6.682     0   \n",
       "15306  ['5JYtpnUKxAzXfHEYpOeeit']   1974-01-01  ...    2   -11.125     1   \n",
       "15331  ['5JYtpnUKxAzXfHEYpOeeit']   1965-02-26  ...    0    -5.899     1   \n",
       "\n",
       "       speechiness  acousticness  instrumentalness  liveness  valence  \\\n",
       "0           0.0443      0.472000          0.000000     0.360    0.394   \n",
       "1           0.0626      0.000651          0.000000     0.339    0.468   \n",
       "2           0.1140      0.000119          0.000016     0.233    0.306   \n",
       "3           0.0252      0.049200          0.000000     0.205    0.233   \n",
       "4           0.0284      0.003850          0.000000     0.103    0.374   \n",
       "...            ...           ...               ...       ...      ...   \n",
       "14394       0.0254      0.105000          0.000000     0.272    0.194   \n",
       "14395       0.0295      0.684000          0.000004     0.226    0.308   \n",
       "14441       0.1210      0.041600          0.000200     0.302    0.618   \n",
       "15306       0.0378      0.416000          0.000000     0.233    0.972   \n",
       "15331       0.0438      0.342000          0.000000     0.341    0.845   \n",
       "\n",
       "         tempo  time_signature  \n",
       "0      186.227               3  \n",
       "1       93.977               3  \n",
       "2      127.102               4  \n",
       "3      143.994               4  \n",
       "4      148.095               4  \n",
       "...        ...             ...  \n",
       "14394  103.907               4  \n",
       "14395  131.743               4  \n",
       "14441  140.023               4  \n",
       "15306  132.249               4  \n",
       "15331  150.565               4  \n",
       "\n",
       "[12780 rows x 22 columns]"
      ]
     },
     "execution_count": 7,
     "metadata": {},
     "output_type": "execute_result"
    }
   ],
   "source": [
    "df_merged"
   ]
  },
  {
   "cell_type": "code",
   "execution_count": 8,
   "id": "ee85a394",
   "metadata": {
    "scrolled": true
   },
   "outputs": [
    {
     "name": "stderr",
     "output_type": "stream",
     "text": [
      "/Users/dylansivori/.local/share/virtualenvs/Spotify-Song-Suggester-AdyWyJ8v/lib/python3.8/site-packages/ipykernel/ipkernel.py:283: DeprecationWarning: `should_run_async` will not call `transform_cell` automatically in the future. Please pass the result to `transformed_cell` argument and any exception that happen during thetransform in `preprocessing_exc_tuple` in IPython 7.17 and above.\n",
      "  and should_run_async(code)\n"
     ]
    },
    {
     "data": {
      "text/html": [
       "<div>\n",
       "<style scoped>\n",
       "    .dataframe tbody tr th:only-of-type {\n",
       "        vertical-align: middle;\n",
       "    }\n",
       "\n",
       "    .dataframe tbody tr th {\n",
       "        vertical-align: top;\n",
       "    }\n",
       "\n",
       "    .dataframe thead th {\n",
       "        text-align: right;\n",
       "    }\n",
       "</style>\n",
       "<table border=\"1\" class=\"dataframe\">\n",
       "  <thead>\n",
       "    <tr style=\"text-align: right;\">\n",
       "      <th></th>\n",
       "      <th>Artist</th>\n",
       "      <th>name</th>\n",
       "      <th>SLink</th>\n",
       "      <th>Lyric</th>\n",
       "      <th>Idiom</th>\n",
       "      <th>id</th>\n",
       "      <th>popularity</th>\n",
       "      <th>explicit</th>\n",
       "      <th>id_artists</th>\n",
       "      <th>release_date</th>\n",
       "      <th>...</th>\n",
       "      <th>key</th>\n",
       "      <th>loudness</th>\n",
       "      <th>mode</th>\n",
       "      <th>speechiness</th>\n",
       "      <th>acousticness</th>\n",
       "      <th>instrumentalness</th>\n",
       "      <th>liveness</th>\n",
       "      <th>valence</th>\n",
       "      <th>tempo</th>\n",
       "      <th>time_signature</th>\n",
       "    </tr>\n",
       "  </thead>\n",
       "  <tbody>\n",
       "    <tr>\n",
       "      <th>3776</th>\n",
       "      <td>john lennon</td>\n",
       "      <td>imagine</td>\n",
       "      <td>/john-lennon/imagine.html</td>\n",
       "      <td>Imagine there's no heaven. It's easy if you tr...</td>\n",
       "      <td>ENGLISH</td>\n",
       "      <td>4lwh5BoHBFGjKNAF3sNNCK</td>\n",
       "      <td>25</td>\n",
       "      <td>0</td>\n",
       "      <td>['4x1nvY2FN8jxqAFA0DA02H']</td>\n",
       "      <td>1971-09-09</td>\n",
       "      <td>...</td>\n",
       "      <td>0</td>\n",
       "      <td>-11.407</td>\n",
       "      <td>1</td>\n",
       "      <td>0.029</td>\n",
       "      <td>0.947</td>\n",
       "      <td>0.00003</td>\n",
       "      <td>0.0689</td>\n",
       "      <td>0.218</td>\n",
       "      <td>74.4</td>\n",
       "      <td>4</td>\n",
       "    </tr>\n",
       "  </tbody>\n",
       "</table>\n",
       "<p>1 rows × 22 columns</p>\n",
       "</div>"
      ],
      "text/plain": [
       "           Artist     name                      SLink  \\\n",
       "3776  john lennon  imagine  /john-lennon/imagine.html   \n",
       "\n",
       "                                                  Lyric    Idiom  \\\n",
       "3776  Imagine there's no heaven. It's easy if you tr...  ENGLISH   \n",
       "\n",
       "                          id  popularity  explicit  \\\n",
       "3776  4lwh5BoHBFGjKNAF3sNNCK          25         0   \n",
       "\n",
       "                      id_artists release_date  ...  key  loudness  mode  \\\n",
       "3776  ['4x1nvY2FN8jxqAFA0DA02H']   1971-09-09  ...    0   -11.407     1   \n",
       "\n",
       "      speechiness  acousticness  instrumentalness  liveness  valence  tempo  \\\n",
       "3776        0.029         0.947           0.00003    0.0689    0.218   74.4   \n",
       "\n",
       "      time_signature  \n",
       "3776               4  \n",
       "\n",
       "[1 rows x 22 columns]"
      ]
     },
     "execution_count": 8,
     "metadata": {},
     "output_type": "execute_result"
    }
   ],
   "source": [
    "# user selects what song\n",
    "user_selected_song = 'imagine'\n",
    "user_selected_artist = 'john lennon'\n",
    "\n",
    "song_row = df_merged[(df_merged['name'] == user_selected_song) & (df_merged['Artist'] == user_selected_artist)]\n",
    "song_row"
   ]
  },
  {
   "cell_type": "markdown",
   "id": "03da7bc3",
   "metadata": {},
   "source": [
    "# Natural Language Processing"
   ]
  },
  {
   "cell_type": "code",
   "execution_count": 9,
   "id": "2a149ce9",
   "metadata": {},
   "outputs": [
    {
     "name": "stderr",
     "output_type": "stream",
     "text": [
      "/Users/dylansivori/.local/share/virtualenvs/Spotify-Song-Suggester-AdyWyJ8v/lib/python3.8/site-packages/ipykernel/ipkernel.py:283: DeprecationWarning: `should_run_async` will not call `transform_cell` automatically in the future. Please pass the result to `transformed_cell` argument and any exception that happen during thetransform in `preprocessing_exc_tuple` in IPython 7.17 and above.\n",
      "  and should_run_async(code)\n"
     ]
    }
   ],
   "source": [
    "# df_merged = df_merged[df_merged['Idiom'] == 'ENGLISH']"
   ]
  },
  {
   "cell_type": "code",
   "execution_count": 10,
   "id": "0e908925",
   "metadata": {},
   "outputs": [
    {
     "name": "stderr",
     "output_type": "stream",
     "text": [
      "/Users/dylansivori/.local/share/virtualenvs/Spotify-Song-Suggester-AdyWyJ8v/lib/python3.8/site-packages/ipykernel/ipkernel.py:283: DeprecationWarning: `should_run_async` will not call `transform_cell` automatically in the future. Please pass the result to `transformed_cell` argument and any exception that happen during thetransform in `preprocessing_exc_tuple` in IPython 7.17 and above.\n",
      "  and should_run_async(code)\n",
      "<>:12: DeprecationWarning: invalid escape sequence \\>\n",
      "<>:12: DeprecationWarning: invalid escape sequence \\>\n",
      "<ipython-input-10-2a9d641a4093>:12: DeprecationWarning: invalid escape sequence \\>\n",
      "  special_chars_regex = '[:?,\\>$|!\\'\"]'\n"
     ]
    }
   ],
   "source": [
    "import re\n",
    "def clean_data(text):\n",
    "    \"\"\"\n",
    "    Accepts a single text document and performs several regex substitutions in order to clean the document.\n",
    "    Parameters\n",
    "    ----------\n",
    "    text: string or object\n",
    "    Returns\n",
    "    -------\n",
    "    text: string or object\n",
    "    \"\"\"\n",
    "    special_chars_regex = '[:?,\\>$|!\\'\"]'\n",
    "    white_spaces_regex = '[ ]{2,}'\n",
    "    text = re.sub('[^a-zA-Z ]', \"\", text)\n",
    "    text = re.sub(special_chars_regex, \" \", text)\n",
    "    text = re.sub(white_spaces_regex, \" \", text)\n",
    "    return text.lower()"
   ]
  },
  {
   "cell_type": "code",
   "execution_count": 11,
   "id": "b091290b",
   "metadata": {},
   "outputs": [
    {
     "name": "stderr",
     "output_type": "stream",
     "text": [
      "/Users/dylansivori/.local/share/virtualenvs/Spotify-Song-Suggester-AdyWyJ8v/lib/python3.8/site-packages/ipykernel/ipkernel.py:283: DeprecationWarning: `should_run_async` will not call `transform_cell` automatically in the future. Please pass the result to `transformed_cell` argument and any exception that happen during thetransform in `preprocessing_exc_tuple` in IPython 7.17 and above.\n",
      "  and should_run_async(code)\n"
     ]
    }
   ],
   "source": [
    "def tokenize(doc):\n",
    "# run the clean_data function on the text\n",
    "    text = clean_data(doc)\n",
    "# Instantiatie language model\n",
    "    doc = nlp(text)\n",
    "    STOP_WORDS = nlp.Defaults.stop_words.union('', 'the', 'this', '-pron-', 'wo', 've', 'nt')\n",
    "    return [token.lemma_.lower().lstrip().rstrip() for token in doc\n",
    "            if (token.text not in STOP_WORDS)\n",
    "            and (token.is_punct != True)\n",
    "            and (token.text not in '')\n",
    "            and (len(token.text)>2)]"
   ]
  },
  {
   "cell_type": "code",
   "execution_count": 12,
   "id": "a4e3c12a",
   "metadata": {},
   "outputs": [
    {
     "name": "stderr",
     "output_type": "stream",
     "text": [
      "/Users/dylansivori/.local/share/virtualenvs/Spotify-Song-Suggester-AdyWyJ8v/lib/python3.8/site-packages/ipykernel/ipkernel.py:283: DeprecationWarning: `should_run_async` will not call `transform_cell` automatically in the future. Please pass the result to `transformed_cell` argument and any exception that happen during thetransform in `preprocessing_exc_tuple` in IPython 7.17 and above.\n",
      "  and should_run_async(code)\n"
     ]
    }
   ],
   "source": [
    "%%capture\n",
    "!pip install ipywidgets\n",
    "!jupyter nbextension enable --py widgetsnbextension\n",
    "!jupyter labextension install @jupyter-widgets/jupyterlab-manager\n",
    "!pip install pandarallel"
   ]
  },
  {
   "cell_type": "code",
   "execution_count": 13,
   "id": "db939340",
   "metadata": {},
   "outputs": [
    {
     "name": "stdout",
     "output_type": "stream",
     "text": [
      "INFO: Pandarallel will run on 7 workers.\n",
      "INFO: Pandarallel will use standard multiprocessing data transfer (pipe) to transfer data between the main process and workers.\n"
     ]
    },
    {
     "name": "stderr",
     "output_type": "stream",
     "text": [
      "/Users/dylansivori/.local/share/virtualenvs/Spotify-Song-Suggester-AdyWyJ8v/lib/python3.8/site-packages/ipykernel/ipkernel.py:283: DeprecationWarning: `should_run_async` will not call `transform_cell` automatically in the future. Please pass the result to `transformed_cell` argument and any exception that happen during thetransform in `preprocessing_exc_tuple` in IPython 7.17 and above.\n",
      "  and should_run_async(code)\n"
     ]
    }
   ],
   "source": [
    "from pandarallel import pandarallel\n",
    "pandarallel.initialize(progress_bar=True, nb_workers=7)"
   ]
  },
  {
   "cell_type": "code",
   "execution_count": 14,
   "id": "67d2ff31",
   "metadata": {
    "scrolled": false
   },
   "outputs": [
    {
     "name": "stderr",
     "output_type": "stream",
     "text": [
      "/Users/dylansivori/.local/share/virtualenvs/Spotify-Song-Suggester-AdyWyJ8v/lib/python3.8/site-packages/ipykernel/ipkernel.py:283: DeprecationWarning: `should_run_async` will not call `transform_cell` automatically in the future. Please pass the result to `transformed_cell` argument and any exception that happen during thetransform in `preprocessing_exc_tuple` in IPython 7.17 and above.\n",
      "  and should_run_async(code)\n"
     ]
    },
    {
     "data": {
      "application/vnd.jupyter.widget-view+json": {
       "model_id": "caecfce8851d41b3915f14527a76433b",
       "version_major": 2,
       "version_minor": 0
      },
      "text/plain": [
       "VBox(children=(HBox(children=(IntProgress(value=0, description='0.00%', max=1826), Label(value='0 / 1826'))), …"
      ]
     },
     "metadata": {},
     "output_type": "display_data"
    }
   ],
   "source": [
    "lemmas = df_merged['Lyric'].parallel_apply(tokenize)"
   ]
  },
  {
   "cell_type": "code",
   "execution_count": 15,
   "id": "2ad475df",
   "metadata": {},
   "outputs": [
    {
     "name": "stderr",
     "output_type": "stream",
     "text": [
      "/Users/dylansivori/.local/share/virtualenvs/Spotify-Song-Suggester-AdyWyJ8v/lib/python3.8/site-packages/ipykernel/ipkernel.py:283: DeprecationWarning: `should_run_async` will not call `transform_cell` automatically in the future. Please pass the result to `transformed_cell` argument and any exception that happen during thetransform in `preprocessing_exc_tuple` in IPython 7.17 and above.\n",
      "  and should_run_async(code)\n"
     ]
    },
    {
     "data": {
      "text/plain": [
       "0        [start, pain, follow, hate, fuel, endless, que...\n",
       "1        [know, imagine, wait, line, think, stand, tire...\n",
       "2        [walk, unknown, live, win, victory, young, die...\n",
       "3        [day, old, time, see, pretty, face, thousand, ...\n",
       "4        [world, inside, secret, life, hide, darkness, ...\n",
       "                               ...                        \n",
       "14394    [verse, time, tear, fill, eye, past, shadow, s...\n",
       "14395    [man, day, leave, say, regret, bond, break, fe...\n",
       "14441    [stop, sound, good, turn, turn, know, know, st...\n",
       "15306    [brother, brother, prepare, happy, way, lord, ...\n",
       "15331    [mama, mama, mama, easy, girl, easy, girl, jor...\n",
       "Name: Lyric, Length: 12780, dtype: object"
      ]
     },
     "execution_count": 15,
     "metadata": {},
     "output_type": "execute_result"
    }
   ],
   "source": [
    "lemmas"
   ]
  },
  {
   "cell_type": "code",
   "execution_count": 16,
   "id": "327e1778",
   "metadata": {},
   "outputs": [
    {
     "name": "stderr",
     "output_type": "stream",
     "text": [
      "/Users/dylansivori/.local/share/virtualenvs/Spotify-Song-Suggester-AdyWyJ8v/lib/python3.8/site-packages/ipykernel/ipkernel.py:283: DeprecationWarning: `should_run_async` will not call `transform_cell` automatically in the future. Please pass the result to `transformed_cell` argument and any exception that happen during thetransform in `preprocessing_exc_tuple` in IPython 7.17 and above.\n",
      "  and should_run_async(code)\n"
     ]
    }
   ],
   "source": [
    "# prepare data for LDA model\n",
    "id2words = corpora.Dictionary(lemmas)\n",
    "corpus = [id2words.doc2bow(lemma) for lemma in lemmas]"
   ]
  },
  {
   "cell_type": "code",
   "execution_count": 17,
   "id": "eab7a9ce",
   "metadata": {},
   "outputs": [
    {
     "name": "stderr",
     "output_type": "stream",
     "text": [
      "/Users/dylansivori/.local/share/virtualenvs/Spotify-Song-Suggester-AdyWyJ8v/lib/python3.8/site-packages/ipykernel/ipkernel.py:283: DeprecationWarning: `should_run_async` will not call `transform_cell` automatically in the future. Please pass the result to `transformed_cell` argument and any exception that happen during thetransform in `preprocessing_exc_tuple` in IPython 7.17 and above.\n",
      "  and should_run_async(code)\n"
     ]
    }
   ],
   "source": [
    "# train LDA model to generate topics\n",
    "\n",
    "lda_multicore = gensim.models.ldamulticore.LdaMulticore(corpus=corpus,\n",
    "                                                        id2word=id2words,\n",
    "                                                        num_topics=5,\n",
    "                                                        chunksize=100,\n",
    "                                                        passes=10,\n",
    "                                                        per_word_topics=True,\n",
    "                                                        workers=6)"
   ]
  },
  {
   "cell_type": "code",
   "execution_count": 18,
   "id": "2797e2c2",
   "metadata": {},
   "outputs": [
    {
     "name": "stderr",
     "output_type": "stream",
     "text": [
      "/Users/dylansivori/.local/share/virtualenvs/Spotify-Song-Suggester-AdyWyJ8v/lib/python3.8/site-packages/ipykernel/ipkernel.py:283: DeprecationWarning: `should_run_async` will not call `transform_cell` automatically in the future. Please pass the result to `transformed_cell` argument and any exception that happen during thetransform in `preprocessing_exc_tuple` in IPython 7.17 and above.\n",
      "  and should_run_async(code)\n"
     ]
    },
    {
     "data": {
      "text/plain": [
       "[(1, 0.6396251), (3, 0.3549936)]"
      ]
     },
     "execution_count": 18,
     "metadata": {},
     "output_type": "execute_result"
    }
   ],
   "source": [
    "all_topics = lda_multicore.get_document_topics(corpus[3800], per_word_topics=True)\n",
    "# for doc_topics, word_topics, phi_values in all_topics:\n",
    "#     print('New Document \\n')\n",
    "#     print('Document topics:', doc_topics)\n",
    "#     print('Word topics:', word_topics)\n",
    "#     print('Phi values:', phi_values)\n",
    "#     print(\" \")\n",
    "#     print('-------------- \\n')\n",
    "all_topics[0]"
   ]
  },
  {
   "cell_type": "code",
   "execution_count": 19,
   "id": "2aad182b",
   "metadata": {
    "scrolled": false
   },
   "outputs": [
    {
     "name": "stderr",
     "output_type": "stream",
     "text": [
      "/Users/dylansivori/.local/share/virtualenvs/Spotify-Song-Suggester-AdyWyJ8v/lib/python3.8/site-packages/ipykernel/ipkernel.py:283: DeprecationWarning: `should_run_async` will not call `transform_cell` automatically in the future. Please pass the result to `transformed_cell` argument and any exception that happen during thetransform in `preprocessing_exc_tuple` in IPython 7.17 and above.\n",
      "  and should_run_async(code)\n"
     ]
    }
   ],
   "source": [
    "# display the print_topics from the model \n",
    "doc_topics = lda_multicore.get_document_topics(corpus, per_word_topics=True)"
   ]
  },
  {
   "cell_type": "code",
   "execution_count": 20,
   "id": "0d029dd5",
   "metadata": {
    "scrolled": true
   },
   "outputs": [
    {
     "name": "stderr",
     "output_type": "stream",
     "text": [
      "/Users/dylansivori/.local/share/virtualenvs/Spotify-Song-Suggester-AdyWyJ8v/lib/python3.8/site-packages/ipykernel/ipkernel.py:283: DeprecationWarning: `should_run_async` will not call `transform_cell` automatically in the future. Please pass the result to `transformed_cell` argument and any exception that happen during thetransform in `preprocessing_exc_tuple` in IPython 7.17 and above.\n",
      "  and should_run_async(code)\n"
     ]
    },
    {
     "data": {
      "text/plain": [
       "130"
      ]
     },
     "execution_count": 20,
     "metadata": {},
     "output_type": "execute_result"
    }
   ],
   "source": [
    "len(lemmas[0])"
   ]
  },
  {
   "cell_type": "code",
   "execution_count": 21,
   "id": "5305d6e1",
   "metadata": {
    "scrolled": false
   },
   "outputs": [
    {
     "name": "stderr",
     "output_type": "stream",
     "text": [
      "/Users/dylansivori/.local/share/virtualenvs/Spotify-Song-Suggester-AdyWyJ8v/lib/python3.8/site-packages/ipykernel/ipkernel.py:283: DeprecationWarning: `should_run_async` will not call `transform_cell` automatically in the future. Please pass the result to `transformed_cell` argument and any exception that happen during thetransform in `preprocessing_exc_tuple` in IPython 7.17 and above.\n",
      "  and should_run_async(code)\n"
     ]
    },
    {
     "data": {
      "text/html": [
       "\n",
       "<link rel=\"stylesheet\" type=\"text/css\" href=\"https://cdn.jsdelivr.net/gh/bmabey/pyLDAvis@3.3.1/pyLDAvis/js/ldavis.v1.0.0.css\">\n",
       "\n",
       "\n",
       "<div id=\"ldavis_el2315140559412233488265058179\"></div>\n",
       "<script type=\"text/javascript\">\n",
       "\n",
       "var ldavis_el2315140559412233488265058179_data = {\"mdsDat\": {\"x\": [-0.02936064319250367, -0.125026893342846, 0.20298593247763577, -0.16763906386698185, 0.11904066792469596], \"y\": [-0.0969845467610714, -0.11206099832974879, -0.04566610963626903, 0.1322368853268845, 0.12247476940020487], \"topics\": [1, 2, 3, 4, 5], \"cluster\": [1, 1, 1, 1, 1], \"Freq\": [35.491256130266024, 19.65014673202035, 16.33309617291584, 14.280885231240608, 14.244615733557167]}, \"tinfo\": {\"Term\": [\"love\", \"girl\", \"get\", \"baby\", \"yeah\", \"wanna\", \"boy\", \"sky\", \"hey\", \"know\", \"come\", \"gon\", \"night\", \"sun\", \"fuck\", \"want\", \"shit\", \"light\", \"dream\", \"bitch\", \"rain\", \"feel\", \"away\", \"fly\", \"die\", \"nigga\", \"little\", \"say\", \"rock\", \"good\", \"hallelujah\", \"loves\", \"refro\", \"heartbreaker\", \"oooooh\", \"emotional\", \"shoop\", \"loving\", \"addicted\", \"lea\", \"wonderland\", \"unconditional\", \"daa\", \"incomplete\", \"dudu\", \"mistletoe\", \"iiiohh\", \"oooooooh\", \"christine\", \"lovegame\", \"amo\", \"shada\", \"intermediate\", \"jude\", \"mandy\", \"physical\", \"dodo\", \"awella\", \"curious\", \"anti\", \"love\", \"dada\", \"darling\", \"darle\", \"last\", \"baby\", \"babe\", \"lately\", \"somebody\", \"rumour\", \"want\", \"alright\", \"know\", \"ohh\", \"everytime\", \"wanna\", \"feel\", \"need\", \"someday\", \"christmas\", \"maybe\", \"feeling\", \"lonely\", \"way\", \"stay\", \"heart\", \"tonight\", \"tell\", \"cause\", \"think\", \"forever\", \"thing\", \"ill\", \"miss\", \"time\", \"let\", \"hold\", \"gon\", \"right\", \"yeah\", \"try\", \"find\", \"get\", \"good\", \"like\", \"believe\", \"wait\", \"come\", \"away\", \"day\", \"look\", \"go\", \"night\", \"suffer\", \"suicide\", \"masquerade\", \"wound\", \"side\", \"greed\", \"ooohhh\", \"justify\", \"nightmare\", \"bruise\", \"underwater\", \"thief\", \"skull\", \"warrior\", \"rot\", \"tragedy\", \"battlefield\", \"breed\", \"guilt\", \"funeral\", \"consume\", \"invincible\", \"justice\", \"ignorance\", \"philosophy\", \"ghoul\", \"crucify\", \"doooo\", \"terror\", \"insanity\", \"bury\", \"bleed\", \"victim\", \"anger\", \"liar\", \"fate\", \"death\", \"legend\", \"vein\", \"scar\", \"hero\", \"final\", \"human\", \"dead\", \"madness\", \"blood\", \"ashe\", \"kill\", \"animal\", \"save\", \"die\", \"burn\", \"survive\", \"sin\", \"war\", \"fight\", \"edge\", \"knife\", \"crawl\", \"fear\", \"breathe\", \"fire\", \"scream\", \"alive\", \"faith\", \"life\", \"inside\", \"end\", \"pain\", \"cut\", \"live\", \"god\", \"hate\", \"eye\", \"lie\", \"lose\", \"run\", \"soul\", \"world\", \"face\", \"leave\", \"head\", \"break\", \"fall\", \"like\", \"time\", \"away\", \"take\", \"try\", \"ill\", \"feel\", \"go\", \"know\", \"heart\", \"look\", \"bitch\", \"nigga\", \"shit\", \"ass\", \"boom\", \"imma\", \"fuckin\", \"bye\", \"wit\", \"hoe\", \"rap\", \"lil\", \"pop\", \"dem\", \"dick\", \"niggas\", \"niggaz\", \"nike\", \"eminem\", \"pussy\", \"boogie\", \"super\", \"dope\", \"homie\", \"kanye\", \"eheh\", \"hater\", \"dre\", \"ghetto\", \"bang\", \"tha\", \"clap\", \"fuck\", \"hook\", \"motherfucker\", \"rock\", \"sex\", \"hey\", \"verse\", \"club\", \"money\", \"hit\", \"shake\", \"party\", \"roll\", \"get\", \"jump\", \"yeah\", \"like\", \"kid\", \"bout\", \"gon\", \"big\", \"cuz\", \"everybody\", \"man\", \"wanna\", \"cause\", \"body\", \"chorus\", \"know\", \"let\", \"work\", \"come\", \"right\", \"want\", \"look\", \"good\", \"tell\", \"need\", \"sail\", \"aaah\", \"starlight\", \"rainbow\", \"ayo\", \"dreamland\", \"uette\", \"eee\", \"aahh\", \"raoul\", \"river\", \"thunder\", \"gloria\", \"popular\", \"bedum\", \"sailing\", \"ancient\", \"arise\", \"roxanne\", \"autumn\", \"soar\", \"stamina\", \"nightingale\", \"infinity\", \"balloon\", \"meadow\", \"northern\", \"elaine\", \"thy\", \"jolene\", \"sky\", \"garden\", \"sea\", \"mountain\", \"satellite\", \"butterfly\", \"wing\", \"shore\", \"dove\", \"bird\", \"sun\", \"shine\", \"wind\", \"moon\", \"bright\", \"treasure\", \"rain\", \"spring\", \"fly\", \"angel\", \"winter\", \"echo\", \"sing\", \"star\", \"travel\", \"tree\", \"cloud\", \"light\", \"ship\", \"king\", \"heaven\", \"water\", \"earth\", \"song\", \"dream\", \"land\", \"high\", \"come\", \"cold\", \"day\", \"night\", \"away\", \"child\", \"music\", \"dark\", \"eye\", \"hand\", \"free\", \"like\", \"hear\", \"turn\", \"let\", \"time\", \"love\", \"world\", \"fall\", \"go\", \"home\", \"doo\", \"bop\", \"hump\", \"yeh\", \"friday\", \"papa\", \"phresh\", \"banana\", \"daddys\", \"annie\", \"mum\", \"woh\", \"dum\", \"gypsy\", \"san\", \"runway\", \"seventeen\", \"bbboy\", \"broadway\", \"romeo\", \"celebration\", \"spanish\", \"cab\", \"tuesday\", \"lily\", \"mommy\", \"texas\", \"oooo\", \"motel\", \"vegas\", \"saturday\", \"hmm\", \"mama\", \"california\", \"johnny\", \"ticket\", \"avenue\", \"gimme\", \"daddy\", \"lady\", \"wild\", \"boy\", \"town\", \"train\", \"woman\", \"monkey\", \"york\", \"city\", \"pretty\", \"girl\", \"oooh\", \"marry\", \"old\", \"dance\", \"street\", \"sister\", \"round\", \"little\", \"man\", \"car\", \"blue\", \"say\", \"home\", \"honey\", \"drive\", \"good\", \"night\", \"get\", \"go\", \"play\", \"look\", \"come\", \"like\", \"baby\", \"sweet\", \"big\", \"know\", \"gon\", \"way\"], \"Freq\": [21737.0, 7135.0, 15959.0, 10793.0, 10133.0, 6693.0, 3312.0, 1985.0, 3436.0, 21533.0, 13234.0, 7991.0, 6635.0, 2123.0, 1951.0, 10258.0, 1669.0, 3482.0, 3735.0, 1427.0, 1843.0, 10069.0, 6716.0, 1989.0, 2920.0, 1248.0, 4275.0, 5482.0, 1637.0, 5779.0, 129.05774029708368, 81.58234200393545, 69.82512707248355, 60.76528167052387, 62.27559132806892, 51.56317973928741, 41.46783664162646, 92.89675324466074, 53.98328830594879, 36.577375323583645, 32.85227121608204, 32.056521685327944, 29.17127272075747, 32.563168423175924, 28.462980499230124, 30.91318889076586, 27.838174126070495, 27.89892896018076, 26.46967937387826, 27.627459579666983, 25.76989945348521, 24.82301517535448, 30.983880263165187, 23.475215235684594, 23.52247530446133, 65.52061868566184, 23.580474720731758, 23.764532531639485, 25.77223690582559, 22.6349752490483, 20045.408226571326, 74.12656932749037, 322.6838003769451, 176.3205219064988, 86.70627096383544, 8923.283222029739, 741.1156042298899, 194.62985864119227, 1047.0988028845104, 97.90599247150875, 8291.17736059144, 1238.0652648982045, 16397.917227260987, 371.2975852767071, 269.472836607041, 5303.229635752306, 7769.60608102938, 5359.467590839632, 372.10086134090807, 256.88663048118735, 1324.3522202551546, 1122.4022936604365, 1152.7086975885968, 6010.46950532234, 2098.7147876197946, 4708.965544167539, 2435.455704617208, 5441.634472578232, 5428.4364280503, 5118.682720039881, 1314.1828578333818, 3784.040914713026, 5433.940626753294, 1204.0640585726394, 7370.284379027876, 6051.060548134254, 2670.9033357928733, 5026.472856028719, 3937.9396348157993, 6026.794348174509, 3210.123017725032, 3168.528201587441, 7836.985677769465, 3422.0800919653398, 7963.256001418961, 2015.6557750834932, 2268.485723906158, 5706.393617306164, 3356.6702893400256, 3148.6958048816264, 3168.130891469795, 3158.3869012115792, 3045.5146903453942, 137.22866535169132, 117.109302434172, 101.26847019469672, 165.7110882293659, 97.84338498061136, 82.8219414242099, 81.65610970095946, 82.48184866379214, 118.16332312602508, 111.04370243349972, 72.61770552235906, 211.78431697550332, 67.09977348834695, 70.84805231352486, 61.8795850443477, 65.52755180455623, 59.50101755131125, 59.355023990914994, 62.74641569644493, 56.391811599685326, 56.0201141466064, 55.18357831098245, 54.37015567731901, 54.42445441156056, 52.754309876967156, 50.96934683524902, 56.11691225038909, 53.228355815862194, 49.8045071248982, 48.52988931099361, 236.7814352644818, 540.5034538909467, 202.26100711115956, 128.58205736639667, 209.88859429634127, 262.8148996492849, 516.6688210281841, 91.61925153817086, 180.91599129814014, 199.70267570310173, 264.91411072098316, 146.82300892845296, 346.7101291708208, 1021.7542846718422, 152.87154910165432, 730.505277364698, 112.5205162287685, 1147.8743895735836, 189.63299028326986, 1149.9168742738389, 2198.548281399567, 1587.6078318078676, 301.21457328855394, 306.252210401004, 514.551614004166, 1309.3353033246208, 376.5495418631001, 222.7799276750232, 314.3589118726771, 692.1047095166181, 626.44379485112, 1119.6766324820621, 645.1014058030295, 791.6923535730347, 381.6057058643516, 2914.12278658409, 1370.3648311180823, 1340.18550730155, 954.9512976906401, 538.5906853563265, 1791.3390020362647, 917.3507672880851, 760.716736810373, 1875.6025338118006, 1375.9700672732674, 1403.5124810824818, 1520.1458129330135, 941.0065583886627, 1807.6089077988513, 1215.6071301659454, 1655.5490348292765, 1137.4887131151909, 1283.023991495848, 1333.7838664241344, 2312.722427243952, 1925.9954477993035, 1427.5678158573912, 1023.8183421596609, 1227.696497961354, 1440.0089430437974, 1543.7235284267872, 1345.0981787326732, 1658.5438519131674, 1232.9164418951314, 1199.5738544099502, 1426.5502536058668, 1248.0164138211767, 1667.71391296501, 860.7581933735428, 587.0547756474799, 450.4036777220373, 422.47307003881906, 357.49740087959583, 325.18259526601037, 308.1591882329202, 312.9967757084691, 244.630486722067, 373.53842518658666, 223.70950903120703, 206.48105471815455, 201.3253048455822, 193.81766638815012, 189.56118169621436, 176.2364647891, 170.70939770525476, 169.17169408053982, 167.74628101710465, 156.74983091373065, 138.98252359076824, 125.5789048247921, 118.45840111348276, 110.08193635855757, 109.22997280746823, 102.0872293169831, 358.2283289327373, 247.3188637465295, 194.12274041382577, 1819.473056137461, 370.4927948529828, 218.55866003947654, 1392.1815608349154, 287.4801654033388, 2323.786980566248, 661.9870139350486, 345.6197561420069, 1112.37062359525, 878.3475708496372, 860.9320236684271, 620.4638713042079, 865.9222817116234, 5194.665374964563, 465.2685370808258, 3375.468068861958, 4136.912768886553, 533.5491419467271, 584.5903526186445, 2024.6333118552693, 782.0691860379835, 473.6345032663646, 662.2268551462959, 1254.0576436953352, 1364.5158794402394, 1375.5222822802994, 646.4525223740271, 963.695551314665, 1958.4614793667781, 1403.647578035634, 661.7775070857895, 1256.1715724497446, 977.0923762055404, 1107.1781055029019, 732.4350623869219, 709.5362424859771, 710.7435779654107, 701.6576700615086, 295.4610978682986, 99.55001446274258, 75.75626686595088, 163.8354803022009, 73.33177469587798, 64.83285156193186, 59.53708991265899, 59.14286597891287, 57.381142393733384, 49.930925901833035, 642.2970270232332, 247.69413627408085, 48.8399419960642, 51.1643791599896, 47.16395083255247, 43.60247087937262, 46.123662072487335, 42.54058146859177, 42.10085629340384, 42.3320205729694, 40.693775334418525, 39.67705715161222, 38.965093713008656, 38.29320152502767, 38.822733518921645, 36.99263114332278, 37.10636393840626, 37.947108786201035, 37.1087908066733, 35.8312629806796, 1898.4243021592526, 163.86835979780201, 734.726142894504, 378.1518514108834, 96.58171086990323, 207.0535159549798, 432.4670722281575, 112.26818516145018, 95.3658600223781, 497.15491079543847, 1772.9580965634166, 1111.4626934725018, 873.2451223820829, 623.8314230125495, 543.6330733344726, 117.0937740853313, 1457.903073562691, 137.9942174575696, 1502.0682580208095, 725.169034116306, 227.6810838839541, 197.96114737278907, 1226.758472954035, 1149.5661905637141, 278.40994173261583, 468.6767591131961, 396.1555990355507, 2124.5942899164666, 205.56524660591458, 490.37243339896173, 673.0505047883402, 526.7291945935391, 403.09627981110884, 1130.8449022728464, 1704.563384263535, 444.248573318394, 1020.0087927826798, 3668.093555587631, 914.6072435289917, 2023.1506277157189, 1841.399762163996, 1746.0915478786555, 676.3997454650201, 669.1926168931145, 664.2881496734244, 1150.7008682525502, 954.3580053806721, 765.8610553022177, 1553.5547455562503, 964.0063400354856, 908.5539232727637, 1125.9282093234763, 1029.0799592688807, 1071.8704193191977, 840.0682287985194, 762.175139963354, 772.7236295057671, 747.101830694004, 252.09008001023454, 193.91007339713468, 181.6066746750215, 151.1230544582917, 147.4377594537603, 139.66247623668582, 135.38104978396294, 109.59777973045175, 109.58318460299293, 102.55879587891967, 103.71795893037863, 93.21176632306138, 91.9432562930837, 128.10318593165616, 83.28648207124259, 81.72878392245556, 68.18166460440739, 65.83954672189141, 67.48655773253263, 68.66426601534282, 68.17192101480614, 63.848917186497914, 64.08466242533748, 62.43443056075323, 61.69583203217606, 59.82797476429965, 56.743217093070434, 61.49981572286961, 54.376421189698505, 53.8253259901161, 173.86102736561156, 120.92114754839027, 958.057711894767, 136.20829269527405, 151.85570757408726, 152.54738089411708, 115.38908781792067, 488.32513173246025, 446.21548471186236, 723.8538238509536, 717.9250217626148, 2349.9621001102137, 922.8866350590622, 501.49048363778, 986.13812941725, 184.58705844724784, 271.35700547106353, 838.7589834281699, 754.3492741224176, 3821.163426236413, 442.092994234215, 186.30729830697118, 1275.0576411619318, 1366.2846220776662, 784.5813841343886, 296.9238604736291, 906.1071609185747, 1651.8094753080532, 1873.6054995745067, 527.080512583181, 809.8825490720687, 1888.5225503720876, 1288.8645304532624, 487.66617337543664, 573.8839363889816, 1460.649727581063, 1506.591664113347, 2436.883022130491, 1474.9911570852785, 880.8424584783628, 1331.69718828477, 1808.7675624653612, 1588.3272948825495, 1252.550394835814, 654.6249917689082, 631.550834634931, 1081.5809042902642, 851.7645080529204, 715.3368326645457], \"Total\": [21737.0, 7135.0, 15959.0, 10793.0, 10133.0, 6693.0, 3312.0, 1985.0, 3436.0, 21533.0, 13234.0, 7991.0, 6635.0, 2123.0, 1951.0, 10258.0, 1669.0, 3482.0, 3735.0, 1427.0, 1843.0, 10069.0, 6716.0, 1989.0, 2920.0, 1248.0, 4275.0, 5482.0, 1637.0, 5779.0, 129.98837449778512, 82.37302598503761, 70.63114455949182, 61.5543214631039, 63.08857400516985, 52.362167742762274, 42.24683232452866, 94.75818355096365, 55.10500698608033, 37.39381807075905, 33.64109691523363, 32.83982007900224, 29.948792610428786, 33.45967065540418, 29.249400415693753, 31.76737058935425, 28.622036289625893, 28.69339346918428, 27.255168542109725, 28.45233649270925, 26.551817764619713, 25.597789182013383, 31.97225003235677, 24.25457382842832, 24.31723972524678, 67.7421763276307, 24.38353832524505, 24.575513910297552, 26.65866524825309, 23.442061572529152, 21737.73903811279, 76.77890270397381, 339.3238643135346, 187.14402283274885, 91.32912031379033, 10793.36127825128, 837.1164648244143, 212.59989404247983, 1205.9799808136447, 104.803344243635, 10258.411116337702, 1446.7226643503143, 21533.380164854825, 416.4489838149708, 298.74691629786975, 6693.453539560658, 10069.68388790269, 6927.603955922847, 425.6335449645564, 289.94224985146195, 1637.0755574607472, 1374.4515353894708, 1420.949843385396, 8365.772255870403, 2723.382585504671, 6531.401848155969, 3228.5748326417347, 7665.161896365213, 7828.478202228692, 7374.590572221338, 1686.9735227453148, 5349.383373607197, 7941.846700201082, 1541.0434094775342, 11507.587745917139, 9406.558911027108, 3904.8078340144734, 7991.2159116426565, 6204.08029426347, 10133.689657875626, 4939.8804214054335, 5108.990216601488, 15959.501358026444, 5779.897060148158, 17554.773237988265, 2960.865561990016, 3503.426643631439, 13234.447577232808, 6716.062950959764, 6519.872131806571, 6840.619053004575, 7111.377004023843, 6635.049531516878, 137.98315730242476, 117.8712088058735, 102.0136720237272, 166.98078200166117, 98.60635805153359, 83.57171648322044, 82.41635263157373, 83.26398215123444, 119.36704546723853, 112.17689185532565, 73.37567374935323, 214.00298649191652, 67.85087201611411, 71.67231760625903, 62.62321960140474, 66.33753157195697, 60.24455670627702, 60.117017612241256, 63.55344343276534, 57.14571459005078, 56.77331388904196, 55.93836191640134, 55.115373671435655, 55.17726961069215, 53.502930686015254, 51.7086412619685, 56.932995157070906, 54.01132179079573, 50.55962934017738, 49.27287315224133, 243.47538562181063, 567.1834773667634, 209.7471249071959, 132.61467188399996, 218.8917907674983, 276.98775842609246, 558.8698664551521, 94.14133759829136, 190.76589577166263, 211.78454899031905, 284.3520923564701, 154.35465913481107, 378.27115479182095, 1183.424781215078, 161.10208295321445, 854.6130434448711, 117.26591725515821, 1388.2348898262546, 205.9640280002998, 1441.087955968782, 2920.2475170064986, 2090.0718356001166, 342.81606805909814, 353.02213254776564, 644.0991248874376, 1907.2269411464188, 459.31398952131264, 251.59255448231852, 380.9084005233576, 981.827853371156, 879.7829590024376, 1841.3576051558703, 940.4001933139341, 1222.2149590058707, 495.53784032842367, 6826.6926879376615, 2590.339151423022, 2544.2380596928506, 1631.3959243559605, 805.1524002844136, 4298.444197128269, 1701.397836316478, 1314.3549202780425, 4783.744284541833, 3142.2846218336585, 3409.310767938011, 3863.3230711839487, 1891.8777938394937, 5198.698935672272, 2857.3357611702786, 5230.987738104199, 2884.756516414712, 3655.350163334142, 4221.598133349888, 17554.773237988265, 11507.587745917139, 6716.062950959764, 2900.875452211163, 4939.8804214054335, 7941.846700201082, 10069.68388790269, 7111.377004023843, 21533.380164854825, 6531.401848155969, 6840.619053004575, 1427.4132282801481, 1248.7998438687785, 1669.1559952733778, 861.5423076480648, 587.8573656608559, 451.1935647874257, 423.3491524871955, 358.3073784032, 325.96843080226824, 308.94122277448184, 313.79312072042933, 245.4156799621289, 374.7664483679148, 224.51580886114792, 207.2653844604122, 202.1089140006115, 194.60041969676044, 190.34137127129344, 177.01933848135064, 171.49395924228148, 169.95830017430842, 168.5441575167703, 157.56764994554064, 139.7753477881363, 126.36468145300444, 119.24979703625316, 110.86859765657215, 110.01446017881916, 102.87494011325784, 361.10084981480713, 250.60971974671617, 197.66404000089278, 1951.6704164475118, 384.09939074880106, 223.47620911137983, 1637.7648287445825, 311.90021707022487, 3436.0104192505014, 811.5236779961809, 386.26894871972286, 1580.9658412278948, 1280.0990437937883, 1274.4785373761792, 850.56827190698, 1368.3984314669565, 15959.501358026444, 633.2988547212807, 10133.689657875626, 17554.773237988265, 847.1335855047148, 981.8776221744672, 7991.2159116426565, 1710.731413986014, 701.4346878876162, 1379.5869011941936, 5207.259329540713, 6693.453539560658, 7828.478202228692, 1389.5949800710841, 3569.7377730793387, 21533.380164854825, 9406.558911027108, 1601.2062802740409, 13234.447577232808, 6204.08029426347, 10258.411116337702, 6840.619053004575, 5779.897060148158, 7665.161896365213, 6927.603955922847, 296.4017957105035, 100.3145936786387, 76.51982655814693, 165.6014624113378, 74.15565466625661, 65.59448815279877, 60.288799016608095, 59.90257680018529, 58.16712498655404, 50.68549140913791, 652.0304322055415, 251.53204074455533, 49.601986005087824, 51.970904698447, 47.91960140143038, 44.36202444765061, 46.94987648787182, 43.31087932967341, 42.86525531527809, 43.10771428775677, 41.455053160965484, 40.437926336992994, 39.725142526655276, 39.06117425970807, 39.61723166260031, 37.75082133768654, 37.8744750158234, 38.73497049105312, 37.88575268720433, 36.584189078307205, 1985.3227368506036, 167.6902761530423, 765.0240787853937, 398.25910328882867, 99.80946873762856, 218.3265648900326, 465.35990936822964, 117.0659296018755, 99.11383024150797, 554.026883152252, 2123.628748691463, 1328.79622178058, 1034.7721881018963, 730.7048125466027, 639.6499790099408, 125.59339964454277, 1843.0863863556729, 150.91407969622176, 1989.4337546977902, 910.5662374103268, 260.73141721113456, 225.11988101589174, 1677.0537203684871, 1563.5226219300057, 329.8986875622882, 595.867805844594, 498.0459384589695, 3482.862235553026, 239.2586454792739, 658.2898013327379, 976.8266104397302, 741.187385111892, 543.9202731954391, 2055.8114206149985, 3735.422391152493, 629.4211919433128, 2057.522283462677, 13234.447577232808, 1857.770238101087, 6519.872131806571, 6635.049531516878, 6716.062950959764, 1323.6116220022855, 1341.9776260550484, 1323.1693868557584, 4783.744284541833, 3582.8397945749525, 2120.4055490945693, 17554.773237988265, 4192.500296005306, 3928.3718439325053, 9406.558911027108, 11507.587745917139, 21737.73903811279, 5198.698935672272, 4221.598133349888, 7111.377004023843, 3424.4763761562663, 252.8472636046483, 194.6700151585949, 182.36466272717533, 151.88286124654053, 148.21240017282196, 140.43220737215265, 136.13351613954416, 110.36151006767834, 110.35055987631486, 103.31248244346627, 104.48287997575642, 93.97819636551642, 92.70315149331162, 129.23275151114805, 84.0427456508098, 82.484034637533, 68.9559107907606, 66.59200514365094, 68.26060937877823, 69.4546148148556, 68.98283796094319, 64.62207153971181, 64.86105294378561, 63.191041454349474, 62.46000946193825, 60.598876111226886, 57.51229677649296, 62.3383268107839, 55.13737019002933, 54.58554078965902, 176.87792969984392, 123.42432920531323, 1005.2959752118954, 139.3493685315943, 157.511467901734, 158.3444596393114, 119.06803401286497, 545.5941650674355, 508.5798252374992, 876.1076139724662, 897.5326900748337, 3312.9945043750977, 1189.564357875484, 611.8854028452743, 1313.324415777427, 204.3300391909502, 316.1181002558742, 1144.15410498527, 1042.1369141413452, 7135.771206659469, 579.5620655262755, 208.55559265808182, 2162.4988685584453, 2606.041408977975, 1378.438751483813, 394.17498432479385, 1814.4666345759301, 4275.341762360772, 5207.259329540713, 895.7109645491066, 1650.1104716902387, 5482.0988672674885, 3424.4763761562663, 870.4767036460668, 1204.4465064411943, 5779.897060148158, 6635.049531516878, 15959.501358026444, 7111.377004023843, 2919.1253463222956, 6840.619053004575, 13234.447577232808, 17554.773237988265, 10793.36127825128, 1681.0603848802198, 1710.731413986014, 21533.380164854825, 7991.2159116426565, 8365.772255870403], \"Category\": [\"Default\", \"Default\", \"Default\", \"Default\", \"Default\", \"Default\", \"Default\", \"Default\", \"Default\", \"Default\", \"Default\", \"Default\", \"Default\", \"Default\", \"Default\", \"Default\", \"Default\", \"Default\", \"Default\", \"Default\", \"Default\", \"Default\", \"Default\", \"Default\", \"Default\", \"Default\", \"Default\", \"Default\", \"Default\", \"Default\", \"Topic1\", \"Topic1\", \"Topic1\", \"Topic1\", \"Topic1\", \"Topic1\", \"Topic1\", \"Topic1\", \"Topic1\", \"Topic1\", \"Topic1\", \"Topic1\", \"Topic1\", \"Topic1\", \"Topic1\", \"Topic1\", \"Topic1\", \"Topic1\", \"Topic1\", \"Topic1\", \"Topic1\", \"Topic1\", \"Topic1\", \"Topic1\", \"Topic1\", \"Topic1\", \"Topic1\", \"Topic1\", \"Topic1\", \"Topic1\", \"Topic1\", \"Topic1\", \"Topic1\", \"Topic1\", \"Topic1\", \"Topic1\", \"Topic1\", \"Topic1\", \"Topic1\", \"Topic1\", \"Topic1\", \"Topic1\", \"Topic1\", \"Topic1\", \"Topic1\", \"Topic1\", \"Topic1\", \"Topic1\", \"Topic1\", \"Topic1\", \"Topic1\", \"Topic1\", \"Topic1\", \"Topic1\", \"Topic1\", \"Topic1\", \"Topic1\", \"Topic1\", \"Topic1\", \"Topic1\", \"Topic1\", \"Topic1\", \"Topic1\", \"Topic1\", \"Topic1\", \"Topic1\", \"Topic1\", \"Topic1\", \"Topic1\", \"Topic1\", \"Topic1\", \"Topic1\", \"Topic1\", \"Topic1\", \"Topic1\", \"Topic1\", \"Topic1\", \"Topic1\", \"Topic1\", \"Topic1\", \"Topic1\", \"Topic1\", \"Topic1\", \"Topic2\", \"Topic2\", \"Topic2\", \"Topic2\", \"Topic2\", \"Topic2\", \"Topic2\", \"Topic2\", \"Topic2\", \"Topic2\", \"Topic2\", \"Topic2\", \"Topic2\", \"Topic2\", \"Topic2\", \"Topic2\", \"Topic2\", \"Topic2\", \"Topic2\", \"Topic2\", \"Topic2\", \"Topic2\", \"Topic2\", \"Topic2\", \"Topic2\", \"Topic2\", \"Topic2\", \"Topic2\", \"Topic2\", \"Topic2\", \"Topic2\", \"Topic2\", \"Topic2\", \"Topic2\", \"Topic2\", \"Topic2\", \"Topic2\", \"Topic2\", \"Topic2\", \"Topic2\", \"Topic2\", \"Topic2\", \"Topic2\", \"Topic2\", \"Topic2\", \"Topic2\", \"Topic2\", \"Topic2\", \"Topic2\", \"Topic2\", \"Topic2\", \"Topic2\", \"Topic2\", \"Topic2\", \"Topic2\", \"Topic2\", \"Topic2\", \"Topic2\", \"Topic2\", \"Topic2\", \"Topic2\", \"Topic2\", \"Topic2\", \"Topic2\", \"Topic2\", \"Topic2\", \"Topic2\", \"Topic2\", \"Topic2\", \"Topic2\", \"Topic2\", \"Topic2\", \"Topic2\", \"Topic2\", \"Topic2\", \"Topic2\", \"Topic2\", \"Topic2\", \"Topic2\", \"Topic2\", \"Topic2\", \"Topic2\", \"Topic2\", \"Topic2\", \"Topic2\", \"Topic2\", \"Topic2\", \"Topic2\", \"Topic2\", \"Topic2\", \"Topic2\", \"Topic2\", \"Topic2\", \"Topic2\", \"Topic2\", \"Topic3\", \"Topic3\", \"Topic3\", \"Topic3\", \"Topic3\", \"Topic3\", \"Topic3\", \"Topic3\", \"Topic3\", \"Topic3\", \"Topic3\", \"Topic3\", \"Topic3\", \"Topic3\", \"Topic3\", \"Topic3\", \"Topic3\", \"Topic3\", \"Topic3\", \"Topic3\", \"Topic3\", \"Topic3\", \"Topic3\", \"Topic3\", \"Topic3\", \"Topic3\", \"Topic3\", \"Topic3\", \"Topic3\", \"Topic3\", \"Topic3\", \"Topic3\", \"Topic3\", \"Topic3\", \"Topic3\", \"Topic3\", \"Topic3\", \"Topic3\", \"Topic3\", \"Topic3\", \"Topic3\", \"Topic3\", \"Topic3\", \"Topic3\", \"Topic3\", \"Topic3\", \"Topic3\", \"Topic3\", \"Topic3\", \"Topic3\", \"Topic3\", \"Topic3\", \"Topic3\", \"Topic3\", \"Topic3\", \"Topic3\", \"Topic3\", \"Topic3\", \"Topic3\", \"Topic3\", \"Topic3\", \"Topic3\", \"Topic3\", \"Topic3\", \"Topic3\", \"Topic3\", \"Topic3\", \"Topic3\", \"Topic3\", \"Topic3\", \"Topic4\", \"Topic4\", \"Topic4\", \"Topic4\", \"Topic4\", \"Topic4\", \"Topic4\", \"Topic4\", \"Topic4\", \"Topic4\", \"Topic4\", \"Topic4\", \"Topic4\", \"Topic4\", \"Topic4\", \"Topic4\", \"Topic4\", \"Topic4\", \"Topic4\", \"Topic4\", \"Topic4\", \"Topic4\", \"Topic4\", \"Topic4\", \"Topic4\", \"Topic4\", \"Topic4\", \"Topic4\", \"Topic4\", \"Topic4\", \"Topic4\", \"Topic4\", \"Topic4\", \"Topic4\", \"Topic4\", \"Topic4\", \"Topic4\", \"Topic4\", \"Topic4\", \"Topic4\", \"Topic4\", \"Topic4\", \"Topic4\", \"Topic4\", \"Topic4\", \"Topic4\", \"Topic4\", \"Topic4\", \"Topic4\", \"Topic4\", \"Topic4\", \"Topic4\", \"Topic4\", \"Topic4\", \"Topic4\", \"Topic4\", \"Topic4\", \"Topic4\", \"Topic4\", \"Topic4\", \"Topic4\", \"Topic4\", \"Topic4\", \"Topic4\", \"Topic4\", \"Topic4\", \"Topic4\", \"Topic4\", \"Topic4\", \"Topic4\", \"Topic4\", \"Topic4\", \"Topic4\", \"Topic4\", \"Topic4\", \"Topic4\", \"Topic4\", \"Topic4\", \"Topic4\", \"Topic4\", \"Topic4\", \"Topic4\", \"Topic4\", \"Topic4\", \"Topic4\", \"Topic4\", \"Topic4\", \"Topic4\", \"Topic5\", \"Topic5\", \"Topic5\", \"Topic5\", \"Topic5\", \"Topic5\", \"Topic5\", \"Topic5\", \"Topic5\", \"Topic5\", \"Topic5\", \"Topic5\", \"Topic5\", \"Topic5\", \"Topic5\", \"Topic5\", \"Topic5\", \"Topic5\", \"Topic5\", \"Topic5\", \"Topic5\", \"Topic5\", \"Topic5\", \"Topic5\", \"Topic5\", \"Topic5\", \"Topic5\", \"Topic5\", \"Topic5\", \"Topic5\", \"Topic5\", \"Topic5\", \"Topic5\", \"Topic5\", \"Topic5\", \"Topic5\", \"Topic5\", \"Topic5\", \"Topic5\", \"Topic5\", \"Topic5\", \"Topic5\", \"Topic5\", \"Topic5\", \"Topic5\", \"Topic5\", \"Topic5\", \"Topic5\", \"Topic5\", \"Topic5\", \"Topic5\", \"Topic5\", \"Topic5\", \"Topic5\", \"Topic5\", \"Topic5\", \"Topic5\", \"Topic5\", \"Topic5\", \"Topic5\", \"Topic5\", \"Topic5\", \"Topic5\", \"Topic5\", \"Topic5\", \"Topic5\", \"Topic5\", \"Topic5\", \"Topic5\", \"Topic5\", \"Topic5\", \"Topic5\", \"Topic5\", \"Topic5\", \"Topic5\", \"Topic5\", \"Topic5\", \"Topic5\", \"Topic5\"], \"logprob\": [30.0, 29.0, 28.0, 27.0, 26.0, 25.0, 24.0, 23.0, 22.0, 21.0, 20.0, 19.0, 18.0, 17.0, 16.0, 15.0, 14.0, 13.0, 12.0, 11.0, 10.0, 9.0, 8.0, 7.0, 6.0, 5.0, 4.0, 3.0, 2.0, 1.0, -8.1195, -8.5781, -8.7338, -8.8727, -8.8482, -9.0369, -9.2548, -8.4483, -8.9911, -9.3803, -9.4877, -9.5123, -9.6066, -9.4966, -9.6311, -9.5486, -9.6533, -9.6512, -9.7038, -9.6609, -9.7305, -9.768, -9.5463, -9.8238, -9.8218, -8.7974, -9.8193, -9.8116, -9.7305, -9.8603, -3.074, -8.674, -7.2031, -7.8074, -8.5172, -3.8833, -6.3716, -7.7087, -6.026, -8.3957, -3.9568, -5.8584, -3.2748, -7.0627, -7.3833, -4.4037, -4.0218, -4.3931, -7.0606, -7.4311, -5.7911, -5.9565, -5.9299, -4.2785, -5.3307, -4.5225, -5.1819, -4.3779, -4.3803, -4.4391, -5.7988, -4.7412, -4.3793, -5.8863, -4.0745, -4.2718, -5.0896, -4.4573, -4.7013, -4.2758, -4.9057, -4.9187, -4.0131, -4.8417, -3.9972, -5.3711, -5.2529, -4.3304, -4.861, -4.925, -4.9189, -4.9219, -4.9583, -7.4669, -7.6254, -7.7708, -7.2783, -7.8052, -7.9719, -7.986, -7.976, -7.6165, -7.6786, -8.1033, -7.033, -8.1824, -8.128, -8.2634, -8.2061, -8.3026, -8.305, -8.2494, -8.3562, -8.3628, -8.3779, -8.3927, -8.3917, -8.4229, -8.4573, -8.3611, -8.414, -8.4804, -8.5064, -6.9214, -6.096, -7.079, -7.532, -7.042, -6.8171, -6.1411, -7.8709, -7.1905, -7.0917, -6.8091, -7.3993, -6.5401, -5.4593, -7.359, -5.7948, -7.6654, -5.3429, -7.1435, -5.3411, -4.693, -5.0186, -6.6807, -6.6641, -6.1453, -5.2113, -6.4575, -6.9824, -6.638, -5.8488, -5.9485, -5.3678, -5.9191, -5.7144, -6.4442, -4.4112, -5.1657, -5.188, -5.5269, -6.0996, -4.8978, -5.5671, -5.7543, -4.8519, -5.1616, -5.1418, -5.062, -5.5416, -4.8888, -5.2856, -4.9767, -5.352, -5.2316, -5.1928, -4.6424, -4.8254, -5.1248, -5.4573, -5.2757, -5.1161, -5.0466, -5.1843, -4.9749, -5.2714, -5.2988, -4.9406, -5.0743, -4.7844, -5.4458, -5.8285, -6.0935, -6.1575, -6.3245, -6.4193, -6.473, -6.4575, -6.7039, -6.2806, -6.7933, -6.8734, -6.8987, -6.9367, -6.9589, -7.0318, -7.0637, -7.0727, -7.0812, -7.149, -7.2693, -7.3707, -7.4291, -7.5024, -7.5102, -7.5778, -6.3225, -6.693, -6.9352, -4.6974, -6.2888, -6.8166, -4.965, -6.5425, -4.4527, -5.7084, -6.3583, -5.1894, -5.4256, -5.4456, -5.7732, -5.4399, -3.6483, -6.061, -4.0794, -3.876, -5.9241, -5.8327, -4.5905, -5.5417, -6.0432, -5.7081, -5.0695, -4.9851, -4.9771, -5.7322, -5.3329, -4.6237, -4.9568, -5.7087, -5.0678, -5.3191, -5.1941, -5.6073, -5.639, -5.6373, -5.6502, -6.3808, -7.4687, -7.7419, -6.9705, -7.7744, -7.8976, -7.9828, -7.9894, -8.0197, -8.1587, -5.6043, -6.5572, -8.1808, -8.1343, -8.2158, -8.2943, -8.2381, -8.3189, -8.3293, -8.3238, -8.3633, -8.3886, -8.4067, -8.4241, -8.4104, -8.4587, -8.4556, -8.4332, -8.4555, -8.4906, -4.5206, -6.9703, -5.4699, -6.1341, -7.499, -6.7364, -5.9999, -7.3485, -7.5117, -5.8605, -4.589, -5.056, -5.2972, -5.6335, -5.7711, -7.3064, -4.7846, -7.1422, -4.7548, -5.483, -6.6414, -6.7813, -4.9573, -5.0222, -6.4403, -5.9195, -6.0876, -4.4081, -6.7436, -5.8742, -5.5576, -5.8027, -6.0702, -5.0387, -4.6283, -5.973, -5.1418, -3.862, -5.2509, -4.457, -4.5511, -4.6043, -5.5526, -5.5633, -5.5707, -5.0213, -5.2083, -5.4284, -4.7211, -5.1983, -5.2575, -5.043, -5.133, -5.0922, -5.3359, -5.4332, -5.4195, -5.4532, -6.5371, -6.7994, -6.865, -7.0487, -7.0734, -7.1276, -7.1588, -7.37, -7.3702, -7.4364, -7.4252, -7.532, -7.5457, -7.214, -7.6446, -7.6634, -7.8447, -7.8796, -7.8549, -7.8376, -7.8448, -7.9103, -7.9066, -7.9327, -7.9446, -7.9754, -8.0283, -7.9478, -8.0709, -8.0811, -6.9086, -7.2717, -5.2019, -7.1527, -7.0439, -7.0394, -7.3185, -5.8759, -5.966, -5.4823, -5.4905, -4.3047, -5.2393, -5.8493, -5.173, -6.8487, -6.4634, -5.3349, -5.441, -3.8185, -5.9753, -6.8394, -4.9161, -4.847, -5.4017, -6.3734, -5.2577, -4.6572, -4.5312, -5.7995, -5.37, -4.5233, -4.9053, -5.8772, -5.7144, -4.7802, -4.7492, -4.2684, -4.7704, -5.286, -4.8726, -4.5664, -4.6964, -4.9339, -5.5828, -5.6187, -5.0807, -5.3195, -5.4941], \"loglift\": [30.0, 29.0, 28.0, 27.0, 26.0, 25.0, 24.0, 23.0, 22.0, 21.0, 20.0, 19.0, 18.0, 17.0, 16.0, 15.0, 14.0, 13.0, 12.0, 11.0, 10.0, 9.0, 8.0, 7.0, 6.0, 5.0, 4.0, 3.0, 2.0, 1.0, 1.0287, 1.0262, 1.0244, 1.023, 1.0229, 1.0205, 1.0173, 1.016, 1.0153, 1.0138, 1.0122, 1.0117, 1.0096, 1.0087, 1.0086, 1.0086, 1.0081, 1.0078, 1.0066, 1.0065, 1.006, 1.0051, 1.0045, 1.0032, 1.0027, 1.0025, 1.0024, 1.0023, 1.0021, 1.0008, 0.9548, 1.0007, 0.9856, 0.9763, 0.9839, 0.8456, 0.9141, 0.9476, 0.8946, 0.9678, 0.823, 0.8801, 0.7634, 0.9211, 0.9328, 0.8031, 0.7766, 0.7792, 0.9015, 0.9148, 0.8239, 0.8333, 0.8267, 0.7052, 0.7753, 0.7087, 0.754, 0.6933, 0.6698, 0.6707, 0.7862, 0.6897, 0.6564, 0.7891, 0.5903, 0.5947, 0.6561, 0.5723, 0.5813, 0.5162, 0.6049, 0.5581, 0.3247, 0.5117, 0.2454, 0.6513, 0.6013, 0.1946, 0.3423, 0.308, 0.2661, 0.2242, 0.2572, 1.6216, 1.6206, 1.6198, 1.6195, 1.6193, 1.6181, 1.6178, 1.6176, 1.6169, 1.6169, 1.6167, 1.6167, 1.616, 1.6155, 1.6151, 1.6148, 1.6147, 1.6143, 1.6143, 1.6138, 1.6137, 1.6135, 1.6135, 1.6133, 1.613, 1.6127, 1.6126, 1.6125, 1.612, 1.6119, 1.5992, 1.5789, 1.5907, 1.5962, 1.5851, 1.5746, 1.5486, 1.5999, 1.5741, 1.5683, 1.5563, 1.5771, 1.54, 1.4802, 1.5746, 1.4702, 1.5858, 1.437, 1.5445, 1.4014, 1.3432, 1.3521, 1.4977, 1.485, 1.4025, 1.251, 1.4284, 1.5055, 1.4351, 1.2774, 1.2875, 1.1296, 1.2502, 1.1928, 1.3658, 0.7758, 0.9904, 0.9861, 1.0916, 1.225, 0.7518, 1.0094, 1.0802, 0.6908, 0.8013, 0.7396, 0.6944, 0.9287, 0.5707, 0.7724, 0.4766, 0.6965, 0.5801, 0.4749, -0.3998, -0.1605, 0.0786, 0.5856, 0.2349, -0.0804, -0.2482, -0.0381, -0.9366, -0.0402, -0.1138, 1.8114, 1.8113, 1.8111, 1.8111, 1.8106, 1.8102, 1.8099, 1.8097, 1.8096, 1.8094, 1.8094, 1.8088, 1.8087, 1.8084, 1.8082, 1.8081, 1.8079, 1.8079, 1.8075, 1.8074, 1.8073, 1.8072, 1.8068, 1.8063, 1.8057, 1.8053, 1.8049, 1.8048, 1.8043, 1.804, 1.7988, 1.7939, 1.7418, 1.7759, 1.7897, 1.6495, 1.7304, 1.4209, 1.6083, 1.7008, 1.4604, 1.4353, 1.4197, 1.4965, 1.3544, 0.6896, 1.5036, 0.7126, 0.3666, 1.3497, 1.2934, 0.439, 1.0292, 1.4193, 1.078, 0.3883, 0.2216, 0.073, 1.0467, 0.5025, -0.5855, -0.0904, 0.9284, -0.5428, -0.0364, -0.4143, -0.4223, -0.2856, -0.5662, -0.4778, 1.9431, 1.9386, 1.9362, 1.9355, 1.9351, 1.9346, 1.9337, 1.9335, 1.9326, 1.9312, 1.9312, 1.9309, 1.9308, 1.9306, 1.9304, 1.929, 1.9285, 1.9283, 1.9283, 1.9281, 1.9277, 1.9273, 1.9269, 1.9264, 1.926, 1.926, 1.9258, 1.9257, 1.9255, 1.9255, 1.9015, 1.9232, 1.9058, 1.8944, 1.9134, 1.8932, 1.8729, 1.9044, 1.9077, 1.8379, 1.7658, 1.7677, 1.7765, 1.7881, 1.7836, 1.8762, 1.7118, 1.8567, 1.6652, 1.7186, 1.8107, 1.8177, 1.6336, 1.6387, 1.7766, 1.7061, 1.7174, 1.452, 1.7945, 1.6518, 1.5738, 1.6047, 1.6466, 1.3485, 1.1617, 1.5978, 1.2446, 0.6631, 1.2376, 0.776, 0.6644, 0.5991, 1.2749, 1.2504, 1.2572, 0.5214, 0.6234, 0.9279, -0.4785, 0.4763, 0.4821, -0.1766, -0.4681, -1.0634, 0.1236, 0.2345, -0.2733, 0.4237, 1.9458, 1.9449, 1.9446, 1.9438, 1.9436, 1.9433, 1.9432, 1.9418, 1.9418, 1.9415, 1.9414, 1.9406, 1.9406, 1.94, 1.9398, 1.9396, 1.9375, 1.9374, 1.9374, 1.9373, 1.937, 1.9368, 1.9367, 1.9367, 1.9365, 1.936, 1.9353, 1.9352, 1.9349, 1.9348, 1.9316, 1.9283, 1.9007, 1.926, 1.9122, 1.9115, 1.9174, 1.8379, 1.818, 1.7579, 1.7255, 1.6053, 1.695, 1.7498, 1.6623, 1.8472, 1.7961, 1.6383, 1.6256, 1.3242, 1.678, 1.836, 1.4205, 1.3031, 1.3852, 1.6655, 1.2544, 0.9978, 0.9266, 1.4185, 1.2371, 0.8831, 0.9716, 1.3694, 1.2074, 0.5733, 0.4663, 0.0695, 0.3757, 0.7506, 0.3124, -0.0414, -0.4539, -0.205, 1.0057, 0.9523, -1.0424, -0.29, -0.5104]}, \"token.table\": {\"Topic\": [4, 4, 1, 2, 1, 2, 3, 4, 5, 1, 2, 3, 5, 1, 4, 1, 2, 3, 4, 5, 1, 2, 3, 2, 3, 5, 5, 1, 4, 2, 3, 4, 3, 4, 3, 5, 1, 2, 3, 4, 5, 1, 4, 1, 3, 5, 1, 3, 5, 4, 5, 3, 4, 2, 5, 4, 1, 2, 3, 4, 5, 1, 2, 3, 4, 5, 1, 2, 3, 4, 5, 3, 1, 2, 3, 4, 2, 3, 4, 5, 1, 2, 3, 4, 5, 1, 2, 3, 4, 5, 3, 3, 5, 1, 3, 5, 1, 2, 3, 4, 5, 1, 2, 3, 4, 5, 1, 2, 4, 2, 1, 2, 4, 5, 5, 1, 2, 1, 2, 3, 4, 5, 2, 3, 4, 1, 4, 3, 5, 3, 5, 1, 2, 3, 4, 5, 1, 2, 3, 4, 5, 5, 1, 2, 3, 4, 5, 1, 2, 3, 4, 5, 1, 1, 3, 5, 2, 3, 4, 5, 3, 4, 1, 2, 3, 4, 5, 3, 4, 5, 1, 2, 3, 4, 5, 1, 2, 3, 4, 5, 2, 1, 2, 3, 4, 5, 2, 1, 1, 2, 3, 4, 5, 1, 2, 3, 1, 1, 3, 3, 5, 5, 1, 2, 3, 4, 5, 1, 2, 3, 4, 5, 1, 2, 4, 1, 4, 5, 1, 2, 3, 4, 5, 1, 2, 3, 4, 5, 2, 3, 4, 5, 3, 3, 1, 2, 3, 4, 5, 1, 5, 2, 3, 4, 5, 3, 1, 2, 3, 4, 5, 4, 1, 2, 3, 4, 5, 1, 5, 1, 2, 3, 4, 5, 2, 4, 1, 2, 3, 4, 4, 3, 4, 3, 1, 1, 2, 3, 4, 5, 1, 2, 3, 4, 5, 1, 3, 5, 1, 2, 3, 4, 5, 1, 2, 3, 4, 5, 1, 2, 4, 1, 2, 3, 4, 5, 1, 2, 4, 5, 1, 2, 3, 4, 1, 2, 3, 4, 5, 1, 2, 3, 4, 1, 2, 3, 4, 5, 1, 2, 3, 4, 1, 2, 3, 4, 5, 1, 2, 3, 4, 5, 1, 2, 3, 4, 5, 1, 2, 4, 1, 2, 3, 4, 5, 5, 2, 3, 3, 2, 3, 4, 1, 2, 3, 4, 5, 3, 2, 2, 3, 5, 1, 3, 5, 4, 1, 2, 3, 4, 5, 1, 2, 3, 4, 1, 2, 3, 4, 5, 1, 2, 3, 4, 5, 2, 2, 4, 5, 1, 1, 2, 3, 4, 5, 1, 2, 3, 5, 3, 1, 2, 3, 4, 5, 1, 2, 3, 4, 5, 1, 2, 3, 4, 5, 1, 1, 2, 3, 4, 5, 2, 4, 5, 1, 2, 3, 5, 1, 2, 3, 4, 5, 1, 2, 3, 4, 5, 3, 5, 3, 1, 2, 3, 4, 5, 1, 2, 3, 4, 5, 3, 1, 3, 4, 5, 1, 3, 5, 1, 2, 3, 4, 5, 5, 2, 1, 1, 2, 3, 4, 5, 3, 1, 4, 2, 1, 2, 3, 4, 5, 1, 2, 3, 4, 5, 4, 1, 1, 2, 3, 4, 5, 2, 2, 3, 1, 2, 3, 4, 5, 1, 2, 3, 4, 5, 2, 3, 4, 5, 2, 3, 5, 1, 2, 3, 4, 5, 1, 3, 4, 5, 2, 3, 4, 5, 1, 4, 1, 3, 5, 1, 1, 2, 3, 4, 5, 2, 3, 1, 2, 3, 4, 5, 1, 2, 3, 5, 1, 2, 3, 4, 5, 1, 2, 3, 4, 5, 1, 2, 3, 4, 5, 1, 2, 3, 4, 5, 3, 5, 1, 2, 3, 4, 5, 1, 2, 3, 4, 5, 1, 2, 4, 5, 1, 2, 3, 4, 5, 1, 2, 3, 4, 5, 1, 2, 3, 4, 5, 1, 1, 1, 5, 1, 2, 3, 5, 1, 2, 3, 4, 5, 1, 1, 3, 5, 2, 1, 2, 3, 4, 5, 4, 1, 2, 3, 4, 5, 1, 5, 1, 2, 3, 4, 5, 3, 5, 1, 2, 3, 4, 5, 5, 2, 3, 1, 2, 4, 5, 1, 3, 4, 5, 1, 2, 3, 4, 5, 3, 3, 3, 1, 2, 3, 4, 5, 4, 2, 3, 3, 4, 1, 3, 5, 1, 2, 3, 4, 5, 1, 5, 2, 5, 1, 1, 1, 2, 3, 4, 5, 5, 1, 3, 5, 2, 5, 1, 3, 1, 2, 3, 4, 5, 3, 5, 4, 1, 2, 3, 4, 5, 3, 1, 2, 3, 4, 5, 1, 4, 4, 3, 1, 1, 2, 3, 4, 5, 1, 2, 4, 1, 3, 4, 5, 1, 2, 3, 4, 5, 5, 2, 1, 2, 3, 4, 5, 4, 1, 5, 1, 2, 3, 4, 5, 5, 4, 4, 5, 3, 4, 3, 5, 1, 2, 3, 4, 5, 1, 2, 3, 4, 5, 1, 2, 3, 4, 1, 2, 3, 4, 5, 1, 2, 4, 5, 5, 1, 2, 3, 1, 1, 2, 3, 4, 5, 1, 2, 3, 4, 5, 2, 3, 4, 5, 2, 3, 1, 2, 4, 2, 1, 2, 3, 4, 5, 1, 2, 3, 4, 5, 1, 2, 3, 4, 5, 2, 1, 2, 3, 4, 4, 1, 2, 3, 5, 1, 2, 4, 5, 1, 2, 3, 4, 5, 1, 2, 3, 4, 5, 5, 3, 4, 5, 4, 1, 2, 3, 4, 5, 4, 1, 2, 3, 4, 5, 1, 2, 3, 4, 5, 2, 2, 1, 2, 3, 4, 5, 3, 1, 2, 4, 1, 2, 3, 4, 5, 1, 2, 3, 4, 5, 1, 2, 3, 4, 5, 2, 5, 2, 3, 2, 3, 4, 1, 2, 3, 4, 5, 1, 2, 3, 4, 5, 3, 4, 4, 3, 5, 1, 2, 3, 4, 5, 1, 2, 3, 4, 5, 1, 2, 3, 4, 5, 2, 1, 2, 3, 4, 5, 1, 2, 3, 4, 5, 3, 4, 1, 2, 3, 4, 5, 1, 2, 3, 4, 5, 5, 1, 2, 3, 4, 5, 4, 1, 2, 5, 1, 2, 3, 4, 1, 2, 3, 4, 5, 2, 3, 1, 2, 3, 4, 5, 1, 2, 3, 5, 1, 2, 3, 4, 5, 2, 3, 4, 5, 2, 1, 2, 3, 4, 5, 1, 2, 3, 4, 5, 1, 2, 3, 4, 5, 1, 2, 4, 5, 1, 2, 4, 5, 1, 2, 3, 4, 5, 3, 5, 1, 2, 3, 4, 5, 1, 1, 2, 3, 4, 5, 1, 2, 3, 4, 5, 2, 4, 1, 2, 3, 4, 5, 5, 3, 5], \"Freq\": [0.9968639290944395, 0.9799349720856267, 0.9799472489612521, 0.018147171277060226, 0.2618197377164183, 0.6480038508481353, 0.004909120082182843, 0.05890944098619411, 0.026181973771641828, 0.8557272451081381, 0.0020736524517967806, 0.06013592110210664, 0.0815636631040067, 0.9792173263046792, 0.9797682856925685, 0.0724823711756606, 0.10103603254789054, 0.002196435490171533, 0.7962078651871808, 0.028553661372229932, 0.007540643774881221, 0.9727430469596775, 0.022621931324643664, 0.9224911837504141, 0.0728282513487169, 0.004855216756581127, 0.996975366034426, 0.9811423764432396, 0.9928221422773003, 0.9636218489139002, 0.01705525396307788, 0.01705525396307788, 0.9993705385757023, 0.9743035717374748, 0.025195679301094853, 0.9658343732086361, 0.49984641664507706, 0.2126245704406226, 0.002233451370174607, 0.25997373948832425, 0.02546134561999052, 0.9765818158514112, 0.984415825449081, 0.8851814904338613, 0.01433492292200585, 0.10034446045404095, 0.8267118805686534, 0.057164768610429136, 0.11608987855570131, 0.9844201213285937, 0.9967243102467822, 0.9914127872687162, 0.005538618923288917, 0.9959406007837462, 0.9911099666938414, 0.9808094939328329, 0.6808819778514476, 0.24486083032852157, 0.004728347068412831, 0.0631572072709428, 0.006417042449988842, 0.07832906960408192, 0.014029087093268406, 0.45711442112232886, 0.08125179608184618, 0.36943262678940136, 0.03429436472810763, 0.005414899693911731, 0.036099331292744875, 0.8970683826247101, 0.027074498469558655, 0.9997105054990656, 0.03702505597923221, 0.9538359659411726, 0.0017630979037729622, 0.007052391615091849, 0.8553578787580896, 0.07020721303075975, 0.04446456825281451, 0.031593245863841886, 0.15877724824788764, 0.01515050078701218, 0.006060200314804872, 0.32906887709390453, 0.49087622549919463, 0.2777787812534083, 0.1820674395261977, 0.46488365981788027, 0.05972963431096604, 0.015112317114822733, 0.9943615570800274, 0.9985415413483983, 0.9965582005115218, 0.22304205234355212, 0.5957972631094886, 0.1812853210828871, 0.1454877149248141, 0.0015092086610457895, 0.14246929760272253, 0.0015092086610457895, 0.709328070691521, 0.5465960607663292, 0.3509923653469471, 0.06319504005856959, 0.019150012138960483, 0.02024429854690108, 0.2659746902410185, 0.7115391285934939, 0.02159623553239039, 0.9814192776586808, 0.11725162582837265, 0.0015633550110449688, 0.8504651260084629, 0.03283045523194434, 0.9815324036768687, 0.008914491955167542, 0.9895086070235973, 0.032534766911719734, 0.7597824978795726, 0.03588393409380853, 0.15071252319399583, 0.021051908001701005, 0.9734043521267122, 0.00821438271836888, 0.01642876543673776, 0.05038324129516952, 0.9481209952818265, 0.996351237842139, 0.9867246536294766, 0.021528622853571225, 0.9759642360285622, 0.05023942072949015, 0.022328631435328955, 0.31483370323813825, 0.02456149457886185, 0.588359438320918, 0.6933659211639245, 0.08992807820549056, 0.17576851649254974, 0.002682513696470599, 0.0381938854878433, 0.9857524278502481, 0.04986356942088413, 0.28935980436664577, 0.006799577648302381, 0.5107238322502677, 0.14354663924193914, 0.5863175765413519, 0.07395501204343854, 0.2700478470071014, 0.022690742331509556, 0.046782147769902416, 0.9539475039323104, 0.8863834095640137, 0.01724481341564229, 0.09657095512759682, 0.07691271622989364, 0.06292858600627661, 0.1267311801515293, 0.7332928286009178, 0.9814632949884247, 0.015177267448274608, 0.12047081477192485, 0.07830602960175116, 0.002007846912865414, 0.7951073774947041, 0.002007846912865414, 0.8957489364516793, 0.002588869758530865, 0.1035547903412346, 0.1706346638021397, 0.2653718903926021, 0.04360065541947418, 0.49252592233109727, 0.027452264523372634, 0.43114757655740915, 0.06007050882634775, 0.09490384790678337, 0.2771555048742686, 0.13668874272561393, 0.9863789193184438, 0.09976151733012202, 0.8243451695173241, 0.00525060617526958, 0.03675424322688706, 0.03412894013925227, 0.9836123999010259, 0.9752926396682126, 0.09315006696062367, 0.6694384812236821, 0.16146011606508104, 0.007452005356849894, 0.06955204999726568, 0.3022376903521011, 0.022810391724686872, 0.6757578548438486, 0.9683195038020198, 0.96380642850956, 0.02604882239215027, 0.12190809962044193, 0.8769518133986629, 0.9968232161512567, 0.22946680660554844, 0.004988408839251053, 0.10897754694979224, 0.13238469611858564, 0.5241666518782261, 0.13754852689910382, 0.34235979497414304, 0.0015115222736165257, 0.5018253948406864, 0.01662674500978178, 0.9404521573060963, 0.005343478166511911, 0.0480913034986072, 0.9518929670727451, 0.03241740754736903, 0.014735185248804102, 0.48298493227158634, 0.08236357847883197, 0.03266935235752553, 0.31028215877593496, 0.09187296742797085, 0.0016900102412478687, 0.8635952332776609, 0.06760040964991475, 0.006760040964991475, 0.06168537380554721, 0.9250811880040556, 0.008946626576441543, 0.04294380756691941, 0.023261229098748015, 0.9977025721985264, 0.9938948586918821, 0.14142636800299724, 0.7530183613525204, 0.03184661555515434, 0.0640356678367082, 0.009930665065585762, 0.984270604203166, 0.9966491090606656, 0.9812757444686704, 0.996397420753963, 0.9584938829274995, 0.030268227881921038, 0.990778846915485, 0.4015610131675641, 0.11966518192393409, 0.0016062440526702563, 0.4564410183004645, 0.02088117268471333, 0.9909369190988434, 0.2607006606941665, 0.12536878905993357, 0.10295185326776002, 0.03404053212885613, 0.47656744980398585, 0.9572845802670407, 0.9924150206116525, 0.04412411374005988, 0.20958954026528445, 0.0018385047391691618, 0.7409174098851722, 0.0018385047391691618, 0.1154940198203312, 0.8795313817086761, 0.08708639604399412, 0.8207892827146447, 0.017417279208798826, 0.07620059653849486, 0.9849325880721963, 0.9895195038707428, 0.9810256602306466, 0.9942416546683794, 0.9930834081480071, 0.38046754167212654, 0.5266802746287702, 0.006288719697059943, 0.08057422111858052, 0.005895674715993697, 0.38634753601866345, 0.06813633843481119, 0.4798537877004788, 0.006523691977801071, 0.05871322780020964, 0.90042770427056, 0.056904353057990784, 0.04016777862916996, 0.3160704063730725, 0.3921614301295529, 0.004807949303294092, 0.2406065064387609, 0.04661620411454707, 0.2964299861116407, 0.42557126695602726, 0.06509560497847128, 0.10569286399730282, 0.10709276948071081, 0.20987297343644382, 0.7708795755069379, 0.02018009359965806, 0.49862633379782595, 0.31599407567045124, 0.0004737542363874831, 0.18050036406363107, 0.004500665245681089, 0.0072205357065758275, 0.9495004454147212, 0.02166160711972748, 0.02166160711972748, 0.1660168831433445, 0.7048078719950577, 0.010185084855419909, 0.11916549280841293, 0.7716230307224007, 0.15333152631086058, 0.016187201287998883, 0.043099664779089046, 0.015789969354551056, 0.8163256187000184, 0.15933628386390733, 0.010185881160249785, 0.01309613292032115, 0.23542033216566757, 0.6863367813025809, 0.05452943105841743, 0.0005243214524847829, 0.02254582245684567, 0.006478586429494265, 0.952352205135657, 0.01295717285898853, 0.032392932147471326, 0.6202791286823066, 0.19338459423733637, 0.009003736168944811, 0.13388164216430978, 0.04345281368490756, 0.09232318563433503, 0.6082468700615014, 0.06082468700615014, 0.209627939146196, 0.029326188377965245, 0.12717186455823085, 0.028651368694937382, 0.0738903718974701, 0.754988697891157, 0.01507966773417757, 0.7789096759868808, 0.055128310400897954, 0.16538493120269387, 0.40982726175710593, 0.1400675451574919, 0.019335923742280027, 0.3612516484533293, 0.06979796863066937, 0.9918198465755346, 0.06763437047955581, 0.9320221204720609, 0.9968131447074615, 0.9799509972310285, 0.01789012499008621, 0.9779934994580463, 0.49105544240945664, 0.026880539083023722, 0.3255114231615577, 0.0038848331541899085, 0.15269900639936787, 0.9914951093794603, 0.9862954963682308, 0.0018328641763908893, 0.1026403938778898, 0.8944377180787539, 0.4099066401218469, 0.05451407966064904, 0.5354712040702827, 0.9878636713250539, 0.4440771454267019, 0.18913355307122043, 0.050623107141739294, 0.10869906061267909, 0.2074141195390707, 0.05054667295580308, 0.5389685941915282, 0.27741894924580296, 0.13224420250064758, 0.6289405837073506, 0.009385305168732847, 0.25340323955578686, 0.001626786229247027, 0.10661706671680515, 0.592052066739106, 0.024221884670799197, 0.12283955797333877, 0.008304646172845438, 0.252772667885983, 0.9931589716320446, 0.9912916845591405, 0.0077379765446976235, 0.9904609977212958, 0.992396439284638, 0.3452568551552416, 0.22049548550738954, 0.08736086957444675, 0.26626923186588564, 0.08066227254637415, 0.16510000202540054, 0.5789912513425337, 0.25411705380868105, 0.0015216590048424013, 0.9921655213926064, 0.24300144431989362, 0.3941407163933225, 0.14143308028889673, 0.10815470845621514, 0.1130078043484812, 0.38711982955527163, 0.1822301600617545, 0.10232557417080193, 0.22993439044441272, 0.09827071458827598, 0.7209784529380177, 0.18878029995170437, 0.00015310648820089567, 0.08328992958128724, 0.006889791969040305, 0.9909945971309884, 0.2446698292672548, 0.05835221869553776, 0.006142338810056606, 0.6889656698613493, 0.0010237231350094342, 0.9319432039479777, 0.045717968495561166, 0.021100600844105154, 0.21245570034075603, 0.0002910352059462411, 0.6763658186190644, 0.11088441346551788, 0.10449461555194868, 0.051518275574449116, 0.2619655710813969, 0.4957418970371519, 0.08651182124765984, 0.1585814792880209, 0.05780802693257905, 0.685884427659519, 0.009374274637715521, 0.08749322995201153, 0.016204260641944027, 0.9803577688376137, 0.9969533920853, 0.6840285395693815, 0.1654370784581881, 0.024328982126204133, 0.11370597962141721, 0.012292538337450509, 0.33523373324845335, 0.051978749580335104, 0.018104957718993127, 0.2181355389691591, 0.37640791128680867, 0.9944529003117809, 0.40207853758060935, 0.02757109971981321, 0.009190366573271071, 0.5606123609695353, 0.028638420848717098, 0.9632923376386661, 0.005206985608857654, 0.0026436062790733896, 0.9173313788384663, 0.015861637674440338, 0.04758491302332101, 0.015861637674440338, 0.9980003651928944, 0.9786638661354853, 0.9782672244793655, 0.684223733487882, 0.18131803022130108, 0.055654562054038244, 0.050869780700976135, 0.027827281027019122, 0.9973546502419908, 0.9862619491943523, 0.9728330169325534, 0.9944620003912047, 0.4076686249442968, 0.5288882728917487, 0.008493096353006184, 0.043623631267713577, 0.01119544519259906, 0.9695908160553972, 0.9832250733798086, 0.02539497633591646, 0.006348744083979115, 0.9650091007648255, 0.9840316515679283, 0.948274752741363, 0.037896799940626086, 0.041054866602344926, 0.7342504988496305, 0.09947909984414348, 0.08684683319726812, 0.9797629300658499, 0.9848195808250122, 0.9971140555350503, 0.0023609027362649273, 0.06256392251102058, 0.6303610305827356, 0.033052638307708986, 0.27268426603859913, 0.03169492448465032, 0.8269493933722403, 0.12822037632426722, 0.0036016959641648094, 0.009364409506828503, 0.01822905348936813, 0.11848884768089286, 0.7443530174825321, 0.11848884768089286, 0.88635373355483, 0.047696165034340626, 0.06756956713198256, 0.7615153716908594, 0.07704317609678836, 0.09092859481465439, 0.020294073510727255, 0.05024756873823087, 0.0011414122923390406, 0.16093913321980474, 0.011414122923390406, 0.8263824996534654, 0.146166035045553, 0.03654150876138825, 0.7054099952198427, 0.1112132875346599, 0.952598685951247, 0.043797640733390666, 0.9172158851642552, 0.00470367120597054, 0.07996241050149917, 0.9894683642624071, 0.4909206690151195, 0.3165750108602173, 0.013381793937328024, 0.09233437816756336, 0.08679049210781319, 0.9772540134555064, 0.021244652466424055, 0.6432745552580914, 0.0794126743972557, 0.1492575566984565, 0.11970371000175359, 0.008398395284314861, 0.004568467353178066, 0.9593781441673939, 0.018273869412712265, 0.018273869412712265, 0.4464904261859287, 0.43789795184022656, 0.00222767853407092, 0.09610841675563113, 0.01718494869140424, 0.42963703422338423, 0.42685384170710594, 0.032226439662169974, 0.09081996632066083, 0.020361250513825573, 0.2006969994002675, 0.09675949756493583, 0.04421650630563834, 0.6101303629836459, 0.04823618869706, 0.4536088214895415, 0.13175903605491768, 0.23566240041469713, 0.08852293213547, 0.0904597273044571, 0.9983062208486717, 0.9926351362111373, 0.446514011302311, 0.02502723897818087, 0.11601411713250197, 0.025962836696991367, 0.3864018578687364, 0.42387429414978867, 0.41666238244910625, 0.03001085836735606, 0.10794603319731172, 0.02163573510204739, 0.8114290630082982, 0.005630036863891055, 0.13652839394935806, 0.0464478041271012, 0.4631159805059651, 0.17542271988862312, 0.10700785913206011, 0.05978991036203905, 0.19471921907637169, 0.47340946891038777, 0.4118134413569916, 0.013199148761442037, 0.060129455468791504, 0.04194396161969359, 0.9221290201733993, 0.012696812649930566, 0.0012420794983627728, 0.049315156379440464, 0.014628936314050435, 0.9841019561671092, 0.9954715031944392, 0.9814455756212545, 0.010553178232486606, 0.04965795508878228, 0.949708391072961, 0.04575766852175466, 0.9529531835617601, 0.14518193778274532, 0.1154157997452777, 0.2408176587031252, 0.13865259137452662, 0.3598822108529957, 0.986954122719882, 0.08630792284487065, 0.014384653807478444, 0.8918485360636635, 0.9900633708833515, 0.8087592499723374, 0.04703509233222808, 0.07085806117582412, 0.01710366993899203, 0.05619777265668809, 0.9801111257694148, 0.781288828462137, 0.05061505699339426, 0.045423769096635876, 0.02141406257412834, 0.10058120299969373, 0.9758440634173415, 0.99011737263695, 0.029728662551934917, 0.013915544173246131, 0.7033675054840772, 0.0037951484108853088, 0.2485822209129877, 0.09298681718669935, 0.9053979568178621, 0.053373125960509075, 0.002737083382590209, 0.0013685416912951045, 0.8539700153681452, 0.0889552099341818, 0.9793720631559065, 0.01789899701585869, 0.9799700866182632, 0.02259835349820729, 0.025109281664674767, 0.9491308469247062, 0.9953783818375942, 0.12518837627260754, 0.19597942237914154, 0.4985179983712764, 0.18033087534506562, 0.7735719354190639, 0.10017893696227474, 0.10133373738835284, 0.008083602982546666, 0.01674460617813238, 0.9993595099545332, 0.9945132850468528, 0.9969146022516495, 0.45907720590951423, 0.027731518676083592, 0.008590742198569373, 0.27746590153624945, 0.22712716654814116, 0.981746005664581, 0.9885475470898396, 0.008377521585507116, 0.9982065314071585, 0.9769112307046354, 0.8908654227016582, 0.09605018034519226, 0.012006272543149033, 0.16554921956497867, 0.0850867497205477, 0.02450868334341863, 0.1350289723826083, 0.5895956842048821, 0.23638538156495137, 0.7626448076767045, 0.9949481793566508, 0.9785312362513974, 0.9827453065418684, 0.975834386060716, 0.37452588355656796, 0.585388246802819, 0.0006129719861809623, 0.03861723512940062, 0.0006129719861809623, 0.9969223059279608, 0.10228455830470302, 0.7289244384932859, 0.16812289468474176, 0.9905999413571056, 0.9916734969338319, 0.9742822504077109, 0.02952370455780942, 0.3233845374914485, 0.046931866140178434, 0.15175778613210983, 0.1757375717511791, 0.3018027304342862, 0.9979548639659377, 0.002668328513277908, 0.9813183029219806, 0.1525711236618136, 0.0009595668154831045, 0.10651191651862459, 0.015353069047729671, 0.7235133788742607, 0.997119669727937, 0.15246165458127015, 0.010851363315392893, 0.0005425681657696446, 0.7910643856921419, 0.045033157758880504, 0.006038594016253903, 0.9903294186656401, 0.9864755891660483, 0.997472472568524, 0.9910642173020401, 0.6347435579841263, 0.0934868622729287, 0.1574770076562954, 0.008220396510205799, 0.10622041765148278, 0.010735695228705782, 0.0030673414939159376, 0.9846166195470158, 0.0006105882739993526, 0.849938877407099, 0.01587529512398317, 0.13371883200585824, 0.009500157045681266, 0.00584625048965001, 0.6328566155046136, 0.1468870435524565, 0.20461876713775035, 0.9934545052756039, 0.9900481066707921, 0.1333725268839453, 0.004960135297336809, 0.09534482293769643, 0.26729617991203913, 0.4993202865985721, 0.9798145302316748, 0.9350846645902887, 0.057250081505527885, 0.2937885284473942, 0.393443668052898, 0.06445228509550764, 0.13226954893094137, 0.11622118878667842, 0.9941317778687714, 0.9952706234213485, 0.9918393163486527, 0.9875926750996175, 0.030057268493094265, 0.9718516812767145, 0.01130723320537466, 0.9837292888675955, 0.17278612243525965, 0.7980081959861389, 0.006245281533804565, 0.0013878403408454588, 0.02220544545352734, 0.4494628899730447, 0.06876928146097315, 0.11747325533386395, 0.019700483813753583, 0.3445760548535233, 0.03777423819697862, 0.9443559549244656, 0.004721779774622328, 0.014165339323866983, 0.1020841984960676, 0.6858782086454542, 0.10314757556373498, 0.029774557894686388, 0.07975328007505282, 0.0013071483992865567, 0.03398585838145047, 0.9607540734756191, 0.00392144519785967, 0.9861373625582119, 0.041679996641595884, 0.03526768946596575, 0.9201660797029245, 0.9766468432971771, 0.14986521498684433, 0.05806296287448418, 0.6755704193909579, 0.07375565554326369, 0.04237027020570468, 0.1354609510845846, 0.0007525608393588034, 0.022576825180764103, 0.8360950925276306, 0.005267925875511624, 0.06687323656768768, 0.045975350140285275, 0.8609929208089788, 0.02507746371288288, 0.0005991051782048795, 0.999307437245739, 0.9704869630236219, 0.034168780050723796, 0.9567258414202664, 0.9938507205466741, 0.036824886604640956, 0.8668011770015487, 0.011330734339889527, 0.05382098811447525, 0.028326835849723814, 0.14728210372755884, 0.0017888514622780428, 0.035180745424801506, 0.7316402480717195, 0.08467230254782736, 0.012684721757685364, 0.0558127757338156, 0.05834972008535268, 0.11669944017070535, 0.7534724724065106, 0.9874596745652431, 0.018636768376860766, 0.015110893278535757, 0.009570232409739313, 0.9560158480886956, 0.9890229748542702, 0.8681736153643406, 0.026534437145806014, 0.05804408125645066, 0.04726446616596697, 0.8739912640837023, 0.004698877763890873, 0.11512250521532638, 0.0070483166458363096, 0.2334844505613299, 0.0029185556320166237, 0.04085977884823273, 0.5501477366351336, 0.17268120822765023, 0.22623025725746818, 0.4973894207459756, 0.048628933803007174, 0.18764425543551683, 0.04017172792422332, 0.9903736985693884, 0.059636582737119664, 0.9144276019691682, 0.026505147883164295, 0.9891704056893645, 0.1528599565159981, 0.0019187442240501853, 0.07738935037002415, 0.7355186192192377, 0.03261865180885315, 0.9932066422321029, 0.7707326951314236, 0.08482098741084272, 0.048836326085030655, 0.06939898969978041, 0.026070519940129145, 0.030469253679054894, 0.11534788892785067, 0.08197680156507627, 0.20240289943943607, 0.5694848604299546, 0.9928748021016078, 0.9926088074034405, 0.1012418013894748, 0.044734749451163285, 0.0009417841989718586, 0.8348916923885527, 0.018835683979437173, 0.9967714246237449, 0.11668064518231505, 0.8780218549969208, 0.0029170161295578763, 0.3325282095918466, 0.02082019201380077, 0.0005948626289657363, 0.25698065571319806, 0.3896350219725573, 0.3998792844125044, 0.3529968855503487, 0.037574863793933606, 0.043435163651703065, 0.16615673714381649, 0.7099654349871688, 0.10749936024061504, 0.09275733632412293, 0.026483458894229192, 0.06340374887978023, 0.9889313005755628, 0.9910923957969567, 0.011970804656068453, 0.9855962500163026, 0.9906403806565934, 0.004672831984229214, 0.004672831984229214, 0.7073712493050152, 0.13085620362407785, 0.07103622482449941, 0.03215323860477342, 0.058698354197086355, 0.6941402305481591, 0.1418383827218938, 0.08963209462635928, 0.011119261360607353, 0.0631899487078418, 0.01192690995198765, 0.9859578893643124, 0.9766204278817592, 0.03157672842731199, 0.9662478898757468, 0.6404469957324337, 0.16736783090646776, 0.04310199591360748, 0.08941926168367358, 0.05961284112244905, 0.7542027446232666, 0.025398203309695222, 0.032831823790581624, 0.09446892694459808, 0.09292025601108007, 0.05548249622901737, 0.026059960349993007, 0.02942253587902436, 0.11348692410480825, 0.7759143033239853, 0.9949119063679532, 0.0016342929498726205, 0.06700601094477744, 0.0016342929498726205, 0.1111319205913382, 0.8187807678861828, 0.06365590646987641, 0.015156168207113432, 0.012124934565690745, 0.8426829523155068, 0.0666871401112991, 0.06369761486385254, 0.9315776173838434, 0.0016782245830223726, 0.015104021247201355, 0.057059635822760676, 0.7870873294374928, 0.13929264039085693, 0.6498133003565156, 0.2485890133451094, 0.06822027483493638, 0.005668153398748423, 0.02773346484387621, 0.9811517356426241, 0.37318259529435416, 0.24132135084518946, 0.0924046944692023, 0.23139357375345698, 0.062112246420069864, 0.9952097400956927, 0.9744267758781292, 0.9948801321997192, 0.9892729689733156, 0.005242027124161389, 0.9488069094732114, 0.010484054248322779, 0.03669418986912973, 0.16881824118586558, 0.0036967498069897576, 0.8157494574090731, 0.0036967498069897576, 0.008625749549642767, 0.9630644524418455, 0.03337352062917286, 0.6473662019219929, 0.12387871765173937, 0.005423261832679834, 0.13643785031689268, 0.08677218932287735, 0.79226664809988, 0.0002987994147086102, 0.20393060053862647, 0.0034361932691490175, 0.8082148303449865, 0.057318818024707764, 0.10791144821998554, 0.006531225863359558, 0.019983601522219546, 0.7995663712320694, 0.07141757878966057, 0.09160080757804291, 0.03726134545547508, 0.9906195637491103, 0.021586983698575212, 0.13896620755957792, 0.045872340359472324, 0.711021275571821, 0.082300375350818, 0.7184034917735995, 0.10256076471576513, 0.03454552564435445, 0.058930602569781124, 0.08546730392980427, 0.06350743614168249, 0.0022283310926906135, 0.012255821009798376, 0.12255821009798375, 0.7999708622759303, 0.050252606900253724, 0.025126303450126862, 0.8436639581523366, 0.08021089178309729, 0.00429774881707191, 0.05587073462193483, 0.9283137444875325, 0.00859549763414382, 0.04602437300558476, 0.026847550919924447, 0.007670728834264127, 0.8744630871061105, 0.04602437300558476, 0.9970290656678478, 0.9895912413373859, 0.19340232843356056, 0.0007614264898959077, 0.03730989800489948, 0.01751280926760588, 0.750766519037365, 0.9809430436573153, 0.3153872216349108, 0.024356636918339645, 0.41343829846002167, 0.019984932856073556, 0.2267040820860844, 0.42722227762796783, 0.347779323706153, 0.023659765937973903, 0.16157888933250472, 0.03981765487122438, 0.9941263779585641, 0.005988713120232313, 0.5947488233287251, 0.011150923682785124, 0.33304749937521944, 0.0005920844433337235, 0.06049129396059541, 0.9941872227103528, 0.13918848672184622, 0.8572745432186438], \"Term\": [\"aaah\", \"aahh\", \"addicted\", \"addicted\", \"alive\", \"alive\", \"alive\", \"alive\", \"alive\", \"alright\", \"alright\", \"alright\", \"alright\", \"amo\", \"ancient\", \"angel\", \"angel\", \"angel\", \"angel\", \"angel\", \"anger\", \"anger\", \"anger\", \"animal\", \"animal\", \"animal\", \"annie\", \"anti\", \"arise\", \"ashe\", \"ashe\", \"ashe\", \"ass\", \"autumn\", \"avenue\", \"avenue\", \"away\", \"away\", \"away\", \"away\", \"away\", \"awella\", \"ayo\", \"babe\", \"babe\", \"babe\", \"baby\", \"baby\", \"baby\", \"balloon\", \"banana\", \"bang\", \"bang\", \"battlefield\", \"bbboy\", \"bedum\", \"believe\", \"believe\", \"believe\", \"believe\", \"believe\", \"big\", \"big\", \"big\", \"big\", \"big\", \"bird\", \"bird\", \"bird\", \"bird\", \"bird\", \"bitch\", \"bleed\", \"bleed\", \"bleed\", \"bleed\", \"blood\", \"blood\", \"blood\", \"blood\", \"blue\", \"blue\", \"blue\", \"blue\", \"blue\", \"body\", \"body\", \"body\", \"body\", \"body\", \"boogie\", \"boom\", \"bop\", \"bout\", \"bout\", \"bout\", \"boy\", \"boy\", \"boy\", \"boy\", \"boy\", \"break\", \"break\", \"break\", \"break\", \"break\", \"breathe\", \"breathe\", \"breathe\", \"breed\", \"bright\", \"bright\", \"bright\", \"bright\", \"broadway\", \"bruise\", \"bruise\", \"burn\", \"burn\", \"burn\", \"burn\", \"burn\", \"bury\", \"bury\", \"bury\", \"butterfly\", \"butterfly\", \"bye\", \"cab\", \"california\", \"california\", \"car\", \"car\", \"car\", \"car\", \"car\", \"cause\", \"cause\", \"cause\", \"cause\", \"cause\", \"celebration\", \"child\", \"child\", \"child\", \"child\", \"child\", \"chorus\", \"chorus\", \"chorus\", \"chorus\", \"chorus\", \"christine\", \"christmas\", \"christmas\", \"christmas\", \"city\", \"city\", \"city\", \"city\", \"clap\", \"clap\", \"cloud\", \"cloud\", \"cloud\", \"cloud\", \"cloud\", \"club\", \"club\", \"club\", \"cold\", \"cold\", \"cold\", \"cold\", \"cold\", \"come\", \"come\", \"come\", \"come\", \"come\", \"consume\", \"crawl\", \"crawl\", \"crawl\", \"crawl\", \"crawl\", \"crucify\", \"curious\", \"cut\", \"cut\", \"cut\", \"cut\", \"cut\", \"cuz\", \"cuz\", \"cuz\", \"daa\", \"dada\", \"dada\", \"daddy\", \"daddy\", \"daddys\", \"dance\", \"dance\", \"dance\", \"dance\", \"dance\", \"dark\", \"dark\", \"dark\", \"dark\", \"dark\", \"darle\", \"darle\", \"darle\", \"darling\", \"darling\", \"darling\", \"day\", \"day\", \"day\", \"day\", \"day\", \"dead\", \"dead\", \"dead\", \"dead\", \"dead\", \"death\", \"death\", \"death\", \"death\", \"dem\", \"dick\", \"die\", \"die\", \"die\", \"die\", \"die\", \"dodo\", \"doo\", \"doooo\", \"dope\", \"dove\", \"dove\", \"dre\", \"dream\", \"dream\", \"dream\", \"dream\", \"dream\", \"dreamland\", \"drive\", \"drive\", \"drive\", \"drive\", \"drive\", \"dudu\", \"dum\", \"earth\", \"earth\", \"earth\", \"earth\", \"earth\", \"echo\", \"echo\", \"edge\", \"edge\", \"edge\", \"edge\", \"eee\", \"eheh\", \"elaine\", \"eminem\", \"emotional\", \"end\", \"end\", \"end\", \"end\", \"end\", \"everybody\", \"everybody\", \"everybody\", \"everybody\", \"everybody\", \"everytime\", \"everytime\", \"everytime\", \"eye\", \"eye\", \"eye\", \"eye\", \"eye\", \"face\", \"face\", \"face\", \"face\", \"face\", \"faith\", \"faith\", \"faith\", \"fall\", \"fall\", \"fall\", \"fall\", \"fall\", \"fate\", \"fate\", \"fate\", \"fate\", \"fear\", \"fear\", \"fear\", \"fear\", \"feel\", \"feel\", \"feel\", \"feel\", \"feel\", \"feeling\", \"feeling\", \"feeling\", \"feeling\", \"fight\", \"fight\", \"fight\", \"fight\", \"fight\", \"final\", \"final\", \"final\", \"final\", \"find\", \"find\", \"find\", \"find\", \"find\", \"fire\", \"fire\", \"fire\", \"fire\", \"fire\", \"fly\", \"fly\", \"fly\", \"fly\", \"fly\", \"forever\", \"forever\", \"forever\", \"free\", \"free\", \"free\", \"free\", \"free\", \"friday\", \"fuck\", \"fuck\", \"fuckin\", \"funeral\", \"garden\", \"garden\", \"get\", \"get\", \"get\", \"get\", \"get\", \"ghetto\", \"ghoul\", \"gimme\", \"gimme\", \"gimme\", \"girl\", \"girl\", \"girl\", \"gloria\", \"go\", \"go\", \"go\", \"go\", \"go\", \"god\", \"god\", \"god\", \"god\", \"gon\", \"gon\", \"gon\", \"gon\", \"gon\", \"good\", \"good\", \"good\", \"good\", \"good\", \"greed\", \"guilt\", \"gypsy\", \"gypsy\", \"hallelujah\", \"hand\", \"hand\", \"hand\", \"hand\", \"hand\", \"hate\", \"hate\", \"hate\", \"hate\", \"hater\", \"head\", \"head\", \"head\", \"head\", \"head\", \"hear\", \"hear\", \"hear\", \"hear\", \"hear\", \"heart\", \"heart\", \"heart\", \"heart\", \"heart\", \"heartbreaker\", \"heaven\", \"heaven\", \"heaven\", \"heaven\", \"heaven\", \"hero\", \"hero\", \"hero\", \"hey\", \"hey\", \"hey\", \"hey\", \"high\", \"high\", \"high\", \"high\", \"high\", \"hit\", \"hit\", \"hit\", \"hit\", \"hit\", \"hmm\", \"hmm\", \"hoe\", \"hold\", \"hold\", \"hold\", \"hold\", \"hold\", \"home\", \"home\", \"home\", \"home\", \"home\", \"homie\", \"honey\", \"honey\", \"honey\", \"honey\", \"hook\", \"hook\", \"hook\", \"human\", \"human\", \"human\", \"human\", \"human\", \"hump\", \"ignorance\", \"iiiohh\", \"ill\", \"ill\", \"ill\", \"ill\", \"ill\", \"imma\", \"incomplete\", \"infinity\", \"insanity\", \"inside\", \"inside\", \"inside\", \"inside\", \"inside\", \"intermediate\", \"invincible\", \"johnny\", \"johnny\", \"johnny\", \"jolene\", \"jude\", \"jump\", \"jump\", \"jump\", \"jump\", \"jump\", \"justice\", \"justify\", \"kanye\", \"kid\", \"kid\", \"kid\", \"kid\", \"kid\", \"kill\", \"kill\", \"kill\", \"kill\", \"kill\", \"king\", \"king\", \"king\", \"king\", \"knife\", \"knife\", \"knife\", \"know\", \"know\", \"know\", \"know\", \"know\", \"lady\", \"lady\", \"lady\", \"lady\", \"land\", \"land\", \"land\", \"land\", \"last\", \"last\", \"lately\", \"lately\", \"lately\", \"lea\", \"leave\", \"leave\", \"leave\", \"leave\", \"leave\", \"legend\", \"legend\", \"let\", \"let\", \"let\", \"let\", \"let\", \"liar\", \"liar\", \"liar\", \"liar\", \"lie\", \"lie\", \"lie\", \"lie\", \"lie\", \"life\", \"life\", \"life\", \"life\", \"life\", \"light\", \"light\", \"light\", \"light\", \"light\", \"like\", \"like\", \"like\", \"like\", \"like\", \"lil\", \"lily\", \"little\", \"little\", \"little\", \"little\", \"little\", \"live\", \"live\", \"live\", \"live\", \"live\", \"lonely\", \"lonely\", \"lonely\", \"lonely\", \"look\", \"look\", \"look\", \"look\", \"look\", \"lose\", \"lose\", \"lose\", \"lose\", \"lose\", \"love\", \"love\", \"love\", \"love\", \"love\", \"lovegame\", \"loves\", \"loving\", \"loving\", \"madness\", \"madness\", \"mama\", \"mama\", \"man\", \"man\", \"man\", \"man\", \"man\", \"mandy\", \"marry\", \"marry\", \"marry\", \"masquerade\", \"maybe\", \"maybe\", \"maybe\", \"maybe\", \"maybe\", \"meadow\", \"miss\", \"miss\", \"miss\", \"miss\", \"miss\", \"mistletoe\", \"mommy\", \"money\", \"money\", \"money\", \"money\", \"money\", \"monkey\", \"monkey\", \"moon\", \"moon\", \"moon\", \"moon\", \"moon\", \"motel\", \"motherfucker\", \"motherfucker\", \"mountain\", \"mountain\", \"mountain\", \"mum\", \"music\", \"music\", \"music\", \"music\", \"need\", \"need\", \"need\", \"need\", \"need\", \"nigga\", \"niggas\", \"niggaz\", \"night\", \"night\", \"night\", \"night\", \"night\", \"nightingale\", \"nightmare\", \"nightmare\", \"nike\", \"northern\", \"ohh\", \"ohh\", \"ohh\", \"old\", \"old\", \"old\", \"old\", \"old\", \"oooh\", \"oooh\", \"ooohhh\", \"oooo\", \"oooooh\", \"oooooooh\", \"pain\", \"pain\", \"pain\", \"pain\", \"pain\", \"papa\", \"party\", \"party\", \"party\", \"philosophy\", \"phresh\", \"physical\", \"physical\", \"play\", \"play\", \"play\", \"play\", \"play\", \"pop\", \"pop\", \"popular\", \"pretty\", \"pretty\", \"pretty\", \"pretty\", \"pretty\", \"pussy\", \"rain\", \"rain\", \"rain\", \"rain\", \"rain\", \"rainbow\", \"rainbow\", \"raoul\", \"rap\", \"refro\", \"right\", \"right\", \"right\", \"right\", \"right\", \"river\", \"river\", \"river\", \"rock\", \"rock\", \"rock\", \"rock\", \"roll\", \"roll\", \"roll\", \"roll\", \"roll\", \"romeo\", \"rot\", \"round\", \"round\", \"round\", \"round\", \"round\", \"roxanne\", \"rumour\", \"rumour\", \"run\", \"run\", \"run\", \"run\", \"run\", \"runway\", \"sail\", \"sailing\", \"san\", \"satellite\", \"satellite\", \"saturday\", \"saturday\", \"save\", \"save\", \"save\", \"save\", \"save\", \"say\", \"say\", \"say\", \"say\", \"say\", \"scar\", \"scar\", \"scar\", \"scar\", \"scream\", \"scream\", \"scream\", \"scream\", \"scream\", \"sea\", \"sea\", \"sea\", \"sea\", \"seventeen\", \"sex\", \"sex\", \"sex\", \"shada\", \"shake\", \"shake\", \"shake\", \"shake\", \"shake\", \"shine\", \"shine\", \"shine\", \"shine\", \"shine\", \"ship\", \"ship\", \"ship\", \"ship\", \"shit\", \"shit\", \"shoop\", \"shore\", \"shore\", \"side\", \"sin\", \"sin\", \"sin\", \"sin\", \"sin\", \"sing\", \"sing\", \"sing\", \"sing\", \"sing\", \"sister\", \"sister\", \"sister\", \"sister\", \"sister\", \"skull\", \"sky\", \"sky\", \"sky\", \"sky\", \"soar\", \"somebody\", \"somebody\", \"somebody\", \"somebody\", \"someday\", \"someday\", \"someday\", \"someday\", \"song\", \"song\", \"song\", \"song\", \"song\", \"soul\", \"soul\", \"soul\", \"soul\", \"soul\", \"spanish\", \"spring\", \"spring\", \"spring\", \"stamina\", \"star\", \"star\", \"star\", \"star\", \"star\", \"starlight\", \"stay\", \"stay\", \"stay\", \"stay\", \"stay\", \"street\", \"street\", \"street\", \"street\", \"street\", \"suffer\", \"suicide\", \"sun\", \"sun\", \"sun\", \"sun\", \"sun\", \"super\", \"survive\", \"survive\", \"survive\", \"sweet\", \"sweet\", \"sweet\", \"sweet\", \"sweet\", \"take\", \"take\", \"take\", \"take\", \"take\", \"tell\", \"tell\", \"tell\", \"tell\", \"tell\", \"terror\", \"texas\", \"tha\", \"tha\", \"thief\", \"thief\", \"thief\", \"thing\", \"thing\", \"thing\", \"thing\", \"thing\", \"think\", \"think\", \"think\", \"think\", \"think\", \"thunder\", \"thunder\", \"thy\", \"ticket\", \"ticket\", \"time\", \"time\", \"time\", \"time\", \"time\", \"tonight\", \"tonight\", \"tonight\", \"tonight\", \"tonight\", \"town\", \"town\", \"town\", \"town\", \"town\", \"tragedy\", \"train\", \"train\", \"train\", \"train\", \"train\", \"travel\", \"travel\", \"travel\", \"travel\", \"travel\", \"treasure\", \"treasure\", \"tree\", \"tree\", \"tree\", \"tree\", \"tree\", \"try\", \"try\", \"try\", \"try\", \"try\", \"tuesday\", \"turn\", \"turn\", \"turn\", \"turn\", \"turn\", \"uette\", \"unconditional\", \"underwater\", \"vegas\", \"vein\", \"vein\", \"vein\", \"vein\", \"verse\", \"verse\", \"verse\", \"verse\", \"verse\", \"victim\", \"victim\", \"wait\", \"wait\", \"wait\", \"wait\", \"wait\", \"wanna\", \"wanna\", \"wanna\", \"wanna\", \"want\", \"want\", \"want\", \"want\", \"want\", \"war\", \"war\", \"war\", \"war\", \"warrior\", \"water\", \"water\", \"water\", \"water\", \"water\", \"way\", \"way\", \"way\", \"way\", \"way\", \"wild\", \"wild\", \"wild\", \"wild\", \"wild\", \"wind\", \"wind\", \"wind\", \"wind\", \"wing\", \"wing\", \"wing\", \"wing\", \"winter\", \"winter\", \"winter\", \"winter\", \"winter\", \"wit\", \"woh\", \"woman\", \"woman\", \"woman\", \"woman\", \"woman\", \"wonderland\", \"work\", \"work\", \"work\", \"work\", \"work\", \"world\", \"world\", \"world\", \"world\", \"world\", \"wound\", \"wound\", \"yeah\", \"yeah\", \"yeah\", \"yeah\", \"yeah\", \"yeh\", \"york\", \"york\"]}, \"R\": 30, \"lambda.step\": 0.01, \"plot.opts\": {\"xlab\": \"PC1\", \"ylab\": \"PC2\"}, \"topic.order\": [2, 3, 5, 1, 4]};\n",
       "\n",
       "function LDAvis_load_lib(url, callback){\n",
       "  var s = document.createElement('script');\n",
       "  s.src = url;\n",
       "  s.async = true;\n",
       "  s.onreadystatechange = s.onload = callback;\n",
       "  s.onerror = function(){console.warn(\"failed to load library \" + url);};\n",
       "  document.getElementsByTagName(\"head\")[0].appendChild(s);\n",
       "}\n",
       "\n",
       "if(typeof(LDAvis) !== \"undefined\"){\n",
       "   // already loaded: just create the visualization\n",
       "   !function(LDAvis){\n",
       "       new LDAvis(\"#\" + \"ldavis_el2315140559412233488265058179\", ldavis_el2315140559412233488265058179_data);\n",
       "   }(LDAvis);\n",
       "}else if(typeof define === \"function\" && define.amd){\n",
       "   // require.js is available: use it to load d3/LDAvis\n",
       "   require.config({paths: {d3: \"https://d3js.org/d3.v5\"}});\n",
       "   require([\"d3\"], function(d3){\n",
       "      window.d3 = d3;\n",
       "      LDAvis_load_lib(\"https://cdn.jsdelivr.net/gh/bmabey/pyLDAvis@3.3.1/pyLDAvis/js/ldavis.v3.0.0.js\", function(){\n",
       "        new LDAvis(\"#\" + \"ldavis_el2315140559412233488265058179\", ldavis_el2315140559412233488265058179_data);\n",
       "      });\n",
       "    });\n",
       "}else{\n",
       "    // require.js not available: dynamically load d3 & LDAvis\n",
       "    LDAvis_load_lib(\"https://d3js.org/d3.v5.js\", function(){\n",
       "         LDAvis_load_lib(\"https://cdn.jsdelivr.net/gh/bmabey/pyLDAvis@3.3.1/pyLDAvis/js/ldavis.v3.0.0.js\", function(){\n",
       "                 new LDAvis(\"#\" + \"ldavis_el2315140559412233488265058179\", ldavis_el2315140559412233488265058179_data);\n",
       "            })\n",
       "         });\n",
       "}\n",
       "</script>"
      ],
      "text/plain": [
       "PreparedData(topic_coordinates=              x         y  topics  cluster       Freq\n",
       "topic                                                \n",
       "1     -0.029361 -0.096985       1        1  35.491256\n",
       "2     -0.125027 -0.112061       2        1  19.650147\n",
       "4      0.202986 -0.045666       3        1  16.333096\n",
       "0     -0.167639  0.132237       4        1  14.280885\n",
       "3      0.119041  0.122475       5        1  14.244616, topic_info=      Term          Freq         Total Category  logprob  loglift\n",
       "33    love  21737.000000  21737.000000  Default  30.0000  30.0000\n",
       "116   girl   7135.000000   7135.000000  Default  29.0000  29.0000\n",
       "115    get  15959.000000  15959.000000  Default  28.0000  28.0000\n",
       "113   baby  10793.000000  10793.000000  Default  27.0000  27.0000\n",
       "110   yeah  10133.000000  10133.000000  Default  26.0000  26.0000\n",
       "..     ...           ...           ...      ...      ...      ...\n",
       "646  sweet    654.624992   1681.060385   Topic5  -5.5828   1.0057\n",
       "191    big    631.550835   1710.731414   Topic5  -5.6187   0.9523\n",
       "70    know   1081.580904  21533.380165   Topic5  -5.0807  -1.0424\n",
       "236    gon    851.764508   7991.215912   Topic5  -5.3195  -0.2900\n",
       "54     way    715.336833   8365.772256   Topic5  -5.4941  -0.5104\n",
       "\n",
       "[445 rows x 6 columns], token_table=       Topic      Freq      Term\n",
       "term                            \n",
       "3660       4  0.996864      aaah\n",
       "14895      4  0.979935      aahh\n",
       "1462       1  0.979947  addicted\n",
       "1462       2  0.018147  addicted\n",
       "56         1  0.261820     alive\n",
       "...      ...       ...       ...\n",
       "110        4  0.000592      yeah\n",
       "110        5  0.060491      yeah\n",
       "3802       5  0.994187       yeh\n",
       "1459       3  0.139188      york\n",
       "1459       5  0.857275      york\n",
       "\n",
       "[1062 rows x 3 columns], R=30, lambda_step=0.01, plot_opts={'xlab': 'PC1', 'ylab': 'PC2'}, topic_order=[2, 3, 5, 1, 4])"
      ]
     },
     "execution_count": 21,
     "metadata": {},
     "output_type": "execute_result"
    }
   ],
   "source": [
    "pyLDAvis.enable_notebook()\n",
    "vis = pyLDAvis.gensim_models.prepare(lda_multicore, corpus, id2words)\n",
    "vis"
   ]
  },
  {
   "cell_type": "code",
   "execution_count": 22,
   "id": "6771ef65",
   "metadata": {},
   "outputs": [
    {
     "name": "stderr",
     "output_type": "stream",
     "text": [
      "/Users/dylansivori/.local/share/virtualenvs/Spotify-Song-Suggester-AdyWyJ8v/lib/python3.8/site-packages/ipykernel/ipkernel.py:283: DeprecationWarning: `should_run_async` will not call `transform_cell` automatically in the future. Please pass the result to `transformed_cell` argument and any exception that happen during thetransform in `preprocessing_exc_tuple` in IPython 7.17 and above.\n",
      "  and should_run_async(code)\n"
     ]
    }
   ],
   "source": [
    "# create a dictionary \n",
    "# keys - use topic ids from pyLDAvis visualization \n",
    "# values - topic names that you create \n",
    "\n",
    "vis_topic_name_dict = {1:\"Existential\", \n",
    "                       2:\"Love\", \n",
    "                       3:\"Gangsta\", \n",
    "                       4:\"Religion\", \n",
    "                       5:\"Poppy\"\n",
    "                       }"
   ]
  },
  {
   "cell_type": "code",
   "execution_count": 23,
   "id": "68cd0546",
   "metadata": {},
   "outputs": [
    {
     "name": "stderr",
     "output_type": "stream",
     "text": [
      "/Users/dylansivori/.local/share/virtualenvs/Spotify-Song-Suggester-AdyWyJ8v/lib/python3.8/site-packages/ipykernel/ipkernel.py:283: DeprecationWarning: `should_run_async` will not call `transform_cell` automatically in the future. Please pass the result to `transformed_cell` argument and any exception that happen during thetransform in `preprocessing_exc_tuple` in IPython 7.17 and above.\n",
      "  and should_run_async(code)\n"
     ]
    }
   ],
   "source": [
    "def get_topic_id_lookup_dict(vis, vis_topic_name_dict):\n",
    "    \"\"\"\n",
    "    Both the starting index and the ordering of topic ids bewteen the trained LDA model \n",
    "    and the viz tool are different. So we need to create a look up dictionary that maps \n",
    "    the correct association between topic ids from both sources. \n",
    "    \"\"\"\n",
    "    # value is order of topic ids accoridng to pyLDAvis tool \n",
    "    # key is order of topic ids according to lda model\n",
    "    model_vis_tool_topic_id_lookup = vis.topic_coordinates.topics.to_dict()\n",
    "    #return model_vis_tool_topic_id_lookup\n",
    "\n",
    "    # invert dictionary so that \n",
    "    # key is order of topic ids accoridng to pyLDAvis tool \n",
    "    # value is order of topic ids according to lda model\n",
    "    topic_id_lookup =  {v:k for k, v in model_vis_tool_topic_id_lookup.items()}\n",
    "    \n",
    "    return {v:vis_topic_name_dict[k]  for k, v in topic_id_lookup.items()}"
   ]
  },
  {
   "cell_type": "code",
   "execution_count": 24,
   "id": "0dcefea7",
   "metadata": {},
   "outputs": [
    {
     "name": "stderr",
     "output_type": "stream",
     "text": [
      "/Users/dylansivori/.local/share/virtualenvs/Spotify-Song-Suggester-AdyWyJ8v/lib/python3.8/site-packages/ipykernel/ipkernel.py:283: DeprecationWarning: `should_run_async` will not call `transform_cell` automatically in the future. Please pass the result to `transformed_cell` argument and any exception that happen during thetransform in `preprocessing_exc_tuple` in IPython 7.17 and above.\n",
      "  and should_run_async(code)\n"
     ]
    }
   ],
   "source": [
    "# use get_topic_id_lookup_dict to update vis_topic_name_dict - save result to `topic_name_dict`\n",
    "\n",
    "topic_name_dict = get_topic_id_lookup_dict(vis, vis_topic_name_dict)\n"
   ]
  },
  {
   "cell_type": "code",
   "execution_count": 25,
   "id": "b589bd36",
   "metadata": {},
   "outputs": [
    {
     "name": "stderr",
     "output_type": "stream",
     "text": [
      "/Users/dylansivori/.local/share/virtualenvs/Spotify-Song-Suggester-AdyWyJ8v/lib/python3.8/site-packages/ipykernel/ipkernel.py:283: DeprecationWarning: `should_run_async` will not call `transform_cell` automatically in the future. Please pass the result to `transformed_cell` argument and any exception that happen during thetransform in `preprocessing_exc_tuple` in IPython 7.17 and above.\n",
      "  and should_run_async(code)\n"
     ]
    }
   ],
   "source": [
    "def get_topic_ids_for_docs(lda_model, corpus):\n",
    "    \n",
    "    \"\"\"\n",
    "    Passes a Bag-of-Words vector into a trained LDA model in order to get the topic id of that document. \n",
    "    \n",
    "    Parameters\n",
    "    ----------\n",
    "    lda_model: Gensim object\n",
    "        Must be a trained model \n",
    "        \n",
    "    corpus: nested lists of tuples, \n",
    "        i.e. [[(),(), ..., ()], [(),(), ..., ()], ..., [(),(), ..., ()]]\n",
    "        \n",
    "    Returns\n",
    "    -------\n",
    "    topic_id_list: list\n",
    "        Contains topic ids for all document vectors in corpus \n",
    "    \"\"\"\n",
    "    \n",
    "    # store topic ids for each document\n",
    "    doc_topic_ids = []\n",
    "\n",
    "    # iterature through the bow vectors for each doc\n",
    "    for doc_bow in corpus:\n",
    "        \n",
    "        # store the topic ids for the doc\n",
    "        topic_ids = []\n",
    "        # store the topic probabilities for the doc\n",
    "        topic_probs = []\n",
    "\n",
    "        # list of tuples\n",
    "        # each tuple has a topic id and the prob that the doc belongs to that topic \n",
    "        topic_id_prob_tuples = lda_multicore.get_document_topics(doc_bow)\n",
    "        \n",
    "        # iterate through the topic id/prob pairs \n",
    "        for topic_id_prob in topic_id_prob_tuples:\n",
    "            \n",
    "            # index for topic id\n",
    "            topic_id = topic_id_prob[0]\n",
    "            # index for prob that doc belongs that the corresponding topic\n",
    "            topic_prob = topic_id_prob[1]\n",
    "\n",
    "            # store all topic ids for doc\n",
    "            topic_ids.append(topic_id)\n",
    "            # store all topic probs for doc\n",
    "            topic_probs.append(topic_prob)\n",
    "\n",
    "        # get index for largest prob score\n",
    "        max_topic_prob_ind = np.argmax(topic_probs)\n",
    "        # get corresponding topic id\n",
    "        max_prob_topic_id = topic_ids[max_topic_prob_ind]\n",
    "        # store topic id that had the highest prob for doc being a memebr of that topic\n",
    "        doc_topic_ids.append(max_prob_topic_id)\n",
    "        \n",
    "    return doc_topic_ids"
   ]
  },
  {
   "cell_type": "code",
   "execution_count": 26,
   "id": "b7e308cf",
   "metadata": {},
   "outputs": [
    {
     "name": "stderr",
     "output_type": "stream",
     "text": [
      "/Users/dylansivori/.local/share/virtualenvs/Spotify-Song-Suggester-AdyWyJ8v/lib/python3.8/site-packages/ipykernel/ipkernel.py:283: DeprecationWarning: `should_run_async` will not call `transform_cell` automatically in the future. Please pass the result to `transformed_cell` argument and any exception that happen during thetransform in `preprocessing_exc_tuple` in IPython 7.17 and above.\n",
      "  and should_run_async(code)\n"
     ]
    }
   ],
   "source": [
    "# get the topic id for each doc in the corpus \n",
    "doc_topic_ids = get_topic_ids_for_docs(lda_multicore, corpus)\n",
    "\n",
    "# create a feature for document's topic id\n",
    "# topic ids from trained LDA model\n",
    "df_merged[\"topic_id\"] = doc_topic_ids\n",
    "\n",
    "# iterate through the topic id and use the lookup table to assign each document with a topic name\n",
    "df_merged[\"new_topic_name\"] = df_merged[\"topic_id\"].apply(lambda topic_id: topic_name_dict[topic_id])\n"
   ]
  },
  {
   "cell_type": "code",
   "execution_count": 27,
   "id": "608a43d5",
   "metadata": {
    "scrolled": true
   },
   "outputs": [
    {
     "name": "stderr",
     "output_type": "stream",
     "text": [
      "/Users/dylansivori/.local/share/virtualenvs/Spotify-Song-Suggester-AdyWyJ8v/lib/python3.8/site-packages/ipykernel/ipkernel.py:283: DeprecationWarning: `should_run_async` will not call `transform_cell` automatically in the future. Please pass the result to `transformed_cell` argument and any exception that happen during thetransform in `preprocessing_exc_tuple` in IPython 7.17 and above.\n",
      "  and should_run_async(code)\n"
     ]
    },
    {
     "data": {
      "text/html": [
       "<div>\n",
       "<style scoped>\n",
       "    .dataframe tbody tr th:only-of-type {\n",
       "        vertical-align: middle;\n",
       "    }\n",
       "\n",
       "    .dataframe tbody tr th {\n",
       "        vertical-align: top;\n",
       "    }\n",
       "\n",
       "    .dataframe thead th {\n",
       "        text-align: right;\n",
       "    }\n",
       "</style>\n",
       "<table border=\"1\" class=\"dataframe\">\n",
       "  <thead>\n",
       "    <tr style=\"text-align: right;\">\n",
       "      <th></th>\n",
       "      <th>Lyric</th>\n",
       "      <th>new_topic_name</th>\n",
       "    </tr>\n",
       "  </thead>\n",
       "  <tbody>\n",
       "    <tr>\n",
       "      <th>0</th>\n",
       "      <td>It starts with pain, followed by hate. Fueled ...</td>\n",
       "      <td>Love</td>\n",
       "    </tr>\n",
       "    <tr>\n",
       "      <th>1</th>\n",
       "      <td>You say you know just who I am. But you can't ...</td>\n",
       "      <td>Existential</td>\n",
       "    </tr>\n",
       "    <tr>\n",
       "      <th>2</th>\n",
       "      <td>We walk alone. In the unknown. We live to win ...</td>\n",
       "      <td>Love</td>\n",
       "    </tr>\n",
       "    <tr>\n",
       "      <th>3</th>\n",
       "      <td>A hundred days have made me older,. Since the ...</td>\n",
       "      <td>Existential</td>\n",
       "    </tr>\n",
       "    <tr>\n",
       "      <th>4</th>\n",
       "      <td>There's another world inside of me that you ma...</td>\n",
       "      <td>Existential</td>\n",
       "    </tr>\n",
       "  </tbody>\n",
       "</table>\n",
       "</div>"
      ],
      "text/plain": [
       "                                               Lyric new_topic_name\n",
       "0  It starts with pain, followed by hate. Fueled ...           Love\n",
       "1  You say you know just who I am. But you can't ...    Existential\n",
       "2  We walk alone. In the unknown. We live to win ...           Love\n",
       "3  A hundred days have made me older,. Since the ...    Existential\n",
       "4  There's another world inside of me that you ma...    Existential"
      ]
     },
     "execution_count": 27,
     "metadata": {},
     "output_type": "execute_result"
    }
   ],
   "source": [
    "cols = [\"Lyric\", \"new_topic_name\"]\n",
    "df_merged[cols].head()"
   ]
  },
  {
   "cell_type": "code",
   "execution_count": 28,
   "id": "3de6bac5",
   "metadata": {},
   "outputs": [
    {
     "name": "stderr",
     "output_type": "stream",
     "text": [
      "/Users/dylansivori/.local/share/virtualenvs/Spotify-Song-Suggester-AdyWyJ8v/lib/python3.8/site-packages/ipykernel/ipkernel.py:283: DeprecationWarning: `should_run_async` will not call `transform_cell` automatically in the future. Please pass the result to `transformed_cell` argument and any exception that happen during thetransform in `preprocessing_exc_tuple` in IPython 7.17 and above.\n",
      "  and should_run_async(code)\n",
      "/Users/dylansivori/.local/share/virtualenvs/Spotify-Song-Suggester-AdyWyJ8v/lib/python3.8/site-packages/category_encoders/utils.py:21: FutureWarning: is_categorical is deprecated and will be removed in a future version.  Use is_categorical_dtype instead\n",
      "  elif pd.api.types.is_categorical(cols):\n",
      "/Users/dylansivori/.local/share/virtualenvs/Spotify-Song-Suggester-AdyWyJ8v/lib/python3.8/site-packages/category_encoders/one_hot.py:208: DeprecationWarning: `np.int` is a deprecated alias for the builtin `int`. To silence this warning, use `int` by itself. Doing this will not modify any behavior and is safe. When replacing `np.int`, you may wish to use e.g. `np.int64` or `np.int32` to specify the precision. If you wish to review your current use, check the release note link for additional information.\n",
      "Deprecated in NumPy 1.20; for more details and guidance: https://numpy.org/devdocs/release/1.20.0-notes.html#deprecations\n",
      "  base_matrix = np.eye(N=len(index), dtype=np.int)\n"
     ]
    },
    {
     "data": {
      "text/html": [
       "<div>\n",
       "<style scoped>\n",
       "    .dataframe tbody tr th:only-of-type {\n",
       "        vertical-align: middle;\n",
       "    }\n",
       "\n",
       "    .dataframe tbody tr th {\n",
       "        vertical-align: top;\n",
       "    }\n",
       "\n",
       "    .dataframe thead th {\n",
       "        text-align: right;\n",
       "    }\n",
       "</style>\n",
       "<table border=\"1\" class=\"dataframe\">\n",
       "  <thead>\n",
       "    <tr style=\"text-align: right;\">\n",
       "      <th></th>\n",
       "      <th>new_topic_name_Love</th>\n",
       "      <th>new_topic_name_Existential</th>\n",
       "      <th>new_topic_name_Religion</th>\n",
       "      <th>new_topic_name_Poppy</th>\n",
       "      <th>new_topic_name_Gangsta</th>\n",
       "    </tr>\n",
       "  </thead>\n",
       "  <tbody>\n",
       "    <tr>\n",
       "      <th>0</th>\n",
       "      <td>1</td>\n",
       "      <td>0</td>\n",
       "      <td>0</td>\n",
       "      <td>0</td>\n",
       "      <td>0</td>\n",
       "    </tr>\n",
       "    <tr>\n",
       "      <th>1</th>\n",
       "      <td>0</td>\n",
       "      <td>1</td>\n",
       "      <td>0</td>\n",
       "      <td>0</td>\n",
       "      <td>0</td>\n",
       "    </tr>\n",
       "    <tr>\n",
       "      <th>2</th>\n",
       "      <td>1</td>\n",
       "      <td>0</td>\n",
       "      <td>0</td>\n",
       "      <td>0</td>\n",
       "      <td>0</td>\n",
       "    </tr>\n",
       "    <tr>\n",
       "      <th>3</th>\n",
       "      <td>0</td>\n",
       "      <td>1</td>\n",
       "      <td>0</td>\n",
       "      <td>0</td>\n",
       "      <td>0</td>\n",
       "    </tr>\n",
       "    <tr>\n",
       "      <th>4</th>\n",
       "      <td>0</td>\n",
       "      <td>1</td>\n",
       "      <td>0</td>\n",
       "      <td>0</td>\n",
       "      <td>0</td>\n",
       "    </tr>\n",
       "  </tbody>\n",
       "</table>\n",
       "</div>"
      ],
      "text/plain": [
       "   new_topic_name_Love  new_topic_name_Existential  new_topic_name_Religion  \\\n",
       "0                    1                           0                        0   \n",
       "1                    0                           1                        0   \n",
       "2                    1                           0                        0   \n",
       "3                    0                           1                        0   \n",
       "4                    0                           1                        0   \n",
       "\n",
       "   new_topic_name_Poppy  new_topic_name_Gangsta  \n",
       "0                     0                       0  \n",
       "1                     0                       0  \n",
       "2                     0                       0  \n",
       "3                     0                       0  \n",
       "4                     0                       0  "
      ]
     },
     "execution_count": 28,
     "metadata": {},
     "output_type": "execute_result"
    }
   ],
   "source": [
    "ohe = OneHotEncoder(use_cat_names=True)\n",
    "\n",
    "ohe_topics = ohe.fit_transform(df_merged['new_topic_name'])\n",
    "ohe_topics.head()"
   ]
  },
  {
   "cell_type": "code",
   "execution_count": 29,
   "id": "83b480f8",
   "metadata": {
    "scrolled": true
   },
   "outputs": [
    {
     "name": "stderr",
     "output_type": "stream",
     "text": [
      "/Users/dylansivori/.local/share/virtualenvs/Spotify-Song-Suggester-AdyWyJ8v/lib/python3.8/site-packages/ipykernel/ipkernel.py:283: DeprecationWarning: `should_run_async` will not call `transform_cell` automatically in the future. Please pass the result to `transformed_cell` argument and any exception that happen during thetransform in `preprocessing_exc_tuple` in IPython 7.17 and above.\n",
      "  and should_run_async(code)\n"
     ]
    },
    {
     "data": {
      "text/plain": [
       "(12780, 24)"
      ]
     },
     "execution_count": 29,
     "metadata": {},
     "output_type": "execute_result"
    }
   ],
   "source": [
    "df_merged.shape"
   ]
  },
  {
   "cell_type": "code",
   "execution_count": 30,
   "id": "27323960",
   "metadata": {
    "scrolled": true
   },
   "outputs": [
    {
     "name": "stderr",
     "output_type": "stream",
     "text": [
      "/Users/dylansivori/.local/share/virtualenvs/Spotify-Song-Suggester-AdyWyJ8v/lib/python3.8/site-packages/ipykernel/ipkernel.py:283: DeprecationWarning: `should_run_async` will not call `transform_cell` automatically in the future. Please pass the result to `transformed_cell` argument and any exception that happen during thetransform in `preprocessing_exc_tuple` in IPython 7.17 and above.\n",
      "  and should_run_async(code)\n"
     ]
    },
    {
     "data": {
      "text/html": [
       "<div>\n",
       "<style scoped>\n",
       "    .dataframe tbody tr th:only-of-type {\n",
       "        vertical-align: middle;\n",
       "    }\n",
       "\n",
       "    .dataframe tbody tr th {\n",
       "        vertical-align: top;\n",
       "    }\n",
       "\n",
       "    .dataframe thead th {\n",
       "        text-align: right;\n",
       "    }\n",
       "</style>\n",
       "<table border=\"1\" class=\"dataframe\">\n",
       "  <thead>\n",
       "    <tr style=\"text-align: right;\">\n",
       "      <th></th>\n",
       "      <th>Artist</th>\n",
       "      <th>name</th>\n",
       "      <th>SLink</th>\n",
       "      <th>Lyric</th>\n",
       "      <th>Idiom</th>\n",
       "      <th>id</th>\n",
       "      <th>popularity</th>\n",
       "      <th>explicit</th>\n",
       "      <th>id_artists</th>\n",
       "      <th>release_date</th>\n",
       "      <th>...</th>\n",
       "      <th>valence</th>\n",
       "      <th>tempo</th>\n",
       "      <th>time_signature</th>\n",
       "      <th>topic_id</th>\n",
       "      <th>new_topic_name</th>\n",
       "      <th>new_topic_name_Love</th>\n",
       "      <th>new_topic_name_Existential</th>\n",
       "      <th>new_topic_name_Religion</th>\n",
       "      <th>new_topic_name_Poppy</th>\n",
       "      <th>new_topic_name_Gangsta</th>\n",
       "    </tr>\n",
       "  </thead>\n",
       "  <tbody>\n",
       "    <tr>\n",
       "      <th>0</th>\n",
       "      <td>12 stones</td>\n",
       "      <td>world so cold</td>\n",
       "      <td>/12-stones/world-so-cold.html</td>\n",
       "      <td>It starts with pain, followed by hate. Fueled ...</td>\n",
       "      <td>ENGLISH</td>\n",
       "      <td>471eQ7hcJ7JdGY1NzMmUeg</td>\n",
       "      <td>55</td>\n",
       "      <td>0</td>\n",
       "      <td>['0DrXhci3WAyo0WJv1RBOG6']</td>\n",
       "      <td>2007-01-01</td>\n",
       "      <td>...</td>\n",
       "      <td>0.394</td>\n",
       "      <td>186.227</td>\n",
       "      <td>3</td>\n",
       "      <td>2</td>\n",
       "      <td>Love</td>\n",
       "      <td>1</td>\n",
       "      <td>0</td>\n",
       "      <td>0</td>\n",
       "      <td>0</td>\n",
       "      <td>0</td>\n",
       "    </tr>\n",
       "    <tr>\n",
       "      <th>1</th>\n",
       "      <td>12 stones</td>\n",
       "      <td>anthem for the underdog</td>\n",
       "      <td>/12-stones/anthem-for-the-underdog.html</td>\n",
       "      <td>You say you know just who I am. But you can't ...</td>\n",
       "      <td>ENGLISH</td>\n",
       "      <td>6FFwt1ea9hJ4MfMQLywahm</td>\n",
       "      <td>59</td>\n",
       "      <td>0</td>\n",
       "      <td>['0DrXhci3WAyo0WJv1RBOG6']</td>\n",
       "      <td>2007-01-01</td>\n",
       "      <td>...</td>\n",
       "      <td>0.468</td>\n",
       "      <td>93.977</td>\n",
       "      <td>3</td>\n",
       "      <td>1</td>\n",
       "      <td>Existential</td>\n",
       "      <td>0</td>\n",
       "      <td>1</td>\n",
       "      <td>0</td>\n",
       "      <td>0</td>\n",
       "      <td>0</td>\n",
       "    </tr>\n",
       "    <tr>\n",
       "      <th>2</th>\n",
       "      <td>12 stones</td>\n",
       "      <td>we are one</td>\n",
       "      <td>/12-stones/we-are-one.html</td>\n",
       "      <td>We walk alone. In the unknown. We live to win ...</td>\n",
       "      <td>ENGLISH</td>\n",
       "      <td>4lhqal0Hq63U2wETCeBdG1</td>\n",
       "      <td>58</td>\n",
       "      <td>0</td>\n",
       "      <td>['0DrXhci3WAyo0WJv1RBOG6']</td>\n",
       "      <td>2010-01-01</td>\n",
       "      <td>...</td>\n",
       "      <td>0.306</td>\n",
       "      <td>127.102</td>\n",
       "      <td>4</td>\n",
       "      <td>2</td>\n",
       "      <td>Love</td>\n",
       "      <td>1</td>\n",
       "      <td>0</td>\n",
       "      <td>0</td>\n",
       "      <td>0</td>\n",
       "      <td>0</td>\n",
       "    </tr>\n",
       "    <tr>\n",
       "      <th>3</th>\n",
       "      <td>3 doors down</td>\n",
       "      <td>here without you</td>\n",
       "      <td>/3-doors-down/here-without-you.html</td>\n",
       "      <td>A hundred days have made me older,. Since the ...</td>\n",
       "      <td>ENGLISH</td>\n",
       "      <td>3NLrRZoMF0Lx6zTlYqeIo4</td>\n",
       "      <td>76</td>\n",
       "      <td>0</td>\n",
       "      <td>['2RTUTCvo6onsAnheUk3aL9']</td>\n",
       "      <td>2002-11-12</td>\n",
       "      <td>...</td>\n",
       "      <td>0.233</td>\n",
       "      <td>143.994</td>\n",
       "      <td>4</td>\n",
       "      <td>1</td>\n",
       "      <td>Existential</td>\n",
       "      <td>0</td>\n",
       "      <td>1</td>\n",
       "      <td>0</td>\n",
       "      <td>0</td>\n",
       "      <td>0</td>\n",
       "    </tr>\n",
       "    <tr>\n",
       "      <th>4</th>\n",
       "      <td>3 doors down</td>\n",
       "      <td>when i'm gone</td>\n",
       "      <td>/3-doors-down/when-im-gone.html</td>\n",
       "      <td>There's another world inside of me that you ma...</td>\n",
       "      <td>ENGLISH</td>\n",
       "      <td>3WbphvawbMZ8FyqDxYGdSQ</td>\n",
       "      <td>70</td>\n",
       "      <td>0</td>\n",
       "      <td>['2RTUTCvo6onsAnheUk3aL9']</td>\n",
       "      <td>2002-11-12</td>\n",
       "      <td>...</td>\n",
       "      <td>0.374</td>\n",
       "      <td>148.095</td>\n",
       "      <td>4</td>\n",
       "      <td>1</td>\n",
       "      <td>Existential</td>\n",
       "      <td>0</td>\n",
       "      <td>1</td>\n",
       "      <td>0</td>\n",
       "      <td>0</td>\n",
       "      <td>0</td>\n",
       "    </tr>\n",
       "  </tbody>\n",
       "</table>\n",
       "<p>5 rows × 29 columns</p>\n",
       "</div>"
      ],
      "text/plain": [
       "         Artist                     name  \\\n",
       "0     12 stones            world so cold   \n",
       "1     12 stones  anthem for the underdog   \n",
       "2     12 stones               we are one   \n",
       "3  3 doors down         here without you   \n",
       "4  3 doors down            when i'm gone   \n",
       "\n",
       "                                     SLink  \\\n",
       "0            /12-stones/world-so-cold.html   \n",
       "1  /12-stones/anthem-for-the-underdog.html   \n",
       "2               /12-stones/we-are-one.html   \n",
       "3      /3-doors-down/here-without-you.html   \n",
       "4          /3-doors-down/when-im-gone.html   \n",
       "\n",
       "                                               Lyric    Idiom  \\\n",
       "0  It starts with pain, followed by hate. Fueled ...  ENGLISH   \n",
       "1  You say you know just who I am. But you can't ...  ENGLISH   \n",
       "2  We walk alone. In the unknown. We live to win ...  ENGLISH   \n",
       "3  A hundred days have made me older,. Since the ...  ENGLISH   \n",
       "4  There's another world inside of me that you ma...  ENGLISH   \n",
       "\n",
       "                       id  popularity  explicit                  id_artists  \\\n",
       "0  471eQ7hcJ7JdGY1NzMmUeg          55         0  ['0DrXhci3WAyo0WJv1RBOG6']   \n",
       "1  6FFwt1ea9hJ4MfMQLywahm          59         0  ['0DrXhci3WAyo0WJv1RBOG6']   \n",
       "2  4lhqal0Hq63U2wETCeBdG1          58         0  ['0DrXhci3WAyo0WJv1RBOG6']   \n",
       "3  3NLrRZoMF0Lx6zTlYqeIo4          76         0  ['2RTUTCvo6onsAnheUk3aL9']   \n",
       "4  3WbphvawbMZ8FyqDxYGdSQ          70         0  ['2RTUTCvo6onsAnheUk3aL9']   \n",
       "\n",
       "  release_date  ...  valence    tempo  time_signature  topic_id  \\\n",
       "0   2007-01-01  ...    0.394  186.227               3         2   \n",
       "1   2007-01-01  ...    0.468   93.977               3         1   \n",
       "2   2010-01-01  ...    0.306  127.102               4         2   \n",
       "3   2002-11-12  ...    0.233  143.994               4         1   \n",
       "4   2002-11-12  ...    0.374  148.095               4         1   \n",
       "\n",
       "   new_topic_name  new_topic_name_Love  new_topic_name_Existential  \\\n",
       "0            Love                    1                           0   \n",
       "1     Existential                    0                           1   \n",
       "2            Love                    1                           0   \n",
       "3     Existential                    0                           1   \n",
       "4     Existential                    0                           1   \n",
       "\n",
       "   new_topic_name_Religion  new_topic_name_Poppy  new_topic_name_Gangsta  \n",
       "0                        0                     0                       0  \n",
       "1                        0                     0                       0  \n",
       "2                        0                     0                       0  \n",
       "3                        0                     0                       0  \n",
       "4                        0                     0                       0  \n",
       "\n",
       "[5 rows x 29 columns]"
      ]
     },
     "execution_count": 30,
     "metadata": {},
     "output_type": "execute_result"
    }
   ],
   "source": [
    "df_merged_ohe = pd.concat([df_merged, ohe_topics], axis=1)\n",
    "df_merged_ohe.head()"
   ]
  },
  {
   "cell_type": "code",
   "execution_count": 31,
   "id": "82d9a56d",
   "metadata": {},
   "outputs": [
    {
     "name": "stderr",
     "output_type": "stream",
     "text": [
      "/Users/dylansivori/.local/share/virtualenvs/Spotify-Song-Suggester-AdyWyJ8v/lib/python3.8/site-packages/ipykernel/ipkernel.py:283: DeprecationWarning: `should_run_async` will not call `transform_cell` automatically in the future. Please pass the result to `transformed_cell` argument and any exception that happen during thetransform in `preprocessing_exc_tuple` in IPython 7.17 and above.\n",
      "  and should_run_async(code)\n"
     ]
    },
    {
     "data": {
      "text/html": [
       "<div>\n",
       "<style scoped>\n",
       "    .dataframe tbody tr th:only-of-type {\n",
       "        vertical-align: middle;\n",
       "    }\n",
       "\n",
       "    .dataframe tbody tr th {\n",
       "        vertical-align: top;\n",
       "    }\n",
       "\n",
       "    .dataframe thead th {\n",
       "        text-align: right;\n",
       "    }\n",
       "</style>\n",
       "<table border=\"1\" class=\"dataframe\">\n",
       "  <thead>\n",
       "    <tr style=\"text-align: right;\">\n",
       "      <th></th>\n",
       "      <th>Artist</th>\n",
       "      <th>name</th>\n",
       "      <th>SLink</th>\n",
       "      <th>Lyric</th>\n",
       "      <th>Idiom</th>\n",
       "      <th>id</th>\n",
       "      <th>popularity</th>\n",
       "      <th>explicit</th>\n",
       "      <th>id_artists</th>\n",
       "      <th>release_date</th>\n",
       "      <th>...</th>\n",
       "      <th>valence</th>\n",
       "      <th>tempo</th>\n",
       "      <th>time_signature</th>\n",
       "      <th>topic_id</th>\n",
       "      <th>new_topic_name</th>\n",
       "      <th>new_topic_name_Love</th>\n",
       "      <th>new_topic_name_Existential</th>\n",
       "      <th>new_topic_name_Religion</th>\n",
       "      <th>new_topic_name_Poppy</th>\n",
       "      <th>new_topic_name_Gangsta</th>\n",
       "    </tr>\n",
       "  </thead>\n",
       "  <tbody>\n",
       "    <tr>\n",
       "      <th>3776</th>\n",
       "      <td>john lennon</td>\n",
       "      <td>imagine</td>\n",
       "      <td>/john-lennon/imagine.html</td>\n",
       "      <td>Imagine there's no heaven. It's easy if you tr...</td>\n",
       "      <td>ENGLISH</td>\n",
       "      <td>4lwh5BoHBFGjKNAF3sNNCK</td>\n",
       "      <td>25</td>\n",
       "      <td>0</td>\n",
       "      <td>['4x1nvY2FN8jxqAFA0DA02H']</td>\n",
       "      <td>1971-09-09</td>\n",
       "      <td>...</td>\n",
       "      <td>0.218</td>\n",
       "      <td>74.4</td>\n",
       "      <td>4</td>\n",
       "      <td>2</td>\n",
       "      <td>Love</td>\n",
       "      <td>1</td>\n",
       "      <td>0</td>\n",
       "      <td>0</td>\n",
       "      <td>0</td>\n",
       "      <td>0</td>\n",
       "    </tr>\n",
       "  </tbody>\n",
       "</table>\n",
       "<p>1 rows × 29 columns</p>\n",
       "</div>"
      ],
      "text/plain": [
       "           Artist     name                      SLink  \\\n",
       "3776  john lennon  imagine  /john-lennon/imagine.html   \n",
       "\n",
       "                                                  Lyric    Idiom  \\\n",
       "3776  Imagine there's no heaven. It's easy if you tr...  ENGLISH   \n",
       "\n",
       "                          id  popularity  explicit  \\\n",
       "3776  4lwh5BoHBFGjKNAF3sNNCK          25         0   \n",
       "\n",
       "                      id_artists release_date  ...  valence  tempo  \\\n",
       "3776  ['4x1nvY2FN8jxqAFA0DA02H']   1971-09-09  ...    0.218   74.4   \n",
       "\n",
       "      time_signature  topic_id  new_topic_name  new_topic_name_Love  \\\n",
       "3776               4         2            Love                    1   \n",
       "\n",
       "      new_topic_name_Existential  new_topic_name_Religion  \\\n",
       "3776                           0                        0   \n",
       "\n",
       "      new_topic_name_Poppy  new_topic_name_Gangsta  \n",
       "3776                     0                       0  \n",
       "\n",
       "[1 rows x 29 columns]"
      ]
     },
     "execution_count": 31,
     "metadata": {},
     "output_type": "execute_result"
    }
   ],
   "source": [
    "# user selects what song\n",
    "user_selected_song = 'imagine'\n",
    "user_selected_artist = 'john lennon'\n",
    "\n",
    "song_row = df_merged_ohe[(df_merged_ohe['name'] == user_selected_song) & (df_merged_ohe['Artist'] == user_selected_artist)]\n",
    "song_row"
   ]
  },
  {
   "cell_type": "code",
   "execution_count": 32,
   "id": "50fa36e1",
   "metadata": {},
   "outputs": [
    {
     "name": "stderr",
     "output_type": "stream",
     "text": [
      "/Users/dylansivori/.local/share/virtualenvs/Spotify-Song-Suggester-AdyWyJ8v/lib/python3.8/site-packages/ipykernel/ipkernel.py:283: DeprecationWarning: `should_run_async` will not call `transform_cell` automatically in the future. Please pass the result to `transformed_cell` argument and any exception that happen during thetransform in `preprocessing_exc_tuple` in IPython 7.17 and above.\n",
      "  and should_run_async(code)\n"
     ]
    },
    {
     "data": {
      "text/plain": [
       "NearestNeighbors(algorithm='kd_tree', n_neighbors=10)"
      ]
     },
     "execution_count": 32,
     "metadata": {},
     "output_type": "execute_result"
    }
   ],
   "source": [
    "# drop categorical data, prepare for input to model\n",
    "song_row = keep_wanted_columns(song_row)\n",
    "df_dropped = keep_wanted_columns(df_merged_ohe)\n",
    "\n",
    "# instantiate Nearest Neighbors model\n",
    "nn = NearestNeighbors(n_neighbors=10, algorithm='kd_tree')\n",
    "\n",
    "# fit the model\n",
    "nn.fit(df_dropped)"
   ]
  },
  {
   "cell_type": "code",
   "execution_count": 33,
   "id": "695a4d08",
   "metadata": {},
   "outputs": [
    {
     "name": "stderr",
     "output_type": "stream",
     "text": [
      "/Users/dylansivori/.local/share/virtualenvs/Spotify-Song-Suggester-AdyWyJ8v/lib/python3.8/site-packages/ipykernel/ipkernel.py:283: DeprecationWarning: `should_run_async` will not call `transform_cell` automatically in the future. Please pass the result to `transformed_cell` argument and any exception that happen during thetransform in `preprocessing_exc_tuple` in IPython 7.17 and above.\n",
      "  and should_run_async(code)\n"
     ]
    }
   ],
   "source": [
    "neigh_dist, neigh_index = nn.kneighbors(song_row)"
   ]
  },
  {
   "cell_type": "code",
   "execution_count": 34,
   "id": "f36ce6ba",
   "metadata": {},
   "outputs": [
    {
     "name": "stderr",
     "output_type": "stream",
     "text": [
      "/Users/dylansivori/.local/share/virtualenvs/Spotify-Song-Suggester-AdyWyJ8v/lib/python3.8/site-packages/ipykernel/ipkernel.py:283: DeprecationWarning: `should_run_async` will not call `transform_cell` automatically in the future. Please pass the result to `transformed_cell` argument and any exception that happen during thetransform in `preprocessing_exc_tuple` in IPython 7.17 and above.\n",
      "  and should_run_async(code)\n"
     ]
    },
    {
     "data": {
      "text/plain": [
       "array([ 2434, 10275,  2536,   906,  1327,  2617,  8731, 11773,  8643])"
      ]
     },
     "execution_count": 34,
     "metadata": {},
     "output_type": "execute_result"
    }
   ],
   "source": [
    "neigh_index = neigh_index[0][1:]\n",
    "neigh_index"
   ]
  },
  {
   "cell_type": "code",
   "execution_count": 35,
   "id": "1e9fd083",
   "metadata": {},
   "outputs": [
    {
     "name": "stdout",
     "output_type": "stream",
     "text": [
      "my wish came true\n",
      "let me go\n",
      "tell me why\n",
      "i'm not there\n",
      "girl on my mind\n",
      "your love's been a long time coming\n",
      "across the bridge where angels dwell\n",
      "wings of my love\n",
      "too scared to run\n"
     ]
    },
    {
     "name": "stderr",
     "output_type": "stream",
     "text": [
      "/Users/dylansivori/.local/share/virtualenvs/Spotify-Song-Suggester-AdyWyJ8v/lib/python3.8/site-packages/ipykernel/ipkernel.py:283: DeprecationWarning: `should_run_async` will not call `transform_cell` automatically in the future. Please pass the result to `transformed_cell` argument and any exception that happen during thetransform in `preprocessing_exc_tuple` in IPython 7.17 and above.\n",
      "  and should_run_async(code)\n"
     ]
    }
   ],
   "source": [
    "for index in neigh_index:\n",
    "    print(df_merged['name'].iloc[index])"
   ]
  },
  {
   "cell_type": "code",
   "execution_count": 36,
   "id": "48dcd42d",
   "metadata": {},
   "outputs": [
    {
     "name": "stderr",
     "output_type": "stream",
     "text": [
      "/Users/dylansivori/.local/share/virtualenvs/Spotify-Song-Suggester-AdyWyJ8v/lib/python3.8/site-packages/ipykernel/ipkernel.py:283: DeprecationWarning: `should_run_async` will not call `transform_cell` automatically in the future. Please pass the result to `transformed_cell` argument and any exception that happen during thetransform in `preprocessing_exc_tuple` in IPython 7.17 and above.\n",
      "  and should_run_async(code)\n"
     ]
    },
    {
     "data": {
      "text/plain": [
       "['../data/NearestNeighborModelWithTopics']"
      ]
     },
     "execution_count": 36,
     "metadata": {},
     "output_type": "execute_result"
    }
   ],
   "source": [
    "# pickle trained model to be used in application\n",
    "joblib.dump(nn, '../data/NearestNeighborModelWithTopics')"
   ]
  },
  {
   "cell_type": "code",
   "execution_count": 37,
   "id": "330e84b0",
   "metadata": {
    "scrolled": true
   },
   "outputs": [
    {
     "name": "stderr",
     "output_type": "stream",
     "text": [
      "/Users/dylansivori/.local/share/virtualenvs/Spotify-Song-Suggester-AdyWyJ8v/lib/python3.8/site-packages/ipykernel/ipkernel.py:283: DeprecationWarning: `should_run_async` will not call `transform_cell` automatically in the future. Please pass the result to `transformed_cell` argument and any exception that happen during thetransform in `preprocessing_exc_tuple` in IPython 7.17 and above.\n",
      "  and should_run_async(code)\n"
     ]
    }
   ],
   "source": [
    "# export merged dataframe to csv\n",
    "df_merged_ohe.to_csv('../data/df_with_topics.csv')"
   ]
  },
  {
   "cell_type": "code",
   "execution_count": null,
   "id": "c3f1c731",
   "metadata": {},
   "outputs": [],
   "source": []
  },
  {
   "cell_type": "code",
   "execution_count": null,
   "id": "8996b91d",
   "metadata": {},
   "outputs": [],
   "source": []
  },
  {
   "cell_type": "code",
   "execution_count": null,
   "id": "110d5b81",
   "metadata": {},
   "outputs": [],
   "source": []
  }
 ],
 "metadata": {
  "kernelspec": {
   "display_name": "Python 3",
   "language": "python",
   "name": "python3"
  },
  "language_info": {
   "codemirror_mode": {
    "name": "ipython",
    "version": 3
   },
   "file_extension": ".py",
   "mimetype": "text/x-python",
   "name": "python",
   "nbconvert_exporter": "python",
   "pygments_lexer": "ipython3",
   "version": "3.8.7"
  }
 },
 "nbformat": 4,
 "nbformat_minor": 5
}
