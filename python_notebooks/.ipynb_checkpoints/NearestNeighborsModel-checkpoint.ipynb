{
 "cells": [
  {
   "cell_type": "code",
   "execution_count": 1,
   "id": "0cdef03b",
   "metadata": {},
   "outputs": [
    {
     "name": "stderr",
     "output_type": "stream",
     "text": [
      "/Users/dylansivori/.local/share/virtualenvs/Spotify-Song-Suggester-AdyWyJ8v/lib/python3.8/site-packages/gensim/similarities/__init__.py:15: UserWarning: The gensim.similarities.levenshtein submodule is disabled, because the optional Levenshtein package <https://pypi.org/project/python-Levenshtein/> is unavailable. Install Levenhstein (e.g. `pip install python-Levenshtein`) to suppress this warning.\n",
      "  warnings.warn(msg)\n"
     ]
    }
   ],
   "source": [
    "# import libraries\n",
    "import pandas as pd\n",
    "from sklearn.neighbors import NearestNeighbors\n",
    "import joblib\n",
    "import spacy\n",
    "import re\n",
    "import gensim\n",
    "import gensim.corpora as corpora\n",
    "from gensim.utils import simple_preprocess\n",
    "from gensim.models import CoherenceModel\n",
    "import pyLDAvis\n",
    "import pyLDAvis.gensim_models"
   ]
  },
  {
   "cell_type": "code",
   "execution_count": 2,
   "id": "beb21657",
   "metadata": {},
   "outputs": [
    {
     "name": "stderr",
     "output_type": "stream",
     "text": [
      "/Users/dylansivori/.local/share/virtualenvs/Spotify-Song-Suggester-AdyWyJ8v/lib/python3.8/site-packages/ipykernel/ipkernel.py:283: DeprecationWarning: `should_run_async` will not call `transform_cell` automatically in the future. Please pass the result to `transformed_cell` argument and any exception that happen during thetransform in `preprocessing_exc_tuple` in IPython 7.17 and above.\n",
      "  and should_run_async(code)\n"
     ]
    }
   ],
   "source": [
    "# run once\n",
    "# !python -m spacy download en_core_web_lg"
   ]
  },
  {
   "cell_type": "code",
   "execution_count": 3,
   "id": "e4e9fa29",
   "metadata": {},
   "outputs": [
    {
     "name": "stderr",
     "output_type": "stream",
     "text": [
      "/Users/dylansivori/.local/share/virtualenvs/Spotify-Song-Suggester-AdyWyJ8v/lib/python3.8/site-packages/ipykernel/ipkernel.py:283: DeprecationWarning: `should_run_async` will not call `transform_cell` automatically in the future. Please pass the result to `transformed_cell` argument and any exception that happen during thetransform in `preprocessing_exc_tuple` in IPython 7.17 and above.\n",
      "  and should_run_async(code)\n"
     ]
    }
   ],
   "source": [
    "# load spacy model\n",
    "\n",
    "nlp = spacy.load(\"en_core_web_lg\")"
   ]
  },
  {
   "cell_type": "markdown",
   "id": "024e35c6",
   "metadata": {},
   "source": [
    "# Baseline Nearest Neighbors Model"
   ]
  },
  {
   "cell_type": "code",
   "execution_count": 4,
   "id": "727c2ae5",
   "metadata": {},
   "outputs": [
    {
     "name": "stderr",
     "output_type": "stream",
     "text": [
      "/Users/dylansivori/.local/share/virtualenvs/Spotify-Song-Suggester-AdyWyJ8v/lib/python3.8/site-packages/ipykernel/ipkernel.py:283: DeprecationWarning: `should_run_async` will not call `transform_cell` automatically in the future. Please pass the result to `transformed_cell` argument and any exception that happen during thetransform in `preprocessing_exc_tuple` in IPython 7.17 and above.\n",
      "  and should_run_async(code)\n",
      "<>:31: DeprecationWarning: invalid escape sequence \\S\n",
      "<>:31: DeprecationWarning: invalid escape sequence \\S\n",
      "<ipython-input-4-3d0839ad7a08>:31: DeprecationWarning: invalid escape sequence \\S\n",
      "  strip_post_dash = ' - \\S+'\n"
     ]
    }
   ],
   "source": [
    "# read in data\n",
    "data_path = \"../data/\"\n",
    "\n",
    "def wrangle(data_path):\n",
    "\n",
    "    # reads in the data\n",
    "    df_tracks = pd.read_csv(data_path + 'tracks.csv', parse_dates=['release_date'])\n",
    "    df_lyrics = pd.read_csv(data_path + 'lyrics.csv') #usecols=['SName', 'Lyric']\n",
    "    \n",
    "    # drop null values on df_tracks\n",
    "    df_tracks.dropna(inplace=True)\n",
    "    df_lyrics.dropna(inplace=True)\n",
    "    \n",
    "    # case normalization on song names\n",
    "    df_lyrics['SName'] = df_lyrics['SName'].apply(lambda x: x.lower())\n",
    "    df_tracks['name'] = df_tracks['name'].apply(lambda x: x.lower())\n",
    "    \n",
    "    # clean up df_lyrics data for merging\n",
    "    df_lyrics = df_lyrics.rename(columns={'ALink': 'Artist', 'SName': 'name'})\n",
    "    df_lyrics['Artist'] = df_lyrics['Artist'].apply(lambda x: x.rstrip('/').lstrip('/').replace('-', \" \").lower())\n",
    "\n",
    "    # drops duplicate lyrics \n",
    "    df_lyrics = df_lyrics.drop_duplicates(subset=['Artist', 'name'])\n",
    "    \n",
    "    # clean up df_tracks data for merging\n",
    "    df_tracks = df_tracks.rename(columns={'artists': 'Artist'})\n",
    "\n",
    "    df_tracks['Artist'] = df_tracks['Artist'].apply(lambda x: x.lstrip(\"['\").rstrip(\"']\").lower())\n",
    "    \n",
    "    # use regex to strip acoustic/remix versions\n",
    "    strip_post_dash = ' - \\S+'\n",
    "    strip_version = ' version'\n",
    "\n",
    "    df_tracks['name'] = df_tracks['name'].apply(lambda song_name: re.sub(strip_post_dash, \"\", song_name))\n",
    "    df_tracks['name'] = df_tracks['name'].apply(lambda song_name: re.sub(strip_version, \"\", song_name))\n",
    "    \n",
    "    # drop duplicate rows\n",
    "    df_tracks = df_tracks.drop_duplicates(subset=['Artist', 'name'])\n",
    "    \n",
    "    df_merged = pd.merge(df_lyrics, df_tracks, on=['Artist', 'name'], how='inner')\n",
    "    \n",
    "    # drop unwanted columns\n",
    "    df_merged = df_merged.drop(columns=['duration_ms'])\n",
    "    \n",
    "    df_merged = df_merged[df_merged['Idiom'] == 'ENGLISH']\n",
    "    \n",
    "    # original merge dataframes\n",
    "    # df_merged = pd.merge(df_tracks, df_lyrics, how='inner', left_on=['name'], right_on='SName')\n",
    "    \n",
    "    \n",
    "    # original drop columns not used in NN model\n",
    "    # df_merged = df_merged.drop(columns= ['id', 'name', 'artists', 'id_artists', 'release_date', ])\n",
    "    \n",
    "    return df_merged\n",
    "\n",
    "def keep_wanted_columns(df):\n",
    "    df_dropped = df[['popularity', 'explicit', 'danceability', 'energy', 'key', 'loudness', 'mode', 'speechiness', 'acousticness',\n",
    "       'instrumentalness', 'liveness', 'valence', 'tempo', 'time_signature']]\n",
    "    \n",
    "    #drop(columns= ['Artist', 'name', 'SLink', 'Lyric', 'Idiom', 'id_artists', 'id', 'release_date'])\n",
    "    \n",
    "    return df_dropped"
   ]
  },
  {
   "cell_type": "code",
   "execution_count": 5,
   "id": "fd4f13b2",
   "metadata": {},
   "outputs": [
    {
     "name": "stderr",
     "output_type": "stream",
     "text": [
      "/Users/dylansivori/.local/share/virtualenvs/Spotify-Song-Suggester-AdyWyJ8v/lib/python3.8/site-packages/ipykernel/ipkernel.py:283: DeprecationWarning: `should_run_async` will not call `transform_cell` automatically in the future. Please pass the result to `transformed_cell` argument and any exception that happen during thetransform in `preprocessing_exc_tuple` in IPython 7.17 and above.\n",
      "  and should_run_async(code)\n"
     ]
    }
   ],
   "source": [
    "df_merged = wrangle(data_path)"
   ]
  },
  {
   "cell_type": "code",
   "execution_count": 30,
   "id": "b3b88a4b",
   "metadata": {},
   "outputs": [
    {
     "name": "stderr",
     "output_type": "stream",
     "text": [
      "/Users/dylansivori/.local/share/virtualenvs/Spotify-Song-Suggester-AdyWyJ8v/lib/python3.8/site-packages/ipykernel/ipkernel.py:283: DeprecationWarning: `should_run_async` will not call `transform_cell` automatically in the future. Please pass the result to `transformed_cell` argument and any exception that happen during thetransform in `preprocessing_exc_tuple` in IPython 7.17 and above.\n",
      "  and should_run_async(code)\n"
     ]
    },
    {
     "data": {
      "text/plain": [
       "(12780, 22)"
      ]
     },
     "execution_count": 30,
     "metadata": {},
     "output_type": "execute_result"
    }
   ],
   "source": [
    "df_merged.shape"
   ]
  },
  {
   "cell_type": "code",
   "execution_count": 6,
   "id": "5217f3ef",
   "metadata": {
    "scrolled": true
   },
   "outputs": [
    {
     "name": "stderr",
     "output_type": "stream",
     "text": [
      "/Users/dylansivori/.local/share/virtualenvs/Spotify-Song-Suggester-AdyWyJ8v/lib/python3.8/site-packages/ipykernel/ipkernel.py:283: DeprecationWarning: `should_run_async` will not call `transform_cell` automatically in the future. Please pass the result to `transformed_cell` argument and any exception that happen during thetransform in `preprocessing_exc_tuple` in IPython 7.17 and above.\n",
      "  and should_run_async(code)\n"
     ]
    },
    {
     "data": {
      "text/html": [
       "<div>\n",
       "<style scoped>\n",
       "    .dataframe tbody tr th:only-of-type {\n",
       "        vertical-align: middle;\n",
       "    }\n",
       "\n",
       "    .dataframe tbody tr th {\n",
       "        vertical-align: top;\n",
       "    }\n",
       "\n",
       "    .dataframe thead th {\n",
       "        text-align: right;\n",
       "    }\n",
       "</style>\n",
       "<table border=\"1\" class=\"dataframe\">\n",
       "  <thead>\n",
       "    <tr style=\"text-align: right;\">\n",
       "      <th></th>\n",
       "      <th>Artist</th>\n",
       "      <th>name</th>\n",
       "      <th>SLink</th>\n",
       "      <th>Lyric</th>\n",
       "      <th>Idiom</th>\n",
       "      <th>id</th>\n",
       "      <th>popularity</th>\n",
       "      <th>explicit</th>\n",
       "      <th>id_artists</th>\n",
       "      <th>release_date</th>\n",
       "      <th>...</th>\n",
       "      <th>key</th>\n",
       "      <th>loudness</th>\n",
       "      <th>mode</th>\n",
       "      <th>speechiness</th>\n",
       "      <th>acousticness</th>\n",
       "      <th>instrumentalness</th>\n",
       "      <th>liveness</th>\n",
       "      <th>valence</th>\n",
       "      <th>tempo</th>\n",
       "      <th>time_signature</th>\n",
       "    </tr>\n",
       "  </thead>\n",
       "  <tbody>\n",
       "    <tr>\n",
       "      <th>0</th>\n",
       "      <td>12 stones</td>\n",
       "      <td>world so cold</td>\n",
       "      <td>/12-stones/world-so-cold.html</td>\n",
       "      <td>It starts with pain, followed by hate. Fueled ...</td>\n",
       "      <td>ENGLISH</td>\n",
       "      <td>471eQ7hcJ7JdGY1NzMmUeg</td>\n",
       "      <td>55</td>\n",
       "      <td>0</td>\n",
       "      <td>['0DrXhci3WAyo0WJv1RBOG6']</td>\n",
       "      <td>2007-01-01</td>\n",
       "      <td>...</td>\n",
       "      <td>4</td>\n",
       "      <td>-4.949</td>\n",
       "      <td>0</td>\n",
       "      <td>0.0443</td>\n",
       "      <td>0.472000</td>\n",
       "      <td>0.000000</td>\n",
       "      <td>0.360</td>\n",
       "      <td>0.394</td>\n",
       "      <td>186.227</td>\n",
       "      <td>3</td>\n",
       "    </tr>\n",
       "    <tr>\n",
       "      <th>1</th>\n",
       "      <td>12 stones</td>\n",
       "      <td>anthem for the underdog</td>\n",
       "      <td>/12-stones/anthem-for-the-underdog.html</td>\n",
       "      <td>You say you know just who I am. But you can't ...</td>\n",
       "      <td>ENGLISH</td>\n",
       "      <td>6FFwt1ea9hJ4MfMQLywahm</td>\n",
       "      <td>59</td>\n",
       "      <td>0</td>\n",
       "      <td>['0DrXhci3WAyo0WJv1RBOG6']</td>\n",
       "      <td>2007-01-01</td>\n",
       "      <td>...</td>\n",
       "      <td>5</td>\n",
       "      <td>-3.424</td>\n",
       "      <td>1</td>\n",
       "      <td>0.0626</td>\n",
       "      <td>0.000651</td>\n",
       "      <td>0.000000</td>\n",
       "      <td>0.339</td>\n",
       "      <td>0.468</td>\n",
       "      <td>93.977</td>\n",
       "      <td>3</td>\n",
       "    </tr>\n",
       "    <tr>\n",
       "      <th>2</th>\n",
       "      <td>12 stones</td>\n",
       "      <td>we are one</td>\n",
       "      <td>/12-stones/we-are-one.html</td>\n",
       "      <td>We walk alone. In the unknown. We live to win ...</td>\n",
       "      <td>ENGLISH</td>\n",
       "      <td>4lhqal0Hq63U2wETCeBdG1</td>\n",
       "      <td>58</td>\n",
       "      <td>0</td>\n",
       "      <td>['0DrXhci3WAyo0WJv1RBOG6']</td>\n",
       "      <td>2010-01-01</td>\n",
       "      <td>...</td>\n",
       "      <td>5</td>\n",
       "      <td>-4.041</td>\n",
       "      <td>0</td>\n",
       "      <td>0.1140</td>\n",
       "      <td>0.000119</td>\n",
       "      <td>0.000016</td>\n",
       "      <td>0.233</td>\n",
       "      <td>0.306</td>\n",
       "      <td>127.102</td>\n",
       "      <td>4</td>\n",
       "    </tr>\n",
       "    <tr>\n",
       "      <th>3</th>\n",
       "      <td>3 doors down</td>\n",
       "      <td>here without you</td>\n",
       "      <td>/3-doors-down/here-without-you.html</td>\n",
       "      <td>A hundred days have made me older,. Since the ...</td>\n",
       "      <td>ENGLISH</td>\n",
       "      <td>3NLrRZoMF0Lx6zTlYqeIo4</td>\n",
       "      <td>76</td>\n",
       "      <td>0</td>\n",
       "      <td>['2RTUTCvo6onsAnheUk3aL9']</td>\n",
       "      <td>2002-11-12</td>\n",
       "      <td>...</td>\n",
       "      <td>10</td>\n",
       "      <td>-6.817</td>\n",
       "      <td>0</td>\n",
       "      <td>0.0252</td>\n",
       "      <td>0.049200</td>\n",
       "      <td>0.000000</td>\n",
       "      <td>0.205</td>\n",
       "      <td>0.233</td>\n",
       "      <td>143.994</td>\n",
       "      <td>4</td>\n",
       "    </tr>\n",
       "    <tr>\n",
       "      <th>4</th>\n",
       "      <td>3 doors down</td>\n",
       "      <td>when i'm gone</td>\n",
       "      <td>/3-doors-down/when-im-gone.html</td>\n",
       "      <td>There's another world inside of me that you ma...</td>\n",
       "      <td>ENGLISH</td>\n",
       "      <td>3WbphvawbMZ8FyqDxYGdSQ</td>\n",
       "      <td>70</td>\n",
       "      <td>0</td>\n",
       "      <td>['2RTUTCvo6onsAnheUk3aL9']</td>\n",
       "      <td>2002-11-12</td>\n",
       "      <td>...</td>\n",
       "      <td>7</td>\n",
       "      <td>-5.611</td>\n",
       "      <td>1</td>\n",
       "      <td>0.0284</td>\n",
       "      <td>0.003850</td>\n",
       "      <td>0.000000</td>\n",
       "      <td>0.103</td>\n",
       "      <td>0.374</td>\n",
       "      <td>148.095</td>\n",
       "      <td>4</td>\n",
       "    </tr>\n",
       "  </tbody>\n",
       "</table>\n",
       "<p>5 rows × 22 columns</p>\n",
       "</div>"
      ],
      "text/plain": [
       "         Artist                     name  \\\n",
       "0     12 stones            world so cold   \n",
       "1     12 stones  anthem for the underdog   \n",
       "2     12 stones               we are one   \n",
       "3  3 doors down         here without you   \n",
       "4  3 doors down            when i'm gone   \n",
       "\n",
       "                                     SLink  \\\n",
       "0            /12-stones/world-so-cold.html   \n",
       "1  /12-stones/anthem-for-the-underdog.html   \n",
       "2               /12-stones/we-are-one.html   \n",
       "3      /3-doors-down/here-without-you.html   \n",
       "4          /3-doors-down/when-im-gone.html   \n",
       "\n",
       "                                               Lyric    Idiom  \\\n",
       "0  It starts with pain, followed by hate. Fueled ...  ENGLISH   \n",
       "1  You say you know just who I am. But you can't ...  ENGLISH   \n",
       "2  We walk alone. In the unknown. We live to win ...  ENGLISH   \n",
       "3  A hundred days have made me older,. Since the ...  ENGLISH   \n",
       "4  There's another world inside of me that you ma...  ENGLISH   \n",
       "\n",
       "                       id  popularity  explicit                  id_artists  \\\n",
       "0  471eQ7hcJ7JdGY1NzMmUeg          55         0  ['0DrXhci3WAyo0WJv1RBOG6']   \n",
       "1  6FFwt1ea9hJ4MfMQLywahm          59         0  ['0DrXhci3WAyo0WJv1RBOG6']   \n",
       "2  4lhqal0Hq63U2wETCeBdG1          58         0  ['0DrXhci3WAyo0WJv1RBOG6']   \n",
       "3  3NLrRZoMF0Lx6zTlYqeIo4          76         0  ['2RTUTCvo6onsAnheUk3aL9']   \n",
       "4  3WbphvawbMZ8FyqDxYGdSQ          70         0  ['2RTUTCvo6onsAnheUk3aL9']   \n",
       "\n",
       "  release_date  ...  key  loudness  mode  speechiness  acousticness  \\\n",
       "0   2007-01-01  ...    4    -4.949     0       0.0443      0.472000   \n",
       "1   2007-01-01  ...    5    -3.424     1       0.0626      0.000651   \n",
       "2   2010-01-01  ...    5    -4.041     0       0.1140      0.000119   \n",
       "3   2002-11-12  ...   10    -6.817     0       0.0252      0.049200   \n",
       "4   2002-11-12  ...    7    -5.611     1       0.0284      0.003850   \n",
       "\n",
       "   instrumentalness  liveness  valence    tempo  time_signature  \n",
       "0          0.000000     0.360    0.394  186.227               3  \n",
       "1          0.000000     0.339    0.468   93.977               3  \n",
       "2          0.000016     0.233    0.306  127.102               4  \n",
       "3          0.000000     0.205    0.233  143.994               4  \n",
       "4          0.000000     0.103    0.374  148.095               4  \n",
       "\n",
       "[5 rows x 22 columns]"
      ]
     },
     "execution_count": 6,
     "metadata": {},
     "output_type": "execute_result"
    }
   ],
   "source": [
    "df_merged.head()"
   ]
  },
  {
   "cell_type": "code",
   "execution_count": 7,
   "id": "f53f83d6",
   "metadata": {},
   "outputs": [
    {
     "name": "stderr",
     "output_type": "stream",
     "text": [
      "/Users/dylansivori/.local/share/virtualenvs/Spotify-Song-Suggester-AdyWyJ8v/lib/python3.8/site-packages/ipykernel/ipkernel.py:283: DeprecationWarning: `should_run_async` will not call `transform_cell` automatically in the future. Please pass the result to `transformed_cell` argument and any exception that happen during thetransform in `preprocessing_exc_tuple` in IPython 7.17 and above.\n",
      "  and should_run_async(code)\n"
     ]
    },
    {
     "data": {
      "text/html": [
       "<div>\n",
       "<style scoped>\n",
       "    .dataframe tbody tr th:only-of-type {\n",
       "        vertical-align: middle;\n",
       "    }\n",
       "\n",
       "    .dataframe tbody tr th {\n",
       "        vertical-align: top;\n",
       "    }\n",
       "\n",
       "    .dataframe thead th {\n",
       "        text-align: right;\n",
       "    }\n",
       "</style>\n",
       "<table border=\"1\" class=\"dataframe\">\n",
       "  <thead>\n",
       "    <tr style=\"text-align: right;\">\n",
       "      <th></th>\n",
       "      <th>popularity</th>\n",
       "      <th>explicit</th>\n",
       "      <th>danceability</th>\n",
       "      <th>energy</th>\n",
       "      <th>key</th>\n",
       "      <th>loudness</th>\n",
       "      <th>mode</th>\n",
       "      <th>speechiness</th>\n",
       "      <th>acousticness</th>\n",
       "      <th>instrumentalness</th>\n",
       "      <th>liveness</th>\n",
       "      <th>valence</th>\n",
       "      <th>tempo</th>\n",
       "      <th>time_signature</th>\n",
       "    </tr>\n",
       "  </thead>\n",
       "  <tbody>\n",
       "    <tr>\n",
       "      <th>0</th>\n",
       "      <td>55</td>\n",
       "      <td>0</td>\n",
       "      <td>0.262</td>\n",
       "      <td>0.688</td>\n",
       "      <td>4</td>\n",
       "      <td>-4.949</td>\n",
       "      <td>0</td>\n",
       "      <td>0.0443</td>\n",
       "      <td>0.472000</td>\n",
       "      <td>0.000000</td>\n",
       "      <td>0.360</td>\n",
       "      <td>0.394</td>\n",
       "      <td>186.227</td>\n",
       "      <td>3</td>\n",
       "    </tr>\n",
       "    <tr>\n",
       "      <th>1</th>\n",
       "      <td>59</td>\n",
       "      <td>0</td>\n",
       "      <td>0.200</td>\n",
       "      <td>0.863</td>\n",
       "      <td>5</td>\n",
       "      <td>-3.424</td>\n",
       "      <td>1</td>\n",
       "      <td>0.0626</td>\n",
       "      <td>0.000651</td>\n",
       "      <td>0.000000</td>\n",
       "      <td>0.339</td>\n",
       "      <td>0.468</td>\n",
       "      <td>93.977</td>\n",
       "      <td>3</td>\n",
       "    </tr>\n",
       "    <tr>\n",
       "      <th>2</th>\n",
       "      <td>58</td>\n",
       "      <td>0</td>\n",
       "      <td>0.444</td>\n",
       "      <td>0.974</td>\n",
       "      <td>5</td>\n",
       "      <td>-4.041</td>\n",
       "      <td>0</td>\n",
       "      <td>0.1140</td>\n",
       "      <td>0.000119</td>\n",
       "      <td>0.000016</td>\n",
       "      <td>0.233</td>\n",
       "      <td>0.306</td>\n",
       "      <td>127.102</td>\n",
       "      <td>4</td>\n",
       "    </tr>\n",
       "    <tr>\n",
       "      <th>3</th>\n",
       "      <td>76</td>\n",
       "      <td>0</td>\n",
       "      <td>0.557</td>\n",
       "      <td>0.533</td>\n",
       "      <td>10</td>\n",
       "      <td>-6.817</td>\n",
       "      <td>0</td>\n",
       "      <td>0.0252</td>\n",
       "      <td>0.049200</td>\n",
       "      <td>0.000000</td>\n",
       "      <td>0.205</td>\n",
       "      <td>0.233</td>\n",
       "      <td>143.994</td>\n",
       "      <td>4</td>\n",
       "    </tr>\n",
       "    <tr>\n",
       "      <th>4</th>\n",
       "      <td>70</td>\n",
       "      <td>0</td>\n",
       "      <td>0.530</td>\n",
       "      <td>0.768</td>\n",
       "      <td>7</td>\n",
       "      <td>-5.611</td>\n",
       "      <td>1</td>\n",
       "      <td>0.0284</td>\n",
       "      <td>0.003850</td>\n",
       "      <td>0.000000</td>\n",
       "      <td>0.103</td>\n",
       "      <td>0.374</td>\n",
       "      <td>148.095</td>\n",
       "      <td>4</td>\n",
       "    </tr>\n",
       "    <tr>\n",
       "      <th>...</th>\n",
       "      <td>...</td>\n",
       "      <td>...</td>\n",
       "      <td>...</td>\n",
       "      <td>...</td>\n",
       "      <td>...</td>\n",
       "      <td>...</td>\n",
       "      <td>...</td>\n",
       "      <td>...</td>\n",
       "      <td>...</td>\n",
       "      <td>...</td>\n",
       "      <td>...</td>\n",
       "      <td>...</td>\n",
       "      <td>...</td>\n",
       "      <td>...</td>\n",
       "    </tr>\n",
       "    <tr>\n",
       "      <th>14394</th>\n",
       "      <td>34</td>\n",
       "      <td>0</td>\n",
       "      <td>0.703</td>\n",
       "      <td>0.488</td>\n",
       "      <td>9</td>\n",
       "      <td>-6.943</td>\n",
       "      <td>1</td>\n",
       "      <td>0.0254</td>\n",
       "      <td>0.105000</td>\n",
       "      <td>0.000000</td>\n",
       "      <td>0.272</td>\n",
       "      <td>0.194</td>\n",
       "      <td>103.907</td>\n",
       "      <td>4</td>\n",
       "    </tr>\n",
       "    <tr>\n",
       "      <th>14395</th>\n",
       "      <td>42</td>\n",
       "      <td>0</td>\n",
       "      <td>0.548</td>\n",
       "      <td>0.505</td>\n",
       "      <td>10</td>\n",
       "      <td>-9.496</td>\n",
       "      <td>1</td>\n",
       "      <td>0.0295</td>\n",
       "      <td>0.684000</td>\n",
       "      <td>0.000004</td>\n",
       "      <td>0.226</td>\n",
       "      <td>0.308</td>\n",
       "      <td>131.743</td>\n",
       "      <td>4</td>\n",
       "    </tr>\n",
       "    <tr>\n",
       "      <th>14441</th>\n",
       "      <td>67</td>\n",
       "      <td>0</td>\n",
       "      <td>0.688</td>\n",
       "      <td>0.723</td>\n",
       "      <td>6</td>\n",
       "      <td>-6.682</td>\n",
       "      <td>0</td>\n",
       "      <td>0.1210</td>\n",
       "      <td>0.041600</td>\n",
       "      <td>0.000200</td>\n",
       "      <td>0.302</td>\n",
       "      <td>0.618</td>\n",
       "      <td>140.023</td>\n",
       "      <td>4</td>\n",
       "    </tr>\n",
       "    <tr>\n",
       "      <th>15306</th>\n",
       "      <td>48</td>\n",
       "      <td>0</td>\n",
       "      <td>0.730</td>\n",
       "      <td>0.452</td>\n",
       "      <td>2</td>\n",
       "      <td>-11.125</td>\n",
       "      <td>1</td>\n",
       "      <td>0.0378</td>\n",
       "      <td>0.416000</td>\n",
       "      <td>0.000000</td>\n",
       "      <td>0.233</td>\n",
       "      <td>0.972</td>\n",
       "      <td>132.249</td>\n",
       "      <td>4</td>\n",
       "    </tr>\n",
       "    <tr>\n",
       "      <th>15331</th>\n",
       "      <td>14</td>\n",
       "      <td>0</td>\n",
       "      <td>0.359</td>\n",
       "      <td>0.776</td>\n",
       "      <td>0</td>\n",
       "      <td>-5.899</td>\n",
       "      <td>1</td>\n",
       "      <td>0.0438</td>\n",
       "      <td>0.342000</td>\n",
       "      <td>0.000000</td>\n",
       "      <td>0.341</td>\n",
       "      <td>0.845</td>\n",
       "      <td>150.565</td>\n",
       "      <td>4</td>\n",
       "    </tr>\n",
       "  </tbody>\n",
       "</table>\n",
       "<p>12780 rows × 14 columns</p>\n",
       "</div>"
      ],
      "text/plain": [
       "       popularity  explicit  danceability  energy  key  loudness  mode  \\\n",
       "0              55         0         0.262   0.688    4    -4.949     0   \n",
       "1              59         0         0.200   0.863    5    -3.424     1   \n",
       "2              58         0         0.444   0.974    5    -4.041     0   \n",
       "3              76         0         0.557   0.533   10    -6.817     0   \n",
       "4              70         0         0.530   0.768    7    -5.611     1   \n",
       "...           ...       ...           ...     ...  ...       ...   ...   \n",
       "14394          34         0         0.703   0.488    9    -6.943     1   \n",
       "14395          42         0         0.548   0.505   10    -9.496     1   \n",
       "14441          67         0         0.688   0.723    6    -6.682     0   \n",
       "15306          48         0         0.730   0.452    2   -11.125     1   \n",
       "15331          14         0         0.359   0.776    0    -5.899     1   \n",
       "\n",
       "       speechiness  acousticness  instrumentalness  liveness  valence  \\\n",
       "0           0.0443      0.472000          0.000000     0.360    0.394   \n",
       "1           0.0626      0.000651          0.000000     0.339    0.468   \n",
       "2           0.1140      0.000119          0.000016     0.233    0.306   \n",
       "3           0.0252      0.049200          0.000000     0.205    0.233   \n",
       "4           0.0284      0.003850          0.000000     0.103    0.374   \n",
       "...            ...           ...               ...       ...      ...   \n",
       "14394       0.0254      0.105000          0.000000     0.272    0.194   \n",
       "14395       0.0295      0.684000          0.000004     0.226    0.308   \n",
       "14441       0.1210      0.041600          0.000200     0.302    0.618   \n",
       "15306       0.0378      0.416000          0.000000     0.233    0.972   \n",
       "15331       0.0438      0.342000          0.000000     0.341    0.845   \n",
       "\n",
       "         tempo  time_signature  \n",
       "0      186.227               3  \n",
       "1       93.977               3  \n",
       "2      127.102               4  \n",
       "3      143.994               4  \n",
       "4      148.095               4  \n",
       "...        ...             ...  \n",
       "14394  103.907               4  \n",
       "14395  131.743               4  \n",
       "14441  140.023               4  \n",
       "15306  132.249               4  \n",
       "15331  150.565               4  \n",
       "\n",
       "[12780 rows x 14 columns]"
      ]
     },
     "execution_count": 7,
     "metadata": {},
     "output_type": "execute_result"
    }
   ],
   "source": [
    "df_dropped = keep_wanted_columns(df_merged)\n",
    "df_dropped"
   ]
  },
  {
   "cell_type": "code",
   "execution_count": 8,
   "id": "35458fb4",
   "metadata": {},
   "outputs": [
    {
     "name": "stderr",
     "output_type": "stream",
     "text": [
      "/Users/dylansivori/.local/share/virtualenvs/Spotify-Song-Suggester-AdyWyJ8v/lib/python3.8/site-packages/ipykernel/ipkernel.py:283: DeprecationWarning: `should_run_async` will not call `transform_cell` automatically in the future. Please pass the result to `transformed_cell` argument and any exception that happen during thetransform in `preprocessing_exc_tuple` in IPython 7.17 and above.\n",
      "  and should_run_async(code)\n"
     ]
    }
   ],
   "source": [
    "# display(df_merged.shape)\n",
    "# df_merged.tail()"
   ]
  },
  {
   "cell_type": "code",
   "execution_count": 9,
   "id": "f877402e",
   "metadata": {},
   "outputs": [
    {
     "name": "stderr",
     "output_type": "stream",
     "text": [
      "/Users/dylansivori/.local/share/virtualenvs/Spotify-Song-Suggester-AdyWyJ8v/lib/python3.8/site-packages/ipykernel/ipkernel.py:283: DeprecationWarning: `should_run_async` will not call `transform_cell` automatically in the future. Please pass the result to `transformed_cell` argument and any exception that happen during thetransform in `preprocessing_exc_tuple` in IPython 7.17 and above.\n",
      "  and should_run_async(code)\n"
     ]
    }
   ],
   "source": [
    "# df_tracks = pd.read_csv(data_path + 'tracks.csv', parse_dates=['release_date'])\n",
    "# df_lyrics = pd.read_csv(data_path + 'lyrics.csv') #usecols=['SName', 'Lyric']\n",
    "# df_tracks.dropna(inplace=True)\n",
    "    \n",
    "# # case normalization on song names\n",
    "# df_lyrics['SName'] = df_lyrics['SName'].apply(lambda x: x.lower())\n",
    "# df_tracks['name'] = df_tracks['name'].apply(lambda x: x.lower())\n",
    "\n",
    "# # merge dataframes\n",
    "# df_merged = pd.merge(df_tracks, df_lyrics, how='inner', left_on=['name'], right_on='SName')\n",
    "\n",
    "# # drop columns not used in NN model\n",
    "# df_merged = df_merged.drop(columns= ['id', 'name', 'artists', 'id_artists', 'release_date', 'duration_ms'])"
   ]
  },
  {
   "cell_type": "code",
   "execution_count": 10,
   "id": "4f6bc5cf",
   "metadata": {},
   "outputs": [
    {
     "name": "stderr",
     "output_type": "stream",
     "text": [
      "/Users/dylansivori/.local/share/virtualenvs/Spotify-Song-Suggester-AdyWyJ8v/lib/python3.8/site-packages/ipykernel/ipkernel.py:283: DeprecationWarning: `should_run_async` will not call `transform_cell` automatically in the future. Please pass the result to `transformed_cell` argument and any exception that happen during thetransform in `preprocessing_exc_tuple` in IPython 7.17 and above.\n",
      "  and should_run_async(code)\n"
     ]
    }
   ],
   "source": [
    "user_selected_song = 'stairway to heaven'\n",
    "user_selected_artist = 'led zeppelin'"
   ]
  },
  {
   "cell_type": "code",
   "execution_count": 11,
   "id": "ee85a394",
   "metadata": {
    "scrolled": true
   },
   "outputs": [
    {
     "name": "stderr",
     "output_type": "stream",
     "text": [
      "/Users/dylansivori/.local/share/virtualenvs/Spotify-Song-Suggester-AdyWyJ8v/lib/python3.8/site-packages/ipykernel/ipkernel.py:283: DeprecationWarning: `should_run_async` will not call `transform_cell` automatically in the future. Please pass the result to `transformed_cell` argument and any exception that happen during thetransform in `preprocessing_exc_tuple` in IPython 7.17 and above.\n",
      "  and should_run_async(code)\n"
     ]
    }
   ],
   "source": [
    "song_row = df_merged[(df_merged['name'] == user_selected_song) & (df_merged['Artist'] == user_selected_artist)]"
   ]
  },
  {
   "cell_type": "code",
   "execution_count": 12,
   "id": "8799bae8",
   "metadata": {
    "scrolled": false
   },
   "outputs": [
    {
     "name": "stderr",
     "output_type": "stream",
     "text": [
      "/Users/dylansivori/.local/share/virtualenvs/Spotify-Song-Suggester-AdyWyJ8v/lib/python3.8/site-packages/ipykernel/ipkernel.py:283: DeprecationWarning: `should_run_async` will not call `transform_cell` automatically in the future. Please pass the result to `transformed_cell` argument and any exception that happen during thetransform in `preprocessing_exc_tuple` in IPython 7.17 and above.\n",
      "  and should_run_async(code)\n"
     ]
    },
    {
     "data": {
      "text/html": [
       "<div>\n",
       "<style scoped>\n",
       "    .dataframe tbody tr th:only-of-type {\n",
       "        vertical-align: middle;\n",
       "    }\n",
       "\n",
       "    .dataframe tbody tr th {\n",
       "        vertical-align: top;\n",
       "    }\n",
       "\n",
       "    .dataframe thead th {\n",
       "        text-align: right;\n",
       "    }\n",
       "</style>\n",
       "<table border=\"1\" class=\"dataframe\">\n",
       "  <thead>\n",
       "    <tr style=\"text-align: right;\">\n",
       "      <th></th>\n",
       "      <th>Artist</th>\n",
       "      <th>name</th>\n",
       "      <th>SLink</th>\n",
       "      <th>Lyric</th>\n",
       "      <th>Idiom</th>\n",
       "      <th>id</th>\n",
       "      <th>popularity</th>\n",
       "      <th>explicit</th>\n",
       "      <th>id_artists</th>\n",
       "      <th>release_date</th>\n",
       "      <th>...</th>\n",
       "      <th>key</th>\n",
       "      <th>loudness</th>\n",
       "      <th>mode</th>\n",
       "      <th>speechiness</th>\n",
       "      <th>acousticness</th>\n",
       "      <th>instrumentalness</th>\n",
       "      <th>liveness</th>\n",
       "      <th>valence</th>\n",
       "      <th>tempo</th>\n",
       "      <th>time_signature</th>\n",
       "    </tr>\n",
       "  </thead>\n",
       "  <tbody>\n",
       "    <tr>\n",
       "      <th>4229</th>\n",
       "      <td>led zeppelin</td>\n",
       "      <td>stairway to heaven</td>\n",
       "      <td>/led-zeppelin/stairway-to-heaven.html</td>\n",
       "      <td>There's a lady who's sure all. that glitters i...</td>\n",
       "      <td>ENGLISH</td>\n",
       "      <td>5CQ30WqJwcep0pYcV4AMNc</td>\n",
       "      <td>79</td>\n",
       "      <td>0</td>\n",
       "      <td>['36QJpDe2go2KgaRleHCDTp']</td>\n",
       "      <td>1971-11-08</td>\n",
       "      <td>...</td>\n",
       "      <td>9</td>\n",
       "      <td>-12.049</td>\n",
       "      <td>0</td>\n",
       "      <td>0.0339</td>\n",
       "      <td>0.58</td>\n",
       "      <td>0.0032</td>\n",
       "      <td>0.116</td>\n",
       "      <td>0.197</td>\n",
       "      <td>82.433</td>\n",
       "      <td>4</td>\n",
       "    </tr>\n",
       "  </tbody>\n",
       "</table>\n",
       "<p>1 rows × 22 columns</p>\n",
       "</div>"
      ],
      "text/plain": [
       "            Artist                name                                  SLink  \\\n",
       "4229  led zeppelin  stairway to heaven  /led-zeppelin/stairway-to-heaven.html   \n",
       "\n",
       "                                                  Lyric    Idiom  \\\n",
       "4229  There's a lady who's sure all. that glitters i...  ENGLISH   \n",
       "\n",
       "                          id  popularity  explicit  \\\n",
       "4229  5CQ30WqJwcep0pYcV4AMNc          79         0   \n",
       "\n",
       "                      id_artists release_date  ...  key  loudness  mode  \\\n",
       "4229  ['36QJpDe2go2KgaRleHCDTp']   1971-11-08  ...    9   -12.049     0   \n",
       "\n",
       "      speechiness  acousticness  instrumentalness  liveness  valence   tempo  \\\n",
       "4229       0.0339          0.58            0.0032     0.116    0.197  82.433   \n",
       "\n",
       "      time_signature  \n",
       "4229               4  \n",
       "\n",
       "[1 rows x 22 columns]"
      ]
     },
     "execution_count": 12,
     "metadata": {},
     "output_type": "execute_result"
    }
   ],
   "source": [
    "song_row"
   ]
  },
  {
   "cell_type": "code",
   "execution_count": 13,
   "id": "e06222b8",
   "metadata": {},
   "outputs": [
    {
     "name": "stderr",
     "output_type": "stream",
     "text": [
      "/Users/dylansivori/.local/share/virtualenvs/Spotify-Song-Suggester-AdyWyJ8v/lib/python3.8/site-packages/ipykernel/ipkernel.py:283: DeprecationWarning: `should_run_async` will not call `transform_cell` automatically in the future. Please pass the result to `transformed_cell` argument and any exception that happen during thetransform in `preprocessing_exc_tuple` in IPython 7.17 and above.\n",
      "  and should_run_async(code)\n"
     ]
    },
    {
     "data": {
      "text/plain": [
       "NearestNeighbors(algorithm='kd_tree')"
      ]
     },
     "execution_count": 13,
     "metadata": {},
     "output_type": "execute_result"
    }
   ],
   "source": [
    "# drop categorical data, prepare for input to model\n",
    "song_row = keep_wanted_columns(song_row)\n",
    "\n",
    "# df_dropped = keep_wanted_columns(df_merged)\n",
    "\n",
    "# instantiate Nearest Neighbors model\n",
    "nn = NearestNeighbors(n_neighbors=5, algorithm='kd_tree')\n",
    "\n",
    "\n",
    "\n",
    "nn.fit(df_dropped)"
   ]
  },
  {
   "cell_type": "code",
   "execution_count": 14,
   "id": "24dd67b0",
   "metadata": {
    "scrolled": true
   },
   "outputs": [
    {
     "name": "stderr",
     "output_type": "stream",
     "text": [
      "/Users/dylansivori/.local/share/virtualenvs/Spotify-Song-Suggester-AdyWyJ8v/lib/python3.8/site-packages/ipykernel/ipkernel.py:283: DeprecationWarning: `should_run_async` will not call `transform_cell` automatically in the future. Please pass the result to `transformed_cell` argument and any exception that happen during thetransform in `preprocessing_exc_tuple` in IPython 7.17 and above.\n",
      "  and should_run_async(code)\n"
     ]
    }
   ],
   "source": [
    "neigh_dist, neigh_index = nn.kneighbors(song_row)"
   ]
  },
  {
   "cell_type": "code",
   "execution_count": 15,
   "id": "d2445b6a",
   "metadata": {},
   "outputs": [
    {
     "name": "stderr",
     "output_type": "stream",
     "text": [
      "/Users/dylansivori/.local/share/virtualenvs/Spotify-Song-Suggester-AdyWyJ8v/lib/python3.8/site-packages/ipykernel/ipkernel.py:283: DeprecationWarning: `should_run_async` will not call `transform_cell` automatically in the future. Please pass the result to `transformed_cell` argument and any exception that happen during thetransform in `preprocessing_exc_tuple` in IPython 7.17 and above.\n",
      "  and should_run_async(code)\n"
     ]
    },
    {
     "data": {
      "text/plain": [
       "array([10652, 11440,  9658,  9371])"
      ]
     },
     "execution_count": 15,
     "metadata": {},
     "output_type": "execute_result"
    }
   ],
   "source": [
    "neigh_index = neigh_index[0][1:]\n",
    "neigh_index"
   ]
  },
  {
   "cell_type": "code",
   "execution_count": 16,
   "id": "c84542e7",
   "metadata": {},
   "outputs": [
    {
     "name": "stdout",
     "output_type": "stream",
     "text": [
      "no control\n"
     ]
    },
    {
     "name": "stderr",
     "output_type": "stream",
     "text": [
      "/Users/dylansivori/.local/share/virtualenvs/Spotify-Song-Suggester-AdyWyJ8v/lib/python3.8/site-packages/ipykernel/ipkernel.py:283: DeprecationWarning: `should_run_async` will not call `transform_cell` automatically in the future. Please pass the result to `transformed_cell` argument and any exception that happen during thetransform in `preprocessing_exc_tuple` in IPython 7.17 and above.\n",
      "  and should_run_async(code)\n"
     ]
    }
   ],
   "source": [
    "print(df_merged['name'].iloc[11904])"
   ]
  },
  {
   "cell_type": "code",
   "execution_count": 17,
   "id": "8b7b95ae",
   "metadata": {
    "scrolled": true
   },
   "outputs": [
    {
     "name": "stdout",
     "output_type": "stream",
     "text": [
      "the a team\n",
      "royals\n",
      "take a bow\n",
      "self control\n"
     ]
    },
    {
     "name": "stderr",
     "output_type": "stream",
     "text": [
      "/Users/dylansivori/.local/share/virtualenvs/Spotify-Song-Suggester-AdyWyJ8v/lib/python3.8/site-packages/ipykernel/ipkernel.py:283: DeprecationWarning: `should_run_async` will not call `transform_cell` automatically in the future. Please pass the result to `transformed_cell` argument and any exception that happen during thetransform in `preprocessing_exc_tuple` in IPython 7.17 and above.\n",
      "  and should_run_async(code)\n"
     ]
    }
   ],
   "source": [
    "for index in neigh_index:\n",
    "    print(df_merged['name'].iloc[index])"
   ]
  },
  {
   "cell_type": "code",
   "execution_count": 18,
   "id": "ebccbbeb",
   "metadata": {},
   "outputs": [
    {
     "name": "stderr",
     "output_type": "stream",
     "text": [
      "/Users/dylansivori/.local/share/virtualenvs/Spotify-Song-Suggester-AdyWyJ8v/lib/python3.8/site-packages/ipykernel/ipkernel.py:283: DeprecationWarning: `should_run_async` will not call `transform_cell` automatically in the future. Please pass the result to `transformed_cell` argument and any exception that happen during thetransform in `preprocessing_exc_tuple` in IPython 7.17 and above.\n",
      "  and should_run_async(code)\n"
     ]
    },
    {
     "data": {
      "text/plain": [
       "array([[0.        , 4.032528  , 4.67054588, 5.08803819, 5.14691675]])"
      ]
     },
     "execution_count": 18,
     "metadata": {},
     "output_type": "execute_result"
    }
   ],
   "source": [
    "neigh_dist"
   ]
  },
  {
   "cell_type": "code",
   "execution_count": 19,
   "id": "a2c65c7e",
   "metadata": {},
   "outputs": [
    {
     "name": "stderr",
     "output_type": "stream",
     "text": [
      "/Users/dylansivori/.local/share/virtualenvs/Spotify-Song-Suggester-AdyWyJ8v/lib/python3.8/site-packages/ipykernel/ipkernel.py:283: DeprecationWarning: `should_run_async` will not call `transform_cell` automatically in the future. Please pass the result to `transformed_cell` argument and any exception that happen during thetransform in `preprocessing_exc_tuple` in IPython 7.17 and above.\n",
      "  and should_run_async(code)\n"
     ]
    }
   ],
   "source": [
    "# joblib.dump(nn, '../data/NearestNeighborModel')"
   ]
  },
  {
   "cell_type": "markdown",
   "id": "03da7bc3",
   "metadata": {},
   "source": [
    "# Natural Language Processing"
   ]
  },
  {
   "cell_type": "code",
   "execution_count": 20,
   "id": "2a149ce9",
   "metadata": {},
   "outputs": [
    {
     "name": "stderr",
     "output_type": "stream",
     "text": [
      "/Users/dylansivori/.local/share/virtualenvs/Spotify-Song-Suggester-AdyWyJ8v/lib/python3.8/site-packages/ipykernel/ipkernel.py:283: DeprecationWarning: `should_run_async` will not call `transform_cell` automatically in the future. Please pass the result to `transformed_cell` argument and any exception that happen during thetransform in `preprocessing_exc_tuple` in IPython 7.17 and above.\n",
      "  and should_run_async(code)\n"
     ]
    }
   ],
   "source": [
    "# df_merged = df_merged[df_merged['Idiom'] == 'ENGLISH']"
   ]
  },
  {
   "cell_type": "code",
   "execution_count": 21,
   "id": "0e908925",
   "metadata": {},
   "outputs": [
    {
     "name": "stderr",
     "output_type": "stream",
     "text": [
      "/Users/dylansivori/.local/share/virtualenvs/Spotify-Song-Suggester-AdyWyJ8v/lib/python3.8/site-packages/ipykernel/ipkernel.py:283: DeprecationWarning: `should_run_async` will not call `transform_cell` automatically in the future. Please pass the result to `transformed_cell` argument and any exception that happen during thetransform in `preprocessing_exc_tuple` in IPython 7.17 and above.\n",
      "  and should_run_async(code)\n",
      "<>:12: DeprecationWarning: invalid escape sequence \\>\n",
      "<>:12: DeprecationWarning: invalid escape sequence \\>\n",
      "<ipython-input-21-2a9d641a4093>:12: DeprecationWarning: invalid escape sequence \\>\n",
      "  special_chars_regex = '[:?,\\>$|!\\'\"]'\n"
     ]
    }
   ],
   "source": [
    "import re\n",
    "def clean_data(text):\n",
    "    \"\"\"\n",
    "    Accepts a single text document and performs several regex substitutions in order to clean the document.\n",
    "    Parameters\n",
    "    ----------\n",
    "    text: string or object\n",
    "    Returns\n",
    "    -------\n",
    "    text: string or object\n",
    "    \"\"\"\n",
    "    special_chars_regex = '[:?,\\>$|!\\'\"]'\n",
    "    white_spaces_regex = '[ ]{2,}'\n",
    "    text = re.sub('[^a-zA-Z ]', \"\", text)\n",
    "    text = re.sub(special_chars_regex, \" \", text)\n",
    "    text = re.sub(white_spaces_regex, \" \", text)\n",
    "    return text.lower()"
   ]
  },
  {
   "cell_type": "code",
   "execution_count": 46,
   "id": "b091290b",
   "metadata": {},
   "outputs": [
    {
     "name": "stderr",
     "output_type": "stream",
     "text": [
      "/Users/dylansivori/.local/share/virtualenvs/Spotify-Song-Suggester-AdyWyJ8v/lib/python3.8/site-packages/ipykernel/ipkernel.py:283: DeprecationWarning: `should_run_async` will not call `transform_cell` automatically in the future. Please pass the result to `transformed_cell` argument and any exception that happen during thetransform in `preprocessing_exc_tuple` in IPython 7.17 and above.\n",
      "  and should_run_async(code)\n"
     ]
    }
   ],
   "source": [
    "def tokenize(doc):\n",
    "# run the clean_data function on the text\n",
    "    text = clean_data(doc)\n",
    "# Instantiatie language model\n",
    "    doc = nlp(text)\n",
    "    STOP_WORDS = nlp.Defaults.stop_words.union('', 'the', 'this', '-pron-', 'wo', 've', 'nt')\n",
    "    return [token.lemma_.lower().lstrip().rstrip() for token in doc\n",
    "            if (token.text not in STOP_WORDS)\n",
    "            and (token.is_punct != True)\n",
    "            and (token.text not in '')\n",
    "            and (len(token.text)>2)]"
   ]
  },
  {
   "cell_type": "code",
   "execution_count": 47,
   "id": "a4e3c12a",
   "metadata": {},
   "outputs": [
    {
     "name": "stderr",
     "output_type": "stream",
     "text": [
      "/Users/dylansivori/.local/share/virtualenvs/Spotify-Song-Suggester-AdyWyJ8v/lib/python3.8/site-packages/ipykernel/ipkernel.py:283: DeprecationWarning: `should_run_async` will not call `transform_cell` automatically in the future. Please pass the result to `transformed_cell` argument and any exception that happen during thetransform in `preprocessing_exc_tuple` in IPython 7.17 and above.\n",
      "  and should_run_async(code)\n"
     ]
    }
   ],
   "source": [
    "# !pip install ipywidgets\n",
    "# !jupyter nbextension enable --py widgetsnbextension\n",
    "# !jupyter labextension install @jupyter-widgets/jupyterlab-manager\n",
    "# !pip install pandarallel"
   ]
  },
  {
   "cell_type": "code",
   "execution_count": 48,
   "id": "db939340",
   "metadata": {},
   "outputs": [
    {
     "name": "stdout",
     "output_type": "stream",
     "text": [
      "INFO: Pandarallel will run on 7 workers.\n",
      "INFO: Pandarallel will use standard multiprocessing data transfer (pipe) to transfer data between the main process and workers.\n"
     ]
    },
    {
     "name": "stderr",
     "output_type": "stream",
     "text": [
      "/Users/dylansivori/.local/share/virtualenvs/Spotify-Song-Suggester-AdyWyJ8v/lib/python3.8/site-packages/ipykernel/ipkernel.py:283: DeprecationWarning: `should_run_async` will not call `transform_cell` automatically in the future. Please pass the result to `transformed_cell` argument and any exception that happen during thetransform in `preprocessing_exc_tuple` in IPython 7.17 and above.\n",
      "  and should_run_async(code)\n"
     ]
    }
   ],
   "source": [
    "from pandarallel import pandarallel\n",
    "pandarallel.initialize(progress_bar=True, nb_workers=7)"
   ]
  },
  {
   "cell_type": "code",
   "execution_count": 49,
   "id": "67d2ff31",
   "metadata": {
    "scrolled": false
   },
   "outputs": [
    {
     "name": "stderr",
     "output_type": "stream",
     "text": [
      "/Users/dylansivori/.local/share/virtualenvs/Spotify-Song-Suggester-AdyWyJ8v/lib/python3.8/site-packages/ipykernel/ipkernel.py:283: DeprecationWarning: `should_run_async` will not call `transform_cell` automatically in the future. Please pass the result to `transformed_cell` argument and any exception that happen during thetransform in `preprocessing_exc_tuple` in IPython 7.17 and above.\n",
      "  and should_run_async(code)\n"
     ]
    },
    {
     "data": {
      "application/vnd.jupyter.widget-view+json": {
       "model_id": "5e21740d2bdf4a419c8ca79042641cbb",
       "version_major": 2,
       "version_minor": 0
      },
      "text/plain": [
       "VBox(children=(HBox(children=(IntProgress(value=0, description='0.00%', max=1826), Label(value='0 / 1826'))), …"
      ]
     },
     "metadata": {},
     "output_type": "display_data"
    }
   ],
   "source": [
    "lemmas = df_merged['Lyric'].parallel_apply(tokenize)"
   ]
  },
  {
   "cell_type": "code",
   "execution_count": 50,
   "id": "2ad475df",
   "metadata": {},
   "outputs": [
    {
     "name": "stderr",
     "output_type": "stream",
     "text": [
      "/Users/dylansivori/.local/share/virtualenvs/Spotify-Song-Suggester-AdyWyJ8v/lib/python3.8/site-packages/ipykernel/ipkernel.py:283: DeprecationWarning: `should_run_async` will not call `transform_cell` automatically in the future. Please pass the result to `transformed_cell` argument and any exception that happen during thetransform in `preprocessing_exc_tuple` in IPython 7.17 and above.\n",
      "  and should_run_async(code)\n"
     ]
    },
    {
     "data": {
      "text/plain": [
       "0        [start, pain, follow, hate, fuel, endless, que...\n",
       "1        [know, imagine, wait, line, think, stand, tire...\n",
       "2        [walk, unknown, live, win, victory, young, die...\n",
       "3        [day, old, time, see, pretty, face, thousand, ...\n",
       "4        [world, inside, secret, life, hide, darkness, ...\n",
       "                               ...                        \n",
       "14394    [verse, time, tear, fill, eye, past, shadow, s...\n",
       "14395    [man, day, leave, say, regret, bond, break, fe...\n",
       "14441    [stop, sound, good, turn, turn, know, know, st...\n",
       "15306    [brother, brother, prepare, happy, way, lord, ...\n",
       "15331    [mama, mama, mama, easy, girl, easy, girl, jor...\n",
       "Name: Lyric, Length: 12780, dtype: object"
      ]
     },
     "execution_count": 50,
     "metadata": {},
     "output_type": "execute_result"
    }
   ],
   "source": [
    "lemmas"
   ]
  },
  {
   "cell_type": "code",
   "execution_count": 51,
   "id": "327e1778",
   "metadata": {},
   "outputs": [
    {
     "name": "stderr",
     "output_type": "stream",
     "text": [
      "/Users/dylansivori/.local/share/virtualenvs/Spotify-Song-Suggester-AdyWyJ8v/lib/python3.8/site-packages/ipykernel/ipkernel.py:283: DeprecationWarning: `should_run_async` will not call `transform_cell` automatically in the future. Please pass the result to `transformed_cell` argument and any exception that happen during thetransform in `preprocessing_exc_tuple` in IPython 7.17 and above.\n",
      "  and should_run_async(code)\n"
     ]
    }
   ],
   "source": [
    "id2words = corpora.Dictionary(lemmas)\n",
    "corpus = [id2words.doc2bow(lemma) for lemma in lemmas]"
   ]
  },
  {
   "cell_type": "code",
   "execution_count": 54,
   "id": "eab7a9ce",
   "metadata": {},
   "outputs": [
    {
     "name": "stderr",
     "output_type": "stream",
     "text": [
      "/Users/dylansivori/.local/share/virtualenvs/Spotify-Song-Suggester-AdyWyJ8v/lib/python3.8/site-packages/ipykernel/ipkernel.py:283: DeprecationWarning: `should_run_async` will not call `transform_cell` automatically in the future. Please pass the result to `transformed_cell` argument and any exception that happen during thetransform in `preprocessing_exc_tuple` in IPython 7.17 and above.\n",
      "  and should_run_async(code)\n"
     ]
    }
   ],
   "source": [
    "lda_multicore = gensim.models.ldamulticore.LdaMulticore(corpus=corpus,\n",
    "                                                        id2word=id2words,\n",
    "                                                        num_topics=5,\n",
    "                                                        chunksize=100,\n",
    "                                                        passes=10,\n",
    "                                                        per_word_topics=True,\n",
    "                                                        workers=6)"
   ]
  },
  {
   "cell_type": "code",
   "execution_count": null,
   "id": "161fb409",
   "metadata": {},
   "outputs": [],
   "source": []
  },
  {
   "cell_type": "code",
   "execution_count": 55,
   "id": "5305d6e1",
   "metadata": {
    "scrolled": false
   },
   "outputs": [
    {
     "name": "stderr",
     "output_type": "stream",
     "text": [
      "/Users/dylansivori/.local/share/virtualenvs/Spotify-Song-Suggester-AdyWyJ8v/lib/python3.8/site-packages/ipykernel/ipkernel.py:283: DeprecationWarning: `should_run_async` will not call `transform_cell` automatically in the future. Please pass the result to `transformed_cell` argument and any exception that happen during thetransform in `preprocessing_exc_tuple` in IPython 7.17 and above.\n",
      "  and should_run_async(code)\n"
     ]
    },
    {
     "data": {
      "text/html": [
       "\n",
       "<link rel=\"stylesheet\" type=\"text/css\" href=\"https://cdn.jsdelivr.net/gh/bmabey/pyLDAvis@3.3.1/pyLDAvis/js/ldavis.v1.0.0.css\">\n",
       "\n",
       "\n",
       "<div id=\"ldavis_el60311403101979642409782640008\"></div>\n",
       "<script type=\"text/javascript\">\n",
       "\n",
       "var ldavis_el60311403101979642409782640008_data = {\"mdsDat\": {\"x\": [0.11625355736033283, 0.11624057648430515, -0.10355155285378048, 0.12101490259810738, -0.249957483588965], \"y\": [0.07812596897543703, 0.018802114940261197, 0.16208413461517165, -0.15965061344469056, -0.0993616050861791], \"topics\": [1, 2, 3, 4, 5], \"cluster\": [1, 1, 1, 1, 1], \"Freq\": [40.15834974872866, 21.03082242849321, 17.615800459982623, 14.304600352970153, 6.890427009825357]}, \"tinfo\": {\"Term\": [\"love\", \"baby\", \"yeah\", \"girl\", \"get\", \"hey\", \"gon\", \"boy\", \"wanna\", \"fuck\", \"good\", \"bad\", \"shit\", \"know\", \"nigga\", \"cause\", \"heart\", \"bitch\", \"man\", \"die\", \"work\", \"rock\", \"light\", \"life\", \"like\", \"sky\", \"god\", \"let\", \"sun\", \"want\", \"darle\", \"rescue\", \"loving\", \"masquerade\", \"loves\", \"refro\", \"hush\", \"ooohhh\", \"addicted\", \"emotional\", \"sos\", \"devotion\", \"physical\", \"battlefield\", \"honestly\", \"shoop\", \"untrue\", \"breathless\", \"someday\", \"september\", \"irresistible\", \"lifetime\", \"unconditional\", \"wonderland\", \"desperately\", \"shooting\", \"indestructible\", \"ooooo\", \"badly\", \"dudu\", \"love\", \"forever\", \"lonely\", \"darling\", \"heart\", \"feeling\", \"cherish\", \"runaway\", \"goodbye\", \"feel\", \"apart\", \"anymore\", \"true\", \"wish\", \"know\", \"stay\", \"ill\", \"hold\", \"miss\", \"believe\", \"way\", \"want\", \"time\", \"find\", \"need\", \"away\", \"wait\", \"hurt\", \"cry\", \"thing\", \"think\", \"try\", \"tell\", \"fall\", \"cause\", \"let\", \"life\", \"leave\", \"day\", \"long\", \"mind\", \"like\", \"baby\", \"come\", \"wanna\", \"go\", \"get\", \"right\", \"look\", \"night\", \"gon\", \"yeah\", \"bum\", \"phresh\", \"castle\", \"radar\", \"eagle\", \"annie\", \"circus\", \"uhhuh\", \"tunnel\", \"dynamite\", \"runway\", \"gasoline\", \"afternoon\", \"tiger\", \"diana\", \"cowboy\", \"dreamland\", \"sensation\", \"tommy\", \"film\", \"getaway\", \"sally\", \"flicker\", \"cocaine\", \"rael\", \"blaze\", \"carpet\", \"maria\", \"starry\", \"england\", \"neon\", \"silver\", \"mum\", \"satellite\", \"wire\", \"highway\", \"sail\", \"train\", \"sky\", \"american\", \"midnight\", \"john\", \"wind\", \"gold\", \"hill\", \"moon\", \"tree\", \"sea\", \"water\", \"king\", \"sun\", \"ride\", \"fever\", \"street\", \"fly\", \"golden\", \"red\", \"fire\", \"sand\", \"light\", \"bell\", \"sing\", \"burn\", \"white\", \"blue\", \"shine\", \"town\", \"rain\", \"star\", \"song\", \"dance\", \"old\", \"high\", \"bright\", \"black\", \"come\", \"go\", \"like\", \"walk\", \"night\", \"turn\", \"run\", \"see\", \"eye\", \"day\", \"dream\", \"look\", \"home\", \"away\", \"play\", \"say\", \"hear\", \"time\", \"boom\", \"imma\", \"cmon\", \"sugar\", \"boogie\", \"hump\", \"dancin\", \"wow\", \"yeh\", \"homie\", \"aye\", \"mama\", \"eheh\", \"ridin\", \"cha\", \"pogo\", \"shakin\", \"aaah\", \"woh\", \"shorty\", \"whatcha\", \"hoe\", \"material\", \"dough\", \"workin\", \"betcha\", \"blunt\", \"whoo\", \"psycho\", \"booty\", \"hey\", \"hoo\", \"hmm\", \"woo\", \"rockin\", \"goin\", \"rock\", \"rollin\", \"sittin\", \"lookin\", \"nothin\", \"thinkin\", \"runnin\", \"comin\", \"bout\", \"gettin\", \"yeah\", \"talkin\", \"shake\", \"woah\", \"feelin\", \"roll\", \"get\", \"baby\", \"gon\", \"hot\", \"lady\", \"tryin\", \"money\", \"party\", \"woman\", \"wanna\", \"big\", \"man\", \"pretty\", \"like\", \"crazy\", \"girl\", \"come\", \"let\", \"right\", \"know\", \"say\", \"everybody\", \"little\", \"good\", \"round\", \"want\", \"dance\", \"stop\", \"cause\", \"look\", \"tell\", \"night\", \"way\", \"doo\", \"nike\", \"aah\", \"bop\", \"revolution\", \"rumour\", \"greedy\", \"flesh\", \"side\", \"christ\", \"greed\", \"dee\", \"skull\", \"rot\", \"amen\", \"breed\", \"rape\", \"temple\", \"thriller\", \"evil\", \"denial\", \"philosophy\", \"heroin\", \"crucify\", \"ghoul\", \"valium\", \"destroy\", \"insanity\", \"worship\", \"await\", \"suicide\", \"sinner\", \"fighter\", \"seed\", \"suffer\", \"enemy\", \"witness\", \"disease\", \"kill\", \"sin\", \"human\", \"virgin\", \"death\", \"father\", \"war\", \"killer\", \"dumb\", \"devil\", \"blood\", \"god\", \"sick\", \"monster\", \"bleed\", \"hate\", \"dead\", \"battle\", \"feed\", \"die\", \"hell\", \"mother\", \"jesus\", \"freedom\", \"fight\", \"bear\", \"child\", \"soul\", \"man\", \"world\", \"life\", \"rise\", \"lie\", \"end\", \"fear\", \"pain\", \"stone\", \"live\", \"like\", \"people\", \"break\", \"know\", \"time\", \"try\", \"eye\", \"get\", \"hand\", \"think\", \"tell\", \"come\", \"gimme\", \"bye\", \"dem\", \"dre\", \"yuh\", \"banana\", \"clap\", \"dat\", \"swag\", \"dada\", \"getcha\", \"bbboy\", \"eminem\", \"ayo\", \"ahhh\", \"mac\", \"hol\", \"pon\", \"nuh\", \"uette\", \"fack\", \"bom\", \"showin\", \"marshall\", \"rapper\", \"chat\", \"womanizer\", \"bah\", \"eighty\", \"oye\", \"nigga\", \"niggaz\", \"yea\", \"kanye\", \"shit\", \"rap\", \"wit\", \"fuck\", \"dope\", \"team\", \"niggas\", \"holler\", \"shady\", \"boy\", \"thank\", \"bitch\", \"bad\", \"lil\", \"monkey\", \"work\", \"girl\", \"school\", \"verse\", \"fuckin\", \"bit\", \"good\", \"money\", \"buy\", \"shot\", \"kid\", \"cause\", \"get\", \"like\", \"yeah\", \"ass\", \"hit\", \"body\", \"know\", \"need\", \"want\", \"little\", \"right\", \"real\", \"chorus\"], \"Freq\": [22164.0, 10941.0, 10359.0, 6728.0, 16325.0, 3543.0, 8158.0, 3057.0, 6920.0, 1986.0, 5731.0, 2428.0, 1689.0, 21918.0, 1235.0, 7919.0, 6513.0, 1460.0, 5271.0, 2807.0, 1591.0, 1692.0, 3498.0, 6680.0, 17871.0, 1983.0, 1746.0, 9533.0, 2107.0, 10466.0, 192.12108194514536, 120.24490944403297, 96.67620384751301, 93.43248249878107, 81.58994707819862, 72.73907850520291, 102.23941339428525, 68.76441409407153, 57.4730234770779, 53.96574387947085, 53.74454926131442, 71.0427058117213, 66.45887459169629, 50.16048045220835, 65.93135119750137, 48.39386101374617, 46.17401604418119, 44.24856779087775, 419.90842190019697, 36.97447291076359, 36.067347257083895, 198.43211718750428, 34.18793541030246, 33.51001381005873, 34.22618367610257, 39.947372552156125, 32.63752432391583, 29.731102281489974, 30.15892176966957, 29.363905009667413, 21221.273406798813, 1643.68368713679, 1369.400304724995, 335.31139587925253, 5858.669647630024, 1276.4452830806447, 74.17972749100304, 147.5264451587985, 1055.024516163384, 8573.58552143959, 733.6467393651394, 668.4156712260041, 1397.3343595663482, 1592.9475552933684, 16514.583160413087, 2281.67903775082, 6223.273532839002, 3164.585272756534, 1313.389652793036, 2417.384513000604, 6446.985826316166, 7877.55628699996, 8602.06107692494, 3982.7693314432613, 5393.371541844708, 5023.573544995489, 2783.914317606137, 1244.8894215695748, 2221.5376302207223, 4016.1676200558513, 5392.155364064224, 3708.873485771622, 5458.949200092303, 3048.3116868896655, 5374.040619888347, 6144.952963001152, 4391.754568316231, 3494.254428377802, 4150.689126591088, 2873.653115535175, 2674.8242671755715, 7566.482498779615, 5409.523132030075, 6072.238598101063, 3813.212584759944, 3756.7386705179133, 5797.674814069143, 3480.8063438333115, 3566.508043731829, 3520.4248655342894, 3416.717155611568, 3441.975002566509, 286.83358646851894, 135.54370116080233, 143.06914900357302, 116.17075984953628, 106.39553135102474, 93.91677380061635, 93.36064471685734, 103.34215239380161, 84.70371569131795, 85.4489271681824, 81.92401235728427, 81.75285948209837, 97.01579900758873, 73.24643971248892, 71.52178158887563, 68.61581646622352, 67.03999278118654, 84.2056369733334, 67.35026017280724, 65.39484362069092, 62.30865618780855, 58.205544331458555, 59.18955934161393, 61.751379405550516, 57.02612897880576, 66.12218539454133, 55.281141264190296, 53.51563329856143, 53.651413134015364, 52.8488615933791, 111.94696768293605, 229.42340467374353, 103.04095443722527, 97.82669472754033, 162.40952109880178, 218.88828013907067, 281.13466153340477, 552.0831437370175, 1658.6003364413812, 200.4231646020968, 312.9270314857, 240.16454669663764, 880.0382216143631, 427.7943497760576, 327.92663588978684, 625.1204331556103, 510.8517723468125, 631.2521787468235, 615.8663494980115, 557.5693668682223, 1552.9359899718843, 1162.8201856448609, 199.68925066550608, 1028.6804748993598, 1433.5699627324482, 246.2467356386554, 595.2854162629966, 1270.0467778158495, 275.14647171535876, 2256.7462809294498, 269.10082968059316, 1120.4274480497336, 1266.7107809070667, 621.2517845134719, 1060.4984157237504, 887.4401965384836, 799.9965469484172, 1138.1422304585608, 1002.7810993430292, 1230.0859946479848, 1462.7756670044405, 1173.2802574268749, 1126.0723003102883, 489.6631196720566, 766.2568130256568, 3529.844815223211, 2154.190275838455, 3649.206894678885, 1288.109204455363, 1947.1448086515252, 1432.7113795790976, 1385.817570346125, 1102.9143615022065, 1456.5429538527662, 1682.7215344874146, 1289.3860134278739, 1610.0851843802966, 1188.2209441490577, 1310.3605885558943, 1096.1363756721191, 1128.9709306301552, 1104.157434868023, 1099.5333837844978, 611.5150310704055, 468.02023805463284, 441.08602416417347, 263.00953965931666, 176.37773672521104, 163.76113722881752, 162.73365679325627, 140.9939864752836, 136.48195815841652, 146.24801371356105, 136.23968966742376, 906.6885875144625, 124.87769575120797, 189.46434360739772, 112.73741649964292, 97.7500065093827, 91.17145627200905, 90.06948660493431, 81.49820224978589, 75.37822360396096, 121.88551329811193, 321.8868703703375, 63.04251502085242, 62.11840765199384, 94.73626764676341, 60.52846901210888, 66.5013354964867, 59.236787910612875, 87.67938681957091, 59.49176353551691, 3457.941685574928, 137.9004976652881, 109.69945329302716, 223.42668600775696, 244.6997433542193, 669.464171095017, 1546.4768099175321, 185.68920380224577, 147.88355774977032, 460.74541954731274, 501.92069189052125, 317.6415979242528, 356.50578768690747, 426.98951014250986, 824.5944150477559, 428.66722758421867, 6258.544799404044, 435.5238442314796, 980.5404206736089, 324.82147303576454, 401.27923937405683, 1032.9569910805253, 7792.945911619983, 5525.718061355497, 4265.1627618432085, 709.4935092171552, 629.3957533693273, 438.08476071345723, 1010.1972303802272, 617.3282724048912, 827.2271778778018, 2988.570195074411, 1022.6597159528706, 2223.3037787299163, 681.9222977888028, 4586.088474374397, 876.5108166312662, 2077.9957923134557, 3020.3377041892686, 2419.2477084888988, 1754.6467435456138, 3171.7665585630452, 1580.4219547872258, 780.5963427767173, 1287.2724211948128, 1386.5370191148609, 849.1312455664847, 1496.7063294875136, 955.3395876088916, 946.1050772896202, 1210.281994849905, 1143.6877450908712, 1065.5405624808325, 1020.6791816856918, 954.4914600077076, 263.61402406379125, 235.57921562865317, 212.53165456781096, 200.96930513936658, 135.90356400302866, 125.3544618375262, 110.06824055199677, 155.56791462595575, 97.64375623348269, 90.22173528911758, 81.70655765477478, 66.87428884079715, 66.85274131694108, 61.83291075044648, 61.37806322007978, 59.367283079070944, 120.14322599480523, 56.71223858599528, 56.90895827393504, 248.31126453243223, 53.01896146658263, 52.75638884344996, 49.92451429325849, 55.54111515345505, 48.547827381420056, 48.5727466325163, 137.7868491185308, 47.38439331778953, 47.588873572499274, 49.68650493192069, 115.41656278911576, 88.0841415878361, 94.53204357904187, 215.0056378166459, 132.49497661348695, 232.27451608837555, 118.52696336870295, 113.3964964129025, 1162.7229800865905, 312.9828238009192, 329.9677243213807, 87.75217647874257, 470.5175284613568, 441.9593343842144, 535.9612997223861, 194.10503806127275, 277.0214151856472, 424.6179360062332, 674.5638423838416, 1251.7247807243878, 521.9457364780613, 175.6026466891562, 433.352448820276, 926.2752929583031, 777.8635566375685, 191.2148117790245, 271.15430465407314, 1487.012146152651, 764.6065150543676, 527.4340743929725, 285.38838430270476, 315.15663687083486, 937.0594497739419, 550.846331236389, 636.2903137695083, 784.0986177110437, 1452.7657312534368, 1415.6661943283007, 1629.1334904913538, 459.97015538674674, 853.9366395392616, 715.3837319575407, 450.5337130393758, 561.9185342524546, 389.39257087048395, 782.5863751588032, 1195.3373772903358, 589.0561072524074, 646.5076949328668, 1027.4976570716642, 776.362705742972, 638.3403646160203, 631.4102090038034, 763.4933059955996, 598.5659851070905, 617.192606574264, 566.790339381876, 566.6497744634474, 497.088624997702, 342.80791128286137, 220.39535593302386, 107.764273878606, 94.64570963173053, 91.3615317630957, 187.1325458869249, 89.04843634757432, 75.40497431911422, 66.90312554196889, 67.3629255336051, 63.12230939746349, 172.8364303780245, 62.71938607050038, 63.904580333377226, 62.99574424297129, 58.67344598490449, 59.18846175833633, 58.25931782271807, 57.86135754694919, 53.059088634100426, 51.93831604955818, 52.280982153779085, 52.70547736071081, 86.97638942045988, 49.45251331158087, 46.84256080335496, 46.241301604284345, 44.93466201761419, 42.78208921742136, 1183.130574257077, 185.00179483403622, 331.1861993566786, 117.73290270770744, 1368.1223939951294, 279.13767711406706, 287.6410838875399, 1518.0644308930264, 141.73721669103938, 119.31055526561168, 174.7139825308955, 110.12217883630156, 154.96422336154086, 1440.3228050378164, 311.6473968095562, 782.9618631907532, 1093.219723250553, 181.01912507728764, 136.29789875782302, 730.9504193009926, 1983.0929798145896, 246.7186543620208, 375.36525275288943, 246.40966155578406, 325.50750851601134, 951.0787993350273, 396.41109828850716, 274.1017626450468, 193.40307935766447, 283.6716032066204, 744.5607616590943, 912.6109881241376, 874.4039796192416, 578.0243197012464, 275.2156614281818, 305.05160465897194, 302.89990394477377, 538.5858865770384, 403.7440284751026, 411.17271174416607, 344.0481939441863, 325.2723980513432, 293.263471288598, 286.060158557476], \"Total\": [22164.0, 10941.0, 10359.0, 6728.0, 16325.0, 3543.0, 8158.0, 3057.0, 6920.0, 1986.0, 5731.0, 2428.0, 1689.0, 21918.0, 1235.0, 7919.0, 6513.0, 1460.0, 5271.0, 2807.0, 1591.0, 1692.0, 3498.0, 6680.0, 17871.0, 1983.0, 1746.0, 9533.0, 2107.0, 10466.0, 192.88714891051166, 121.0162843315402, 97.44922405533724, 94.19987553533342, 82.39230618453531, 73.56362444351755, 103.43951034998221, 69.58395107718289, 58.25060454170627, 54.74105851933635, 54.52493722597663, 72.0758852784607, 67.4324015241304, 50.92789453760089, 66.94892101635853, 49.1539875921382, 46.93941957046795, 45.0197384583133, 427.3296730526145, 37.740209868666284, 36.86025484306693, 202.81224254272857, 34.948302787366146, 34.27275120364262, 35.009317461095684, 40.87880550786361, 33.421102065650565, 30.49866200554594, 30.942408150453883, 30.126816613124465, 22164.210522418634, 1690.9278644753222, 1434.8854353938598, 347.2274803209846, 6513.526095467952, 1382.107845744455, 76.55165147649811, 154.9269623126156, 1154.8862047054097, 10138.684296983947, 813.1334910211417, 739.947907448265, 1622.678347118288, 1864.1347999400055, 21918.91175514047, 2742.2364093616143, 7947.429735151315, 3900.4810834387313, 1551.8901081948409, 2962.2654208303234, 8405.19927009921, 10466.908477811814, 11501.146727746544, 5088.7497010614225, 7071.239580868881, 6566.178590018887, 3501.3720749003055, 1501.1549611119842, 2818.7677075591237, 5375.137741095638, 7483.0318951546005, 4965.9844773483655, 7766.020176859251, 4145.81464666651, 7919.803440555553, 9533.19156354735, 6680.329093374974, 5121.202014554529, 6474.399971681192, 4060.741171437847, 3811.663056488429, 17871.51922474247, 10941.96078825128, 13266.151261076442, 6920.2642417138995, 7062.088443962656, 16325.449205806079, 6273.62355400862, 6815.232050792157, 6599.443678218254, 8158.539430817552, 10359.701929180063, 287.58817529982446, 136.28803999323986, 143.95099243918906, 116.94836667993836, 107.14744812704605, 94.65600770016303, 94.1155282799792, 104.2221629443201, 85.44887651986826, 86.22317705450016, 82.66991674110125, 82.51034489588832, 98.01744003036512, 74.00825877905898, 72.28526661451447, 69.37091745566646, 67.78223458055065, 85.13922898230022, 68.11773690665736, 66.1838317907514, 63.06730428794772, 58.94631487032569, 59.94385350888034, 62.55641258378165, 57.78478570503472, 67.02041091891158, 56.034012188755135, 54.266889091513455, 54.40509653567138, 53.59410285598746, 114.59998288557136, 238.68827258066557, 105.68594498703243, 100.23472810592051, 169.56913634884836, 231.6091136413877, 301.2191933142539, 613.4076474671004, 1983.7881572020715, 215.16790416249276, 344.85178338814075, 261.44506461062076, 1042.0241774932927, 489.5142766380212, 368.6666963036217, 740.1763805128613, 599.1075786012638, 767.2337115374545, 749.699727289773, 676.3663070505118, 2107.223365683133, 1542.6607234081127, 219.84207920018994, 1369.9365238010646, 2000.5393171838655, 278.00761819787067, 752.8801090970463, 1792.2766477187236, 315.6134407618678, 3498.967678869374, 310.0261202095405, 1673.751999283188, 2000.1935686697407, 855.7470696432408, 1645.2067730292226, 1324.331911403526, 1168.6662007831285, 1834.943910003075, 1569.0498865245406, 2051.9315627952506, 2614.4230556404104, 2140.101115120441, 2080.4356649462075, 644.374927728944, 1253.8469677810847, 13266.151261076442, 7062.088443962656, 17871.51922474247, 3107.9622609540556, 6599.443678218254, 3930.830121725954, 3774.1437218803385, 2553.6839679487434, 4658.213660016459, 6474.399971681192, 3699.9401493748046, 6815.232050792157, 3376.060014133679, 6566.178590018887, 2938.4816836139667, 5466.512847040918, 4205.125788232538, 11501.146727746544, 612.2769694036576, 468.8528039035962, 442.4391460078197, 263.8199445584024, 177.13643776282228, 164.52239309674525, 163.50185519036606, 141.76528091289458, 137.24706990122354, 147.07599388280778, 137.02440673142024, 911.9708142943831, 125.63978256953654, 190.6845024029353, 113.49871361928113, 98.50522378431103, 91.93872201211865, 90.84118330238212, 82.28932148364949, 76.15201560315361, 123.14646178450154, 325.3593042573696, 63.8322490649375, 62.898505304770616, 95.93099966425586, 61.29335852411506, 67.3420290568958, 59.999579401823304, 88.8351797811548, 60.28476626494807, 3543.3434231050373, 139.95787935996398, 111.42621665058851, 230.37197462003178, 254.59611550294608, 711.1881943418712, 1692.4254678943544, 193.24700420849004, 153.1669698052792, 508.25042290946584, 559.5656402627761, 344.72820823519197, 394.53687473012366, 479.46463019494, 992.9466619161706, 491.96607877710284, 10359.701929180063, 515.0581249018301, 1313.4155853544698, 370.6075437718304, 473.18858087230376, 1415.5089000636506, 16325.449205806079, 10941.96078825128, 8158.539430817552, 960.639993301243, 836.1556817087408, 541.219019614846, 1598.3814627041072, 848.1038420424186, 1260.3642391766125, 6920.2642417138995, 1719.9870399519773, 5271.439879859198, 1000.8761410413521, 17871.51922474247, 1567.4034555798567, 6728.286747667907, 13266.151261076442, 9533.19156354735, 6273.62355400862, 21918.91175514047, 5466.512847040918, 1415.2891820897673, 4223.840227397438, 5731.407092770722, 1768.7392139249932, 10466.908477811814, 2614.4230556404104, 2666.9721784787203, 7919.803440555553, 6815.232050792157, 7766.020176859251, 6599.443678218254, 8405.19927009921, 264.36089859406104, 236.3368872857656, 213.29039673472207, 201.72416609691916, 136.6380683248041, 126.09671445751705, 110.80292976531811, 156.73066326154105, 98.40233140711118, 90.95210073983856, 82.49305207500244, 67.63272941850998, 67.63938938045, 62.582670694029375, 62.12344816954248, 60.10772910373835, 121.68063251295793, 57.44305181926668, 57.65773297830114, 251.58778140407878, 53.75627278289343, 53.49152620588166, 50.66191624342525, 56.36235324992053, 49.273977205755116, 49.31768459622401, 139.9652238938568, 48.134408171025456, 48.34591738239418, 50.4808482516163, 117.77979763939472, 89.86808249503127, 97.03744365964636, 226.24360879457907, 137.38402681501964, 246.58873990853255, 123.5820058504894, 118.1295991008642, 1403.9363344601102, 348.5667468639282, 375.19396679146195, 91.4698442251303, 557.4413096776511, 521.2697196761305, 650.0937432743929, 216.11594223153793, 319.99642095563246, 513.1929303040827, 858.5767766276527, 1746.5756597486072, 657.126116457469, 193.92874673232797, 551.3979670263398, 1354.2449252118863, 1171.6319245519248, 216.91334335915772, 332.79451748418666, 2807.6437924788406, 1250.578826839066, 805.8280494257347, 363.13144647401543, 418.27235154061674, 1877.515296430788, 987.0999849193493, 1325.8098483382335, 1873.94678309479, 5271.439879859198, 5144.94408449788, 6680.329093374974, 812.5403982531737, 3082.3827267987695, 2459.341482845418, 945.9807496052147, 1583.7016779547582, 698.673689325716, 4178.784719920044, 17871.51922474247, 2326.610800671943, 3616.719715871688, 21918.91175514047, 11501.146727746544, 4965.9844773483655, 4658.213660016459, 16325.449205806079, 3594.4320002098393, 7483.0318951546005, 7766.020176859251, 13266.151261076442, 497.86507152705036, 343.58617844663206, 221.1669871251854, 108.62025959869348, 95.42102731003109, 92.13118014206839, 188.7426905231534, 89.8301929551931, 76.1782579841446, 67.67777051383489, 68.1614329258276, 63.89016783334465, 174.94206118427016, 63.49411720925479, 64.69533023122992, 63.778097535777185, 59.443729303095786, 59.967927442419914, 59.02938477591279, 58.6313838585693, 53.831311182772936, 52.71209134267837, 53.06681557045684, 53.51522338638749, 88.32545134551174, 50.229986682044306, 47.61477809355222, 47.01923360489644, 45.70713946449214, 43.55176485172974, 1235.9498818310722, 192.5101687943767, 356.9539851856953, 125.49074991468635, 1689.5372221364066, 313.04341355414937, 323.8302404570335, 1986.2920220804083, 156.13487371558617, 130.23301407495313, 201.13971988121932, 121.79313092128362, 182.1056152145931, 3057.332337897728, 460.2703713855209, 1460.8963597768138, 2428.697945692307, 247.13120679749738, 172.09650091472133, 1591.533651180997, 6728.286747667907, 403.82458040130973, 827.5906003506427, 447.8157324289612, 761.82860158121, 5731.407092770722, 1598.3814627041072, 758.2826385133877, 371.10432923274254, 874.4113869153123, 7919.803440555553, 16325.449205806079, 17871.51922474247, 10359.701929180063, 892.11794029979, 1332.1207460167593, 1412.5981472263775, 21918.91175514047, 7071.239580868881, 10466.908477811814, 4223.840227397438, 6273.62355400862, 1760.9707500738132, 3625.3570788031266], \"Category\": [\"Default\", \"Default\", \"Default\", \"Default\", \"Default\", \"Default\", \"Default\", \"Default\", \"Default\", \"Default\", \"Default\", \"Default\", \"Default\", \"Default\", \"Default\", \"Default\", \"Default\", \"Default\", \"Default\", \"Default\", \"Default\", \"Default\", \"Default\", \"Default\", \"Default\", \"Default\", \"Default\", \"Default\", \"Default\", \"Default\", \"Topic1\", \"Topic1\", \"Topic1\", \"Topic1\", \"Topic1\", \"Topic1\", \"Topic1\", \"Topic1\", \"Topic1\", \"Topic1\", \"Topic1\", \"Topic1\", \"Topic1\", \"Topic1\", \"Topic1\", \"Topic1\", \"Topic1\", \"Topic1\", \"Topic1\", \"Topic1\", \"Topic1\", \"Topic1\", \"Topic1\", \"Topic1\", \"Topic1\", \"Topic1\", \"Topic1\", \"Topic1\", \"Topic1\", \"Topic1\", \"Topic1\", \"Topic1\", \"Topic1\", \"Topic1\", \"Topic1\", \"Topic1\", \"Topic1\", \"Topic1\", \"Topic1\", \"Topic1\", \"Topic1\", \"Topic1\", \"Topic1\", \"Topic1\", \"Topic1\", \"Topic1\", \"Topic1\", \"Topic1\", \"Topic1\", \"Topic1\", \"Topic1\", \"Topic1\", \"Topic1\", \"Topic1\", \"Topic1\", \"Topic1\", \"Topic1\", \"Topic1\", \"Topic1\", \"Topic1\", \"Topic1\", \"Topic1\", \"Topic1\", \"Topic1\", \"Topic1\", \"Topic1\", \"Topic1\", \"Topic1\", \"Topic1\", \"Topic1\", \"Topic1\", \"Topic1\", \"Topic1\", \"Topic1\", \"Topic1\", \"Topic1\", \"Topic1\", \"Topic1\", \"Topic1\", \"Topic1\", \"Topic1\", \"Topic1\", \"Topic2\", \"Topic2\", \"Topic2\", \"Topic2\", \"Topic2\", \"Topic2\", \"Topic2\", \"Topic2\", \"Topic2\", \"Topic2\", \"Topic2\", \"Topic2\", \"Topic2\", \"Topic2\", \"Topic2\", \"Topic2\", \"Topic2\", \"Topic2\", \"Topic2\", \"Topic2\", \"Topic2\", \"Topic2\", \"Topic2\", \"Topic2\", \"Topic2\", \"Topic2\", \"Topic2\", \"Topic2\", \"Topic2\", \"Topic2\", \"Topic2\", \"Topic2\", \"Topic2\", \"Topic2\", \"Topic2\", \"Topic2\", \"Topic2\", \"Topic2\", \"Topic2\", \"Topic2\", \"Topic2\", \"Topic2\", \"Topic2\", \"Topic2\", \"Topic2\", \"Topic2\", \"Topic2\", \"Topic2\", \"Topic2\", \"Topic2\", \"Topic2\", \"Topic2\", \"Topic2\", \"Topic2\", \"Topic2\", \"Topic2\", \"Topic2\", \"Topic2\", \"Topic2\", \"Topic2\", \"Topic2\", \"Topic2\", \"Topic2\", \"Topic2\", \"Topic2\", \"Topic2\", \"Topic2\", \"Topic2\", \"Topic2\", \"Topic2\", \"Topic2\", \"Topic2\", \"Topic2\", \"Topic2\", \"Topic2\", \"Topic2\", \"Topic2\", \"Topic2\", \"Topic2\", \"Topic2\", \"Topic2\", \"Topic2\", \"Topic2\", \"Topic2\", \"Topic2\", \"Topic2\", \"Topic2\", \"Topic2\", \"Topic2\", \"Topic2\", \"Topic2\", \"Topic2\", \"Topic2\", \"Topic3\", \"Topic3\", \"Topic3\", \"Topic3\", \"Topic3\", \"Topic3\", \"Topic3\", \"Topic3\", \"Topic3\", \"Topic3\", \"Topic3\", \"Topic3\", \"Topic3\", \"Topic3\", \"Topic3\", \"Topic3\", \"Topic3\", \"Topic3\", \"Topic3\", \"Topic3\", \"Topic3\", \"Topic3\", \"Topic3\", \"Topic3\", \"Topic3\", \"Topic3\", \"Topic3\", \"Topic3\", \"Topic3\", \"Topic3\", \"Topic3\", \"Topic3\", \"Topic3\", \"Topic3\", \"Topic3\", \"Topic3\", \"Topic3\", \"Topic3\", \"Topic3\", \"Topic3\", \"Topic3\", \"Topic3\", \"Topic3\", \"Topic3\", \"Topic3\", \"Topic3\", \"Topic3\", \"Topic3\", \"Topic3\", \"Topic3\", \"Topic3\", \"Topic3\", \"Topic3\", \"Topic3\", \"Topic3\", \"Topic3\", \"Topic3\", \"Topic3\", \"Topic3\", \"Topic3\", \"Topic3\", \"Topic3\", \"Topic3\", \"Topic3\", \"Topic3\", \"Topic3\", \"Topic3\", \"Topic3\", \"Topic3\", \"Topic3\", \"Topic3\", \"Topic3\", \"Topic3\", \"Topic3\", \"Topic3\", \"Topic3\", \"Topic3\", \"Topic3\", \"Topic3\", \"Topic3\", \"Topic3\", \"Topic3\", \"Topic3\", \"Topic3\", \"Topic3\", \"Topic4\", \"Topic4\", \"Topic4\", \"Topic4\", \"Topic4\", \"Topic4\", \"Topic4\", \"Topic4\", \"Topic4\", \"Topic4\", \"Topic4\", \"Topic4\", \"Topic4\", \"Topic4\", \"Topic4\", \"Topic4\", \"Topic4\", \"Topic4\", \"Topic4\", \"Topic4\", \"Topic4\", \"Topic4\", \"Topic4\", \"Topic4\", \"Topic4\", \"Topic4\", \"Topic4\", \"Topic4\", \"Topic4\", \"Topic4\", \"Topic4\", \"Topic4\", \"Topic4\", \"Topic4\", \"Topic4\", \"Topic4\", \"Topic4\", \"Topic4\", \"Topic4\", \"Topic4\", \"Topic4\", \"Topic4\", \"Topic4\", \"Topic4\", \"Topic4\", \"Topic4\", \"Topic4\", \"Topic4\", \"Topic4\", \"Topic4\", \"Topic4\", \"Topic4\", \"Topic4\", \"Topic4\", \"Topic4\", \"Topic4\", \"Topic4\", \"Topic4\", \"Topic4\", \"Topic4\", \"Topic4\", \"Topic4\", \"Topic4\", \"Topic4\", \"Topic4\", \"Topic4\", \"Topic4\", \"Topic4\", \"Topic4\", \"Topic4\", \"Topic4\", \"Topic4\", \"Topic4\", \"Topic4\", \"Topic4\", \"Topic4\", \"Topic4\", \"Topic4\", \"Topic4\", \"Topic4\", \"Topic4\", \"Topic4\", \"Topic4\", \"Topic4\", \"Topic4\", \"Topic4\", \"Topic4\", \"Topic4\", \"Topic5\", \"Topic5\", \"Topic5\", \"Topic5\", \"Topic5\", \"Topic5\", \"Topic5\", \"Topic5\", \"Topic5\", \"Topic5\", \"Topic5\", \"Topic5\", \"Topic5\", \"Topic5\", \"Topic5\", \"Topic5\", \"Topic5\", \"Topic5\", \"Topic5\", \"Topic5\", \"Topic5\", \"Topic5\", \"Topic5\", \"Topic5\", \"Topic5\", \"Topic5\", \"Topic5\", \"Topic5\", \"Topic5\", \"Topic5\", \"Topic5\", \"Topic5\", \"Topic5\", \"Topic5\", \"Topic5\", \"Topic5\", \"Topic5\", \"Topic5\", \"Topic5\", \"Topic5\", \"Topic5\", \"Topic5\", \"Topic5\", \"Topic5\", \"Topic5\", \"Topic5\", \"Topic5\", \"Topic5\", \"Topic5\", \"Topic5\", \"Topic5\", \"Topic5\", \"Topic5\", \"Topic5\", \"Topic5\", \"Topic5\", \"Topic5\", \"Topic5\", \"Topic5\", \"Topic5\", \"Topic5\", \"Topic5\", \"Topic5\", \"Topic5\", \"Topic5\", \"Topic5\", \"Topic5\", \"Topic5\", \"Topic5\", \"Topic5\", \"Topic5\", \"Topic5\", \"Topic5\", \"Topic5\"], \"logprob\": [30.0, 29.0, 28.0, 27.0, 26.0, 25.0, 24.0, 23.0, 22.0, 21.0, 20.0, 19.0, 18.0, 17.0, 16.0, 15.0, 14.0, 13.0, 12.0, 11.0, 10.0, 9.0, 8.0, 7.0, 6.0, 5.0, 4.0, 3.0, 2.0, 1.0, -7.8452, -8.3138, -8.5319, -8.5661, -8.7016, -8.8164, -8.476, -8.8726, -9.052, -9.1149, -9.1191, -8.84, -8.9067, -9.1881, -8.9147, -9.2239, -9.2709, -9.3135, -7.0633, -9.4931, -9.5179, -7.8128, -9.5714, -9.5915, -9.5703, -9.4157, -9.6178, -9.7111, -9.6968, -9.7235, -3.1405, -5.6986, -5.8812, -7.2882, -4.4276, -5.9515, -8.7968, -8.1093, -6.142, -4.0469, -6.5053, -6.5984, -5.861, -5.73, -3.3913, -5.3706, -4.3672, -5.0435, -5.9229, -5.3129, -4.3319, -4.1315, -4.0435, -4.8136, -4.5104, -4.5814, -5.1717, -5.9765, -5.3973, -4.8052, -4.5106, -4.8848, -4.4983, -5.081, -4.514, -4.3799, -4.7158, -4.9444, -4.7723, -5.14, -5.2117, -4.1718, -4.5074, -4.3918, -4.8571, -4.872, -4.4381, -4.9483, -4.924, -4.937, -4.9669, -4.9595, -6.7976, -7.5472, -7.4931, -7.7014, -7.7893, -7.914, -7.92, -7.8184, -8.0173, -8.0085, -8.0507, -8.0528, -7.8816, -8.1626, -8.1865, -8.2279, -8.2512, -8.0232, -8.2465, -8.276, -8.3244, -8.3925, -8.3757, -8.3333, -8.4129, -8.2649, -8.444, -8.4765, -8.4739, -8.489, -7.7384, -7.0209, -7.8213, -7.8733, -7.3663, -7.0679, -6.8176, -6.1428, -5.0427, -7.156, -6.7105, -6.9751, -5.6765, -6.3978, -6.6637, -6.0185, -6.2204, -6.0087, -6.0334, -6.1329, -5.1086, -5.3979, -7.1597, -5.5204, -5.1885, -6.9501, -6.0674, -5.3096, -6.8392, -4.7348, -6.8614, -5.435, -5.3123, -6.0247, -5.49, -5.6681, -5.7718, -5.4193, -5.5459, -5.3416, -5.1684, -5.3889, -5.43, -6.2627, -5.8149, -4.2874, -4.7813, -4.2542, -5.2955, -4.8823, -5.1891, -5.2224, -5.4507, -5.1726, -5.0283, -5.2945, -5.0724, -5.3762, -5.2784, -5.4569, -5.4274, -5.4496, -5.4538, -5.8633, -6.1307, -6.19, -6.7071, -7.1066, -7.1809, -7.1871, -7.3305, -7.3631, -7.294, -7.3648, -5.4695, -7.4519, -7.0351, -7.5542, -7.6968, -7.7665, -7.7787, -7.8787, -7.9567, -7.4762, -6.5051, -8.1355, -8.1502, -7.7282, -8.1761, -8.082, -8.1977, -7.8056, -8.1934, -4.1308, -7.3527, -7.5815, -6.8702, -6.7792, -5.7728, -4.9355, -7.0552, -7.2828, -6.1464, -6.0608, -6.5183, -6.4029, -6.2225, -5.5644, -6.2186, -3.5376, -6.2027, -5.3912, -6.496, -6.2846, -5.3391, -3.3183, -3.6621, -3.921, -5.7147, -5.8345, -6.1968, -5.3614, -5.8539, -5.5612, -4.2767, -5.3491, -4.5725, -5.7543, -3.8485, -5.5033, -4.6401, -4.2661, -4.488, -4.8092, -4.2172, -4.9138, -5.6192, -5.119, -5.0447, -5.535, -4.9682, -5.4172, -5.4269, -5.1807, -5.2372, -5.308, -5.351, -5.4181, -6.4966, -6.609, -6.712, -6.7679, -7.1591, -7.2399, -7.3699, -7.024, -7.4897, -7.5688, -7.6679, -7.8682, -7.8686, -7.9466, -7.954, -7.9873, -7.2824, -8.0331, -8.0296, -6.5564, -8.1004, -8.1054, -8.1605, -8.0539, -8.1885, -8.188, -7.1453, -8.2128, -8.2084, -8.1653, -7.3225, -7.5928, -7.5221, -6.7004, -7.1845, -6.6231, -7.2959, -7.3402, -5.0125, -6.3249, -6.2721, -7.5965, -5.9172, -5.9798, -5.787, -6.8026, -6.447, -6.0199, -5.557, -4.9388, -5.8135, -6.9028, -5.9995, -5.2399, -5.4145, -6.8176, -6.4684, -4.7665, -5.4317, -5.803, -6.4172, -6.318, -5.2283, -5.7596, -5.6154, -5.4065, -4.7898, -4.8157, -4.6752, -5.9399, -5.3212, -5.4982, -5.9606, -5.7397, -6.1065, -5.4084, -4.9849, -5.6925, -5.5995, -5.1362, -5.4164, -5.6122, -5.6231, -5.4331, -5.6765, -5.6459, -5.7311, -5.7313, -5.1318, -5.5034, -5.9452, -6.6607, -6.7905, -6.8258, -6.1088, -6.8514, -7.0177, -7.1374, -7.1305, -7.1955, -6.1883, -7.2019, -7.1832, -7.1975, -7.2686, -7.2599, -7.2757, -7.2825, -7.3692, -7.3905, -7.384, -7.3759, -6.875, -7.4396, -7.4938, -7.5067, -7.5354, -7.5845, -4.2647, -6.1202, -5.5379, -6.5722, -4.1194, -5.7089, -5.6789, -4.0154, -6.3866, -6.5589, -6.1774, -6.639, -6.2974, -4.068, -5.5987, -4.6775, -4.3437, -6.142, -6.4258, -4.7463, -3.7482, -5.8323, -5.4127, -5.8336, -5.5552, -4.483, -5.3581, -5.7271, -6.0758, -5.6928, -4.7278, -4.5243, -4.5671, -4.981, -5.723, -5.6201, -5.6272, -5.0517, -5.3398, -5.3216, -5.4998, -5.5559, -5.6595, -5.6844], \"loglift\": [30.0, 29.0, 28.0, 27.0, 26.0, 25.0, 24.0, 23.0, 22.0, 21.0, 20.0, 19.0, 18.0, 17.0, 16.0, 15.0, 14.0, 13.0, 12.0, 11.0, 10.0, 9.0, 8.0, 7.0, 6.0, 5.0, 4.0, 3.0, 2.0, 1.0, 0.9084, 0.9059, 0.9044, 0.9042, 0.9026, 0.9011, 0.9007, 0.9005, 0.8989, 0.8981, 0.8979, 0.8979, 0.8978, 0.8972, 0.897, 0.8968, 0.8959, 0.8951, 0.8948, 0.8918, 0.8906, 0.8905, 0.8903, 0.8898, 0.8897, 0.8893, 0.8886, 0.8869, 0.8867, 0.8867, 0.8689, 0.884, 0.8656, 0.8774, 0.8064, 0.8328, 0.8809, 0.8634, 0.8219, 0.7447, 0.8095, 0.8107, 0.7628, 0.7551, 0.6292, 0.7285, 0.6678, 0.7033, 0.7455, 0.7091, 0.6471, 0.6281, 0.6219, 0.6673, 0.6415, 0.6445, 0.683, 0.7252, 0.6742, 0.6209, 0.5846, 0.6205, 0.5598, 0.6048, 0.5246, 0.4732, 0.4929, 0.5301, 0.4678, 0.5666, 0.5582, 0.0529, 0.2079, 0.1309, 0.3164, 0.2812, -0.1229, 0.3232, 0.2648, 0.2839, 0.042, -0.1895, 1.5566, 1.5537, 1.553, 1.5525, 1.5521, 1.5513, 1.5511, 1.5507, 1.5504, 1.5502, 1.5501, 1.55, 1.5489, 1.5488, 1.5486, 1.5482, 1.5482, 1.5482, 1.5479, 1.5472, 1.5471, 1.5465, 1.5465, 1.5462, 1.546, 1.5457, 1.5457, 1.5452, 1.5452, 1.5452, 1.5358, 1.5196, 1.5338, 1.5349, 1.516, 1.5027, 1.4902, 1.4539, 1.3801, 1.4882, 1.462, 1.4743, 1.3902, 1.4244, 1.4421, 1.3902, 1.3998, 1.3641, 1.3625, 1.366, 1.254, 1.2765, 1.463, 1.2727, 1.2259, 1.4379, 1.3243, 1.2147, 1.422, 1.1206, 1.4176, 1.1578, 1.1024, 1.2389, 1.1201, 1.1589, 1.1802, 1.0816, 1.1115, 1.0475, 0.9785, 0.9581, 0.9453, 1.2846, 1.0667, 0.2352, 0.3719, -0.0295, 0.6784, 0.3386, 0.5499, 0.5573, 0.7196, 0.3966, 0.2117, 0.505, 0.1163, 0.5149, -0.0524, 0.5731, -0.0182, 0.222, -0.7884, 1.7351, 1.7346, 1.7333, 1.7333, 1.7321, 1.7317, 1.7317, 1.7309, 1.7308, 1.7307, 1.7306, 1.7306, 1.7303, 1.73, 1.7296, 1.7287, 1.728, 1.7278, 1.7267, 1.7262, 1.7261, 1.7256, 1.7239, 1.7239, 1.7238, 1.7238, 1.7238, 1.7236, 1.7233, 1.7231, 1.712, 1.7216, 1.7208, 1.7058, 1.6967, 1.6759, 1.6462, 1.6965, 1.7013, 1.6382, 1.6277, 1.6545, 1.635, 1.6205, 1.5506, 1.5986, 1.2324, 1.5686, 1.4441, 1.6045, 1.5715, 1.4213, 0.9969, 1.0532, 1.0878, 1.4333, 1.4523, 1.525, 1.2775, 1.4188, 1.3153, 0.8967, 1.2165, 0.8731, 1.3527, 0.3762, 1.1551, 0.5615, 0.2565, 0.3651, 0.4623, -0.1967, 0.4954, 1.1413, 0.5482, 0.3172, 1.0026, -0.2086, 0.7296, 0.7, -0.1421, -0.0485, -0.2499, -0.1301, -0.4391, 1.9418, 1.9414, 1.941, 1.9408, 1.9392, 1.9387, 1.9379, 1.9371, 1.9369, 1.9365, 1.935, 1.9333, 1.9329, 1.9325, 1.9325, 1.9322, 1.9319, 1.9318, 1.9315, 1.9315, 1.9308, 1.9308, 1.9299, 1.9299, 1.9297, 1.9294, 1.9289, 1.9289, 1.9288, 1.9287, 1.9243, 1.9245, 1.9184, 1.8936, 1.9084, 1.8848, 1.9028, 1.9037, 1.7561, 1.8369, 1.8161, 1.9031, 1.7751, 1.7795, 1.7515, 1.8372, 1.8004, 1.7551, 1.7034, 1.6115, 1.7143, 1.8453, 1.7037, 1.5648, 1.535, 1.8185, 1.7398, 1.309, 1.4526, 1.5207, 1.7037, 1.6615, 1.2496, 1.3613, 1.2105, 1.0733, 0.6558, 0.6542, 0.5335, 1.3756, 0.661, 0.7098, 1.2028, 0.9084, 1.36, 0.2694, -0.7602, 0.5709, 0.2229, -1.1156, -0.751, -0.1069, -0.0538, -1.118, 0.152, -0.5506, -0.6729, -1.2086, 2.6735, 2.6728, 2.6715, 2.6671, 2.6669, 2.6666, 2.6665, 2.6663, 2.6648, 2.6635, 2.6633, 2.6629, 2.6629, 2.6628, 2.6627, 2.6627, 2.662, 2.662, 2.6619, 2.6618, 2.6606, 2.6602, 2.6601, 2.6598, 2.6596, 2.6594, 2.6587, 2.6584, 2.658, 2.6572, 2.6314, 2.6353, 2.6001, 2.6112, 2.464, 2.5604, 2.5565, 2.4062, 2.5783, 2.5874, 2.5342, 2.5743, 2.5136, 1.9224, 2.2851, 2.0513, 1.8768, 2.3637, 2.4418, 1.8969, 1.4534, 2.1823, 1.8844, 2.0777, 1.8247, 0.8789, 1.2807, 1.6575, 2.0233, 1.5493, 0.3107, -0.2091, -0.3424, -0.211, 1.499, 1.201, 1.1353, -1.0311, -0.188, -0.5619, 0.1673, -0.2844, 0.8825, 0.1355]}, \"token.table\": {\"Topic\": [3, 4, 1, 2, 5, 4, 2, 3, 4, 5, 2, 1, 2, 4, 1, 2, 4, 3, 4, 5, 4, 1, 2, 3, 4, 5, 3, 5, 1, 2, 3, 5, 1, 2, 3, 4, 5, 1, 5, 5, 1, 2, 4, 1, 5, 1, 2, 3, 4, 5, 1, 2, 3, 4, 5, 1, 2, 3, 4, 5, 3, 1, 2, 3, 4, 5, 1, 2, 3, 4, 5, 3, 4, 5, 1, 2, 3, 4, 5, 2, 1, 2, 4, 1, 2, 3, 4, 5, 1, 2, 3, 4, 5, 3, 1, 2, 3, 4, 5, 5, 3, 3, 3, 4, 1, 3, 4, 5, 1, 2, 3, 4, 5, 1, 2, 3, 4, 5, 1, 4, 1, 2, 2, 1, 2, 3, 4, 1, 2, 3, 4, 5, 5, 2, 2, 1, 2, 3, 4, 5, 3, 5, 1, 4, 1, 2, 3, 4, 1, 2, 3, 4, 5, 4, 2, 3, 5, 1, 3, 2, 1, 2, 3, 4, 5, 1, 2, 3, 5, 2, 1, 2, 3, 4, 5, 4, 1, 2, 3, 4, 5, 5, 1, 2, 3, 5, 3, 1, 1, 2, 3, 5, 1, 2, 3, 4, 5, 1, 2, 3, 4, 5, 1, 2, 3, 4, 4, 5, 4, 1, 1, 4, 1, 2, 3, 4, 1, 2, 1, 2, 3, 4, 5, 4, 5, 4, 3, 5, 3, 5, 1, 2, 3, 4, 5, 2, 1, 3, 4, 2, 2, 3, 5, 3, 5, 1, 1, 2, 3, 4, 1, 4, 2, 1, 2, 3, 4, 5, 3, 4, 5, 1, 2, 3, 4, 5, 5, 1, 2, 3, 4, 1, 2, 3, 4, 5, 1, 2, 4, 1, 2, 3, 4, 5, 1, 2, 3, 4, 5, 1, 3, 4, 5, 1, 2, 3, 4, 5, 1, 2, 3, 4, 1, 2, 3, 4, 5, 2, 4, 2, 1, 2, 3, 4, 5, 1, 2, 3, 4, 5, 2, 4, 2, 1, 2, 3, 4, 1, 2, 3, 4, 5, 1, 2, 4, 3, 4, 5, 3, 4, 5, 2, 1, 2, 3, 4, 5, 2, 5, 3, 5, 4, 5, 1, 2, 3, 4, 5, 1, 2, 3, 4, 5, 1, 2, 3, 4, 5, 1, 2, 3, 5, 1, 2, 3, 4, 5, 1, 2, 3, 4, 5, 1, 2, 3, 4, 5, 1, 2, 3, 4, 5, 1, 2, 3, 5, 4, 4, 1, 2, 3, 4, 5, 1, 2, 3, 4, 5, 1, 2, 3, 4, 5, 1, 2, 3, 4, 5, 1, 2, 3, 4, 5, 4, 1, 2, 3, 5, 1, 2, 3, 4, 5, 1, 2, 3, 2, 3, 4, 5, 1, 2, 3, 4, 5, 1, 3, 2, 3, 5, 5, 1, 2, 3, 4, 5, 2, 3, 5, 1, 2, 3, 4, 5, 3, 1, 2, 3, 1, 2, 3, 4, 5, 1, 2, 4, 3, 1, 2, 3, 4, 5, 1, 4, 1, 2, 3, 4, 5, 3, 1, 4, 1, 2, 4, 5, 2, 3, 4, 5, 3, 5, 1, 2, 3, 4, 5, 1, 2, 3, 4, 5, 2, 3, 4, 5, 2, 3, 4, 5, 1, 2, 3, 4, 5, 1, 2, 3, 4, 5, 1, 2, 3, 4, 5, 1, 2, 3, 4, 5, 1, 2, 3, 4, 5, 1, 2, 3, 4, 5, 1, 4, 1, 2, 3, 4, 5, 1, 2, 3, 4, 5, 3, 5, 1, 2, 3, 4, 5, 1, 2, 3, 4, 5, 1, 2, 3, 4, 1, 2, 3, 4, 5, 1, 2, 3, 4, 5, 1, 2, 3, 5, 1, 2, 3, 4, 5, 1, 1, 5, 3, 4, 5, 1, 2, 3, 4, 5, 2, 5, 1, 3, 1, 2, 3, 1, 2, 3, 4, 5, 1, 2, 3, 4, 5, 1, 2, 3, 4, 5, 2, 3, 5, 2, 4, 5, 1, 2, 3, 4, 1, 2, 3, 4, 5, 2, 3, 1, 2, 3, 4, 5, 2, 3, 3, 5, 3, 5, 3, 5, 1, 2, 3, 4, 5, 4, 1, 3, 4, 5, 5, 1, 2, 3, 4, 5, 1, 1, 5, 1, 2, 3, 4, 1, 2, 3, 5, 1, 2, 3, 4, 5, 4, 2, 1, 1, 2, 3, 4, 5, 3, 5, 1, 2, 3, 4, 5, 3, 2, 2, 1, 2, 3, 4, 2, 3, 4, 5, 4, 5, 3, 5, 1, 2, 3, 4, 5, 1, 2, 3, 4, 5, 1, 1, 4, 1, 2, 3, 4, 5, 2, 3, 1, 2, 3, 4, 5, 1, 2, 3, 4, 2, 3, 5, 2, 3, 5, 1, 2, 3, 4, 5, 2, 3, 4, 5, 4, 1, 2, 3, 4, 5, 4, 1, 2, 3, 4, 5, 1, 2, 1, 2, 3, 5, 2, 1, 2, 4, 2, 1, 2, 3, 4, 2, 3, 1, 2, 3, 4, 5, 1, 2, 3, 4, 5, 1, 2, 4, 1, 2, 3, 4, 5, 1, 2, 3, 4, 2, 1, 2, 3, 4, 5, 1, 2, 3, 4, 5, 3, 1, 2, 3, 4, 2, 3, 4, 5, 1, 1, 3, 1, 2, 3, 4, 5, 5, 1, 2, 3, 4, 5, 4, 1, 2, 4, 1, 2, 3, 4, 5, 1, 2, 3, 4, 5, 1, 4, 1, 2, 3, 4, 1, 2, 3, 4, 1, 2, 1, 2, 3, 4, 5, 1, 1, 2, 3, 4, 5, 1, 2, 3, 4, 2, 1, 2, 3, 4, 5, 1, 2, 3, 4, 5, 1, 2, 3, 4, 5, 1, 2, 3, 4, 5, 1, 4, 3, 4, 5, 1, 2, 3, 4, 5, 3, 5, 2, 3, 5, 1, 2, 3, 4, 5, 4, 1, 2, 4, 5, 1, 2, 3, 4, 5, 1, 2, 3, 4, 5, 1, 3, 5, 4, 2, 1, 2, 3, 4, 5, 2, 1, 2, 3, 4, 5, 1, 2, 3, 4, 1, 2, 3, 4, 5, 1, 2, 3, 4, 5, 1, 2, 3, 4, 5, 1, 2, 3, 4, 5, 2, 1, 2, 3, 4, 5, 5, 2, 1, 1, 4, 1, 3, 4, 5, 4, 5, 1, 2, 3, 4, 5, 1, 2, 3, 4, 5, 1, 2, 3, 4, 5, 1, 2, 3, 4, 5, 1, 2, 4, 5, 1, 2, 3, 4, 5, 1, 2, 3, 4, 5, 3, 4, 1, 2, 3, 4, 5, 3, 1, 2, 3, 4, 1, 2, 3, 4, 1, 2, 3, 4, 5, 2, 3, 5, 3, 4, 1, 2, 3, 3, 1, 2, 3, 4, 5, 5, 1, 3, 5, 1, 2, 3, 4, 5, 3, 5, 1, 2, 3, 4, 5, 4, 3, 2, 3, 5, 1, 2, 3, 4, 5, 3, 5], \"Freq\": [0.9907400666547673, 0.9986384912815215, 0.9785306169516085, 0.9896198061278694, 0.9892522346088239, 0.9819158755245451, 0.9295066602914991, 0.018590133205829983, 0.04647533301457496, 0.004647533301457496, 0.9930695608646307, 0.9027662532402048, 0.04054339460659602, 0.055409305962347895, 0.9026808120745771, 0.003689431112021432, 0.09346558817120962, 0.673677742427238, 0.016813920360080815, 0.3082552066014816, 0.9904746400215074, 0.7651330117089533, 0.19950721443844127, 0.005939527758091, 0.02924075203983261, 0.00015229558354079486, 0.9925239104780204, 0.9922179056742163, 0.49442692262330934, 0.00018278259616388514, 0.5050283132008146, 0.0003655651923277703, 0.3808625118000527, 0.017293216752002395, 0.09923012469601374, 0.05229139351200724, 0.45003537880806227, 0.9695431543055236, 0.9783230493831294, 0.987722070418244, 0.0875925828525009, 0.027660815637631866, 0.8805359644646144, 0.9817802297537391, 0.9860672171707763, 0.11751595762558718, 0.29075068826330625, 0.008104548801764633, 0.5582007987215392, 0.026339783605735058, 0.8159295865265559, 0.010127384193544343, 0.005401271569890316, 0.16338846498918208, 0.005063692096772172, 0.006451069344248283, 0.8676688268013941, 0.06451069344248284, 0.04193195073761384, 0.01935320803274485, 0.9952138611559418, 0.050000376748420824, 0.21918769807156568, 0.5947719234143547, 0.05116317620768642, 0.08546576025602164, 0.4042904130413743, 0.00787578726703976, 0.15489048291844862, 0.005250524844693173, 0.4279177748424936, 0.43740269165816953, 0.02601142767294279, 0.5359723123135317, 0.007975454945428355, 0.6109198488198121, 0.1571164624249386, 0.18582810022848067, 0.03748463824351327, 0.9847746245521207, 0.20674722581005514, 0.005440716468685661, 0.7852767436469638, 0.009317745620167685, 0.1980020944285633, 0.0023294364050419213, 0.7861847867016484, 0.0046588728100838426, 0.2297583539022337, 0.6442959130591739, 0.11244787161881808, 0.006078263330746923, 0.0072939159968963075, 0.9949210164634804, 0.19184507677013865, 0.09981607315346697, 0.3454627212687367, 0.14866223661154654, 0.2144983699680886, 0.9864909297935249, 0.9935843930408947, 0.9995476403368113, 0.9786883761097854, 0.9964101172857434, 0.07251144775597079, 0.8308603388704987, 0.00302131032316545, 0.09366062001812894, 0.1661579258829641, 0.12363719681842604, 0.225032781510786, 0.014064548844424126, 0.4709988450225754, 0.6857042278163598, 0.04617443792150487, 0.0799066620318258, 0.1788913852408003, 0.009400783768450093, 0.9773490807980251, 0.9815709373776782, 0.23899129741556302, 0.7604268554131551, 0.9979548001262178, 0.2094797256440847, 0.6334386930574113, 0.004499564512641438, 0.15248524181729317, 0.09231386351827192, 0.14242710371390527, 0.33364867814461135, 0.06989478237812018, 0.36134283720009297, 0.998293940549989, 0.981546704432444, 0.9933936374937408, 0.678552193919478, 0.026894606867296018, 0.15278156952783184, 0.047728457257454907, 0.09406799115556588, 0.9956059976066864, 0.9755129004944771, 0.9666675842090554, 0.026126150924569068, 0.1418001233251048, 0.3092449498047498, 0.06939154971228532, 0.479706800184929, 0.5767707716919078, 0.028962664288689776, 0.24632056390285686, 0.06923455939486794, 0.0788887808244312, 0.9895318444313675, 0.9881472451957058, 0.0052982184222775406, 0.9907668449659001, 0.0022601978351669766, 0.9967472453086367, 0.9911054269130851, 0.45770622394571625, 0.2660907395468344, 0.22764703496641356, 0.04274035391587963, 0.0058042455935145175, 0.06048412786613524, 0.018770936234317834, 0.8905766413393017, 0.031284893723863054, 0.9946531274304754, 0.34898481182538854, 0.06698977192260658, 0.5595240950107234, 0.01084596307318392, 0.014035952212355663, 0.9935710056619923, 0.788287730855308, 0.11636290536477994, 0.0007095299107608533, 0.09472224308657391, 0.00035476495538042666, 0.989985330357531, 0.06655388064475977, 0.5595880884096756, 0.3652813564123309, 0.008414858472325948, 0.9969305841222307, 0.995400684205648, 0.9647853899418293, 0.01151982555154423, 0.020159694715202403, 0.9907581969059424, 0.6411404945873493, 0.2599468688004117, 0.049270975132104176, 0.0302730756297568, 0.019461262904843655, 0.05718519493707315, 0.2603206635195121, 0.017923717816097553, 0.6640310695678046, 0.0008535103721951217, 0.017939108254791256, 0.1327494010854553, 0.003587821650958251, 0.8449319988006682, 0.9906446268847933, 0.9947235021810699, 0.9859314505314049, 0.9711700331713895, 0.007144631874831666, 0.9859591987267698, 0.01948584910176898, 0.08378915113760661, 0.07014905676636833, 0.8281485868251817, 0.985072881528904, 0.9960535994695053, 0.385020351547372, 0.07194644867027673, 0.000712341075943334, 0.5296255899638688, 0.012822139366980012, 0.9565765130847154, 0.03386111550742355, 0.9986348261184601, 0.08966606669501824, 0.9094701050494708, 0.9857149975119923, 0.9942896509271375, 0.6051449238654127, 0.348384013784063, 0.0010810985687635779, 0.044865590603688485, 0.0005405492843817889, 0.988459592909687, 0.9625975546107458, 0.13125146798383505, 0.8656346817029121, 0.9858138252812582, 0.989290943021942, 0.9949078026366176, 0.9845289057075759, 0.011432356441103995, 0.9888988321554955, 0.9864624737010779, 0.6274037219974732, 0.07888290477479572, 0.002439677467261723, 0.2907282315153554, 0.056774692977436994, 0.9408377693403844, 0.9889147718810805, 0.20843796711878568, 0.03532846900318401, 0.5518306858297343, 0.1109313926699978, 0.09397372754846947, 0.007949511652904046, 0.9857394449601017, 0.003974755826452023, 0.539691861191081, 0.312780843975897, 0.008372308109169514, 0.13545965171502472, 0.0038641422042320836, 0.9845571069233221, 0.7351992936902713, 0.1379704711256021, 0.001206035586762256, 0.1256689081406271, 0.015347141216970114, 0.09783802525818447, 0.019183926521212643, 0.8479295522375988, 0.021102319173333908, 0.40909923395534886, 0.11416722808056247, 0.4767538876327192, 0.04807771510466746, 0.06610685826891775, 0.06610685826891775, 0.8143162995853052, 0.006009714388083433, 0.8456718592717786, 0.0628286650753584, 0.04615983556556944, 0.040537804310788544, 0.004832974236566031, 0.12257269584375721, 0.8474422591956318, 0.002113322342133745, 0.027473190447738684, 0.9232275208688209, 0.02749423651490219, 0.015917715877048638, 0.02242950873584126, 0.010852988097987707, 0.02729231829424408, 0.9097439431414693, 0.045487197157073465, 0.018194878862829385, 0.40319245411160126, 0.02023951553004075, 0.06764259137671515, 0.4990638434644259, 0.009587138935282461, 0.020610600656535152, 0.9790035311854197, 0.982112975953187, 0.7827069975890575, 0.14777696765929482, 0.018472120957411853, 0.04853844549447583, 0.0025546550260250435, 0.20978904148452016, 0.7085959645886718, 0.01115899156832554, 0.06918574772361835, 0.001115899156832554, 0.006380372412074022, 0.9953380962835474, 0.9842543738243236, 0.23443678210743968, 0.716806706912726, 0.03349096887249138, 0.014995956211563305, 0.9722472699981892, 0.01123643438562384, 0.0011827825669077727, 0.014193390802893273, 0.0011827825669077727, 0.1219301247432502, 0.12432091150292178, 0.7530978292965453, 0.035744995806626566, 0.19986990613001052, 0.7642380793585793, 0.18311102996589781, 0.2657342995846566, 0.5493330898976935, 0.9938147768436518, 0.3551510238344906, 0.0648680466093007, 0.47735286801348487, 0.046736845668457455, 0.05592495425334424, 0.9830767415858667, 0.9829605559042244, 0.8720113408354905, 0.1280576094933238, 0.9944397180562256, 0.9982624378038872, 0.38940076400699164, 0.006390928569580397, 0.3088453387811178, 0.0005945049832167811, 0.29472584542971925, 0.5319956029737691, 0.30500892435600174, 0.09260716644792254, 0.05777327815099755, 0.012602504302546034, 0.11107448962613124, 0.024047054455141815, 0.008015684818380605, 0.7168312423294655, 0.1408470332372592, 0.019685366139908306, 0.01406097581422022, 0.9406792819713328, 0.025309756465596397, 0.026556937397789214, 0.8743360927887526, 0.03472830275095513, 0.044942509442412515, 0.02042841338291478, 0.05035833223115333, 0.88486783777598, 0.014388094923186667, 0.03597023730796667, 0.014388094923186667, 0.41882496603409675, 0.008702538070945528, 0.5227651390504602, 0.03873242296364488, 0.011031386287114048, 0.527619125818912, 0.043444828812469936, 0.2419999098911478, 0.02111174412172234, 0.1659278401632888, 0.913509916129885, 0.07966152823123168, 0.0017317723528528625, 0.004329430882132157, 0.994023107854536, 0.9927535330787848, 0.41313898827778833, 0.28516327473719394, 0.12936675390516603, 0.166646635675687, 0.005842369531201047, 0.2547545082703714, 0.0007384188645518012, 0.02584466025931304, 0.6837758685749679, 0.034705686633934654, 0.4649088037915053, 0.2625367362587324, 0.15362203951371478, 0.11414640706901408, 0.004993905309269366, 0.8995127852602963, 0.04175925543451111, 0.0013817400695242648, 0.0572654495480612, 0.00015352667439158497, 0.14233409056661278, 0.12234334750950425, 0.10555112334153308, 0.6117167375475212, 0.017591853890255513, 0.9869346386298375, 0.020319791621244063, 0.00028221932807283426, 0.9759144364758607, 0.003668851264946845, 0.20668747764960002, 0.541232790310348, 0.11920580106302513, 0.02980145026575628, 0.10286307027212652, 0.00431761939017802, 0.9455586464489864, 0.04749381329195822, 0.8896925143731184, 0.09222422405087202, 0.005424954355933649, 0.013562385889834121, 0.11035035708253327, 0.25598280112342753, 0.39410841815190456, 0.010509557817384121, 0.2289582238787255, 0.008974548630111084, 0.9872003493122192, 0.0030735251364103237, 0.9896750939241242, 0.006147050272820647, 0.9925353050978133, 0.8114383667795362, 0.09101441396737293, 0.03743128011052521, 0.04973745439343761, 0.01051152386665434, 0.024631931023588977, 0.06568514939623728, 0.9031708041982626, 0.4069832865078905, 0.35188947916402763, 0.22541068488537458, 0.014217756733900105, 0.0011848130611583421, 0.9926840957901998, 0.9858261940304212, 0.00714500680185397, 0.9860109386558479, 0.00832778153708547, 0.2102764838114081, 0.7380496387241997, 0.01145069961349252, 0.032270153456206194, 0.02132230448270111, 0.09861565823249263, 0.8795450599114207, 0.9968247903102281, 0.8293614132133056, 0.0006661537455528558, 0.013989228656609974, 0.14655382402162828, 0.009326152437739982, 0.9860835540973492, 0.009667485824483816, 0.7830204490485523, 0.09298603757783708, 0.08166162163466342, 0.036112304174342684, 0.006165515346838995, 0.998181083921231, 0.9874001143103128, 0.9764324894783205, 0.9766617228576014, 0.05232265116251666, 0.7848397674377499, 0.1597217772329456, 0.9179748730672747, 0.022949371826681865, 0.007649790608893955, 0.049723638957810706, 0.05578100381708517, 0.9403083500594358, 0.0022872529222834814, 0.34880607064823094, 0.2047091365443716, 0.12122440488102451, 0.32478991496425436, 0.07550199919910383, 0.06766688607466852, 0.0042736980678738015, 0.8283851421562052, 0.02421762238461821, 0.04164431326569033, 0.05552575102092044, 0.8976663081715471, 0.004627145918410036, 0.8249967424210088, 0.05026861871382491, 0.12419305799886154, 0.0014784887857007326, 0.7534589392252499, 0.03038472016494196, 0.1447152137585524, 0.04685451593002311, 0.02459063689024582, 0.0011959495365222326, 0.18417622862442382, 0.7522522584724843, 0.051425830070456, 0.009567596292177861, 0.6822617014657891, 0.17573999179141678, 0.029680531946994833, 0.10524872841730404, 0.0068343330141106525, 0.6445900052503941, 0.07206400872368117, 0.25374503217261246, 0.02601437287259524, 0.0035664866035009604, 0.6413869318730667, 0.07623972128991942, 0.0003244243459145507, 0.2770583914110263, 0.004866365188718261, 0.6574526402233148, 0.07080489499672767, 0.010478525686619318, 0.24385026205004096, 0.017364413994969154, 0.976272425754995, 0.019722675267777674, 0.3189512171660341, 0.6450473988743181, 0.02114909504505961, 0.010574547522529804, 0.004572777307039915, 0.423355166667932, 0.20417961976887178, 0.25660940977255303, 0.06686616761408654, 0.048904628029047395, 0.2670646125808032, 0.732404467835233, 0.43656954352560806, 0.14560209830165344, 0.304699025226387, 0.031487933453853506, 0.08144247449718502, 0.6712477880539561, 0.1038579465295604, 0.02273388230485769, 0.1873750509968797, 0.015076153528484576, 0.9540831387867736, 0.04320902454695395, 0.0006969197507573218, 0.0013938395015146436, 0.7077525699532237, 0.15391278922086457, 0.1108172082390225, 0.023148483498818033, 0.0044326883295609, 0.5233864340078334, 0.23623553651601115, 0.16785928805858183, 0.052089202151045934, 0.020542220566609665, 0.07476629292794293, 0.013772738170936856, 0.9070331852574129, 0.0059026020732586525, 0.9574444340589259, 0.0027070668697768982, 0.029867971129871777, 0.009474734044219143, 0.0005414133739553796, 0.9952385580316606, 0.9953901730907355, 0.9877999255882366, 0.9945493712995309, 0.0010965263189630992, 0.004386105275852397, 0.11363119254923561, 0.16940343062849317, 0.42170641241561063, 0.2756362650651742, 0.01953925347674669, 0.9950819165059677, 0.9903723958570162, 0.9872624509478958, 0.9869619341770202, 0.05799593031969162, 0.9076363095031739, 0.03479755819181497, 0.7017934062787798, 0.09339755238700771, 0.04328819141532661, 0.1356363331013567, 0.025972914849195967, 0.8460650616088288, 0.030930025100703567, 0.10954383889832513, 0.009665632843969865, 0.0032218776146566213, 0.0037537972880699764, 0.038163605762044764, 0.631889210158446, 0.07820411016812451, 0.24775062101261847, 0.017432080164643118, 0.18594218842285992, 0.7902543007971546, 0.020626132367683677, 0.9075498241780818, 0.07219146328689287, 0.1499642557130628, 0.8443933317176959, 0.0013510293307483134, 0.00405308799224494, 0.023578231129507295, 0.12905979144572413, 0.16877049650594694, 0.6539856739605444, 0.024819190662639257, 0.9745855989898942, 0.018923992213396003, 0.7626668476331463, 0.011313433675255277, 0.10266941060294163, 0.06618358700024336, 0.057132840060039145, 0.9773125368773619, 0.017452009587095748, 0.042072903411715594, 0.9571585526165297, 0.12926337978075136, 0.8700419792935188, 0.03636171555943528, 0.9609881969279325, 0.5333782924184822, 0.295024867993973, 0.15471001038615637, 0.016819599562060094, 0.00015152792398252337, 0.9985745463197276, 0.030380707421593427, 0.8971244191552882, 0.0035742008731286384, 0.06969691702600844, 0.9825614856088957, 0.22802660890746568, 0.5481049431320845, 0.11261150153012137, 0.076631893157427, 0.034577805449082906, 0.9916079632135983, 0.9836497087821341, 0.9873308268078641, 0.639009236453502, 0.005682888466483713, 0.0006314320518315237, 0.35486481312931634, 0.021223816126869657, 0.06838785196435779, 0.7275052527932544, 0.1815815379743293, 0.3090332082152921, 0.25014927285299027, 0.14656512378499945, 0.2531579410831809, 0.04083192598115821, 0.9908111388710458, 0.9978865350675368, 0.9787579636531584, 0.2902859680074358, 0.37298173615023406, 0.19976302839433155, 0.05410957668602848, 0.08269576814279823, 0.9948710965276595, 0.9838592480397242, 0.10490808572053056, 0.2008240498078728, 0.6814029948704937, 0.00399649850363926, 0.008992121633188334, 0.9905985468458299, 0.9918907231724422, 0.9864188177656191, 0.3324352295863789, 0.6201824447037692, 0.0005449757862071785, 0.04686791761381735, 0.009583335314228128, 0.07666668251382502, 0.022361115733198968, 0.891250184223216, 0.9861881675148347, 0.00821823472929029, 0.011321764958643657, 0.9849935514019981, 0.4718988092023491, 0.02385048133152667, 0.2441834993465826, 0.09313045091358034, 0.16638550071755512, 0.005312930905821553, 0.7902984722409561, 0.112899781748708, 0.06375517086985863, 0.027892887255563152, 0.9923382725119763, 0.9916020861394491, 0.9953302302013862, 0.027873918968392832, 0.7538922734939736, 0.2067855849050538, 0.009723460105253313, 0.0019446920210506626, 0.005244264674886377, 0.9911660235535252, 0.5548627471879096, 0.043515521396811065, 0.2797426375509283, 0.07013490628057462, 0.051804192139060797, 0.145223548581314, 0.2830628489296798, 0.004922832155298779, 0.5661256978593596, 0.08508498762971159, 0.9134818810800981, 0.00118173593930155, 0.003927789699479639, 0.9623084763725115, 0.03535010729531675, 0.0014129194100510898, 0.26774822820468147, 0.7297728752913878, 0.0007064597050255449, 0.0007064597050255449, 0.031048346775542916, 0.9624987500418304, 0.005174724462590486, 0.005174724462590486, 0.9906895840722731, 0.10629040082331351, 0.4076349946468566, 0.48000292712230413, 0.005088370252179902, 0.0011307489449288671, 0.9913025929165938, 0.4520230615780693, 0.36723561743681365, 0.040009075204155024, 0.11631777493128513, 0.02464135095355243, 0.9552888521841784, 0.04518258084654898, 0.09124622387863035, 0.0025346173299619543, 0.9048583867964176, 0.0025346173299619543, 0.9918964870474076, 0.06307698985229607, 0.932875481499747, 0.003319841571173477, 0.9839461572380315, 0.10138985184773606, 0.8713190393164818, 0.003168432870241752, 0.022179030091692264, 0.9777050514512393, 0.019953164315331416, 0.4436100431580763, 0.2065302015362755, 0.28903252296484966, 0.034940007522966006, 0.025793408694964434, 0.00495264552250003, 0.13372142910750082, 0.14362672015250086, 0.10648187873375065, 0.6116517220287537, 0.11730454312239436, 0.8224351856692315, 0.05865227156119718, 0.3892415868508719, 0.43192502041902586, 0.08771641393822466, 0.08458368486900235, 0.007048640405750196, 0.004420014361192247, 0.03978012925073022, 0.004420014361192247, 0.9503030876563331, 0.9866192236420527, 0.9803867050225166, 0.0823697829543807, 0.060404507499879176, 0.00549131886362538, 0.8511544238619339, 0.09364895724669223, 0.11268329815049147, 0.746907537065082, 0.04492104453296619, 0.0022841209084559083, 0.9897896991433608, 0.3224267242397457, 0.6697716730694483, 0.003775488574235898, 0.003775488574235898, 0.0005918780521067821, 0.09825175664972584, 0.09114922002444445, 0.809689175282078, 0.9765230116890299, 0.9785021725330365, 0.9848721587468277, 0.083534460684122, 0.22096212180961305, 0.11317572092687497, 0.05928252048550594, 0.5200693842592112, 0.9798967479207334, 0.09130667385958835, 0.0015217778976598058, 0.08521956226894913, 0.7943680625784186, 0.027392002157876506, 0.9959113630606307, 0.03351651890352665, 0.9594103536134504, 0.004189564862940831, 0.08893562073522071, 0.005737781982917465, 0.0028688909914587326, 0.8979628803265833, 0.005737781982917465, 0.23181451025370986, 0.6691552873302965, 0.09380123224183622, 0.0035847604678408743, 0.0011949201559469582, 0.011127421129245627, 0.9792130593736151, 0.019586468308499496, 0.013057645538999664, 0.9662657698859751, 0.9905470852663433, 0.15122582464809098, 0.8362788103039431, 0.002016344328641213, 0.010081721643206065, 0.9828477320560137, 0.016380795534266895, 0.3060530923090363, 0.5994351967199278, 0.08723487822184316, 0.0029240741303411116, 0.0043861111955116674, 0.9903725294758058, 0.40342661105427946, 0.12593740768361106, 0.03842158200516947, 0.41836833738962315, 0.01387446016853342, 0.28870974969661356, 0.6392403508735174, 0.0681941351380522, 0.0038239701946571327, 0.9925540700877945, 0.8321674937323307, 0.0641811914535014, 0.08387314792218933, 0.018597958887094156, 0.0010939975815937738, 0.1645975821860209, 0.20610479856336533, 0.06727031619776508, 0.5567692127857577, 0.005725133293426814, 0.4694462169883448, 0.12336086692425355, 0.35470936203751935, 0.032996219724420406, 0.019497766200793874, 0.06715639622829692, 0.7511296925969296, 0.1503719306850996, 0.02627858982846401, 0.005109725799979113, 0.02911546627895679, 0.9608103872055741, 0.9968920296766232, 0.9763983493340208, 0.01698084085798297, 0.2567359534875958, 0.7369887906954461, 0.00047455813953344885, 0.005694697674401387, 0.9845328835900943, 0.8465064017446603, 0.15338074710511046, 0.015357089093007845, 0.0691069009185353, 0.9137468010339668, 0.7029340480297, 0.05318039234956331, 0.13726464466013194, 0.07301036915787505, 0.033736713790764136, 0.9922871121008567, 0.29765113836808166, 0.017381088371858783, 0.004345272092964696, 0.6778624465024925, 0.7471436442075996, 0.05134752136486491, 0.10567171063493938, 0.05878919112788881, 0.0372083488151195, 0.7205635463736856, 0.06160604504418936, 0.1126548719571619, 0.08245320996152893, 0.022718064332998247, 0.07252090024191947, 0.9224658510772157, 0.002900836009676779, 0.9885924585597448, 0.9863764018274097, 0.7479254202754978, 0.0956426368638744, 0.07381872608857215, 0.06747153291487867, 0.015128926194831041, 0.983591103324689, 0.07957789823790598, 0.6845410601110192, 0.2139190812846935, 0.006845410601110192, 0.014546497527359158, 0.0065209490238944835, 0.8998909652974387, 0.07988162554270742, 0.013041898047788967, 0.02503723961399469, 0.8529352961834192, 0.02503723961399469, 0.0433978819975908, 0.05508192715078832, 0.860922315553745, 0.05977771267624428, 0.02958072379855387, 0.03081325395682695, 0.019104217453232708, 0.7468811102648585, 0.03866302862519623, 0.04168357773653968, 0.12847402220247497, 0.04430138696637068, 0.16074823102468352, 0.0018476808163756728, 0.8092841975725447, 0.01293376571462971, 0.016629127347381055, 0.9947468411739282, 0.45740974407984125, 0.36455403963649197, 0.06410859594444938, 0.08827651901874578, 0.025948717406086657, 0.9892312987172139, 0.9882734832036346, 0.9728655553565548, 0.9799865533263009, 0.9935584040730019, 0.09908280732678372, 0.39512290238851555, 0.05195805750063049, 0.4531225944822426, 0.9620657031339187, 0.03279769442501996, 0.7951168686005097, 0.14023074083435713, 0.03284426720152967, 0.028274630025664674, 0.0034272278818987486, 0.4906751987174608, 0.4144194465233374, 0.04665436315674217, 0.04214980395540155, 0.006113330344676561, 0.5509905210000562, 0.00014450315263573463, 0.4319199232282108, 0.001589534678993081, 0.015461837332023606, 0.7526577706015211, 0.03850229519578738, 0.14302217346921514, 0.026559895941510897, 0.03926660874806107, 0.0030764793857673478, 0.12152093573781024, 0.8244964753856492, 0.050761909865161235, 0.0733627050910497, 0.8216622970197566, 0.008003204191750875, 0.09337071557042688, 0.004001602095875438, 0.7670252414995871, 0.08447152496738124, 0.11350117580124183, 0.02296197791366842, 0.01201637186155705, 0.9906902580237524, 0.008120411951014364, 0.002337139174585542, 0.7256817137088107, 0.06543989688839517, 0.12153123707844818, 0.0841370102850795, 0.9833402265184391, 0.14491026529081852, 0.8445101553372205, 0.0019193412621300466, 0.008637035679585209, 0.01769189880066506, 0.9553625352359131, 0.01769189880066506, 0.005897299600221686, 0.8545519347910185, 0.07510186495338518, 0.023067001378539734, 0.046670444649603654, 0.0005364418925241799, 0.00926411318401268, 0.10190524502413947, 0.8893548656652172, 0.032367171680634764, 0.9629233574988842, 0.11872397294505478, 0.0026982721123876086, 0.8769384365259728, 0.9843318493772528, 0.14440270069777558, 0.0817224075377521, 0.656159524599233, 0.11663295056358797, 0.0015868428648107206, 0.9870885023900706, 0.9920417476256288, 0.9679996899267331, 0.026044834706548874, 0.2833744669271276, 0.09236373977447396, 0.15268291677004878, 0.011938170447040852, 0.4593053998308875, 0.9902951114080514, 0.010424159067453172, 0.5821248882031915, 0.11428695634840622, 0.022740771926468586, 0.2752216499818762, 0.005636601588611872, 0.9928449515259349, 0.9946017747930482, 0.002801481539643767, 0.0672355569514504, 0.9272903896220869, 0.33224894147822487, 0.003185419834044573, 0.6041679618571207, 0.00463333794042847, 0.05579311103265949, 0.9909136865208048, 0.9955876883544427], \"Term\": [\"aaah\", \"aah\", \"addicted\", \"afternoon\", \"ahhh\", \"amen\", \"american\", \"american\", \"american\", \"american\", \"annie\", \"anymore\", \"anymore\", \"anymore\", \"apart\", \"apart\", \"apart\", \"ass\", \"ass\", \"ass\", \"await\", \"away\", \"away\", \"away\", \"away\", \"away\", \"aye\", \"ayo\", \"baby\", \"baby\", \"baby\", \"baby\", \"bad\", \"bad\", \"bad\", \"bad\", \"bad\", \"badly\", \"bah\", \"banana\", \"battle\", \"battle\", \"battle\", \"battlefield\", \"bbboy\", \"bear\", \"bear\", \"bear\", \"bear\", \"bear\", \"believe\", \"believe\", \"believe\", \"believe\", \"believe\", \"bell\", \"bell\", \"bell\", \"bell\", \"bell\", \"betcha\", \"big\", \"big\", \"big\", \"big\", \"big\", \"bit\", \"bit\", \"bit\", \"bit\", \"bit\", \"bitch\", \"bitch\", \"bitch\", \"black\", \"black\", \"black\", \"black\", \"black\", \"blaze\", \"bleed\", \"bleed\", \"bleed\", \"blood\", \"blood\", \"blood\", \"blood\", \"blood\", \"blue\", \"blue\", \"blue\", \"blue\", \"blue\", \"blunt\", \"body\", \"body\", \"body\", \"body\", \"body\", \"bom\", \"boogie\", \"boom\", \"booty\", \"bop\", \"bout\", \"bout\", \"bout\", \"bout\", \"boy\", \"boy\", \"boy\", \"boy\", \"boy\", \"break\", \"break\", \"break\", \"break\", \"break\", \"breathless\", \"breed\", \"bright\", \"bright\", \"bum\", \"burn\", \"burn\", \"burn\", \"burn\", \"buy\", \"buy\", \"buy\", \"buy\", \"buy\", \"bye\", \"carpet\", \"castle\", \"cause\", \"cause\", \"cause\", \"cause\", \"cause\", \"cha\", \"chat\", \"cherish\", \"cherish\", \"child\", \"child\", \"child\", \"child\", \"chorus\", \"chorus\", \"chorus\", \"chorus\", \"chorus\", \"christ\", \"circus\", \"clap\", \"clap\", \"cmon\", \"cmon\", \"cocaine\", \"come\", \"come\", \"come\", \"come\", \"come\", \"comin\", \"comin\", \"comin\", \"comin\", \"cowboy\", \"crazy\", \"crazy\", \"crazy\", \"crazy\", \"crazy\", \"crucify\", \"cry\", \"cry\", \"cry\", \"cry\", \"cry\", \"dada\", \"dance\", \"dance\", \"dance\", \"dance\", \"dancin\", \"darle\", \"darling\", \"darling\", \"darling\", \"dat\", \"day\", \"day\", \"day\", \"day\", \"day\", \"dead\", \"dead\", \"dead\", \"dead\", \"dead\", \"death\", \"death\", \"death\", \"death\", \"dee\", \"dem\", \"denial\", \"desperately\", \"destroy\", \"destroy\", \"devil\", \"devil\", \"devil\", \"devil\", \"devotion\", \"diana\", \"die\", \"die\", \"die\", \"die\", \"die\", \"disease\", \"disease\", \"doo\", \"dope\", \"dope\", \"dough\", \"dre\", \"dream\", \"dream\", \"dream\", \"dream\", \"dream\", \"dreamland\", \"dudu\", \"dumb\", \"dumb\", \"dynamite\", \"eagle\", \"eheh\", \"eighty\", \"eminem\", \"eminem\", \"emotional\", \"end\", \"end\", \"end\", \"end\", \"enemy\", \"enemy\", \"england\", \"everybody\", \"everybody\", \"everybody\", \"everybody\", \"everybody\", \"evil\", \"evil\", \"evil\", \"eye\", \"eye\", \"eye\", \"eye\", \"eye\", \"fack\", \"fall\", \"fall\", \"fall\", \"fall\", \"father\", \"father\", \"father\", \"father\", \"father\", \"fear\", \"fear\", \"fear\", \"feed\", \"feed\", \"feed\", \"feed\", \"feed\", \"feel\", \"feel\", \"feel\", \"feel\", \"feel\", \"feelin\", \"feelin\", \"feelin\", \"feelin\", \"feeling\", \"feeling\", \"feeling\", \"feeling\", \"feeling\", \"fever\", \"fever\", \"fever\", \"fever\", \"fight\", \"fight\", \"fight\", \"fight\", \"fight\", \"fighter\", \"fighter\", \"film\", \"find\", \"find\", \"find\", \"find\", \"find\", \"fire\", \"fire\", \"fire\", \"fire\", \"fire\", \"flesh\", \"flesh\", \"flicker\", \"fly\", \"fly\", \"fly\", \"fly\", \"forever\", \"forever\", \"forever\", \"forever\", \"forever\", \"freedom\", \"freedom\", \"freedom\", \"fuck\", \"fuck\", \"fuck\", \"fuckin\", \"fuckin\", \"fuckin\", \"gasoline\", \"get\", \"get\", \"get\", \"get\", \"get\", \"getaway\", \"getcha\", \"gettin\", \"gettin\", \"ghoul\", \"gimme\", \"girl\", \"girl\", \"girl\", \"girl\", \"girl\", \"go\", \"go\", \"go\", \"go\", \"go\", \"god\", \"god\", \"god\", \"god\", \"god\", \"goin\", \"goin\", \"goin\", \"goin\", \"gold\", \"gold\", \"gold\", \"gold\", \"gold\", \"golden\", \"golden\", \"golden\", \"golden\", \"golden\", \"gon\", \"gon\", \"gon\", \"gon\", \"gon\", \"good\", \"good\", \"good\", \"good\", \"good\", \"goodbye\", \"goodbye\", \"goodbye\", \"goodbye\", \"greed\", \"greedy\", \"hand\", \"hand\", \"hand\", \"hand\", \"hand\", \"hate\", \"hate\", \"hate\", \"hate\", \"hate\", \"hear\", \"hear\", \"hear\", \"hear\", \"hear\", \"heart\", \"heart\", \"heart\", \"heart\", \"heart\", \"hell\", \"hell\", \"hell\", \"hell\", \"hell\", \"heroin\", \"hey\", \"hey\", \"hey\", \"hey\", \"high\", \"high\", \"high\", \"high\", \"high\", \"highway\", \"highway\", \"highway\", \"hill\", \"hill\", \"hill\", \"hill\", \"hit\", \"hit\", \"hit\", \"hit\", \"hit\", \"hmm\", \"hmm\", \"hoe\", \"hoe\", \"hoe\", \"hol\", \"hold\", \"hold\", \"hold\", \"hold\", \"hold\", \"holler\", \"holler\", \"holler\", \"home\", \"home\", \"home\", \"home\", \"home\", \"homie\", \"honestly\", \"hoo\", \"hoo\", \"hot\", \"hot\", \"hot\", \"hot\", \"hot\", \"human\", \"human\", \"human\", \"hump\", \"hurt\", \"hurt\", \"hurt\", \"hurt\", \"hurt\", \"hush\", \"hush\", \"ill\", \"ill\", \"ill\", \"ill\", \"ill\", \"imma\", \"indestructible\", \"insanity\", \"irresistible\", \"jesus\", \"jesus\", \"jesus\", \"john\", \"john\", \"john\", \"john\", \"kanye\", \"kanye\", \"kid\", \"kid\", \"kid\", \"kid\", \"kid\", \"kill\", \"kill\", \"kill\", \"kill\", \"kill\", \"killer\", \"killer\", \"killer\", \"killer\", \"king\", \"king\", \"king\", \"king\", \"know\", \"know\", \"know\", \"know\", \"know\", \"lady\", \"lady\", \"lady\", \"lady\", \"lady\", \"leave\", \"leave\", \"leave\", \"leave\", \"leave\", \"let\", \"let\", \"let\", \"let\", \"let\", \"lie\", \"lie\", \"lie\", \"lie\", \"lie\", \"life\", \"life\", \"life\", \"life\", \"life\", \"lifetime\", \"lifetime\", \"light\", \"light\", \"light\", \"light\", \"light\", \"like\", \"like\", \"like\", \"like\", \"like\", \"lil\", \"lil\", \"little\", \"little\", \"little\", \"little\", \"little\", \"live\", \"live\", \"live\", \"live\", \"live\", \"lonely\", \"lonely\", \"lonely\", \"lonely\", \"long\", \"long\", \"long\", \"long\", \"long\", \"look\", \"look\", \"look\", \"look\", \"look\", \"lookin\", \"lookin\", \"lookin\", \"lookin\", \"love\", \"love\", \"love\", \"love\", \"love\", \"loves\", \"loving\", \"mac\", \"mama\", \"mama\", \"mama\", \"man\", \"man\", \"man\", \"man\", \"man\", \"maria\", \"marshall\", \"masquerade\", \"material\", \"midnight\", \"midnight\", \"midnight\", \"mind\", \"mind\", \"mind\", \"mind\", \"mind\", \"miss\", \"miss\", \"miss\", \"miss\", \"miss\", \"money\", \"money\", \"money\", \"money\", \"money\", \"monkey\", \"monkey\", \"monkey\", \"monster\", \"monster\", \"monster\", \"moon\", \"moon\", \"moon\", \"moon\", \"mother\", \"mother\", \"mother\", \"mother\", \"mother\", \"mum\", \"mum\", \"need\", \"need\", \"need\", \"need\", \"need\", \"neon\", \"neon\", \"nigga\", \"nigga\", \"niggas\", \"niggas\", \"niggaz\", \"niggaz\", \"night\", \"night\", \"night\", \"night\", \"night\", \"nike\", \"nothin\", \"nothin\", \"nothin\", \"nothin\", \"nuh\", \"old\", \"old\", \"old\", \"old\", \"old\", \"ooohhh\", \"ooooo\", \"oye\", \"pain\", \"pain\", \"pain\", \"pain\", \"party\", \"party\", \"party\", \"party\", \"people\", \"people\", \"people\", \"people\", \"people\", \"philosophy\", \"phresh\", \"physical\", \"play\", \"play\", \"play\", \"play\", \"play\", \"pogo\", \"pon\", \"pretty\", \"pretty\", \"pretty\", \"pretty\", \"pretty\", \"psycho\", \"radar\", \"rael\", \"rain\", \"rain\", \"rain\", \"rain\", \"rap\", \"rap\", \"rap\", \"rap\", \"rape\", \"rape\", \"rapper\", \"rapper\", \"real\", \"real\", \"real\", \"real\", \"real\", \"red\", \"red\", \"red\", \"red\", \"red\", \"refro\", \"rescue\", \"revolution\", \"ride\", \"ride\", \"ride\", \"ride\", \"ride\", \"ridin\", \"ridin\", \"right\", \"right\", \"right\", \"right\", \"right\", \"rise\", \"rise\", \"rise\", \"rise\", \"rock\", \"rock\", \"rock\", \"rockin\", \"rockin\", \"rockin\", \"roll\", \"roll\", \"roll\", \"roll\", \"roll\", \"rollin\", \"rollin\", \"rollin\", \"rollin\", \"rot\", \"round\", \"round\", \"round\", \"round\", \"round\", \"rumour\", \"run\", \"run\", \"run\", \"run\", \"run\", \"runaway\", \"runaway\", \"runnin\", \"runnin\", \"runnin\", \"runnin\", \"runway\", \"sail\", \"sail\", \"sail\", \"sally\", \"sand\", \"sand\", \"sand\", \"sand\", \"satellite\", \"satellite\", \"say\", \"say\", \"say\", \"say\", \"say\", \"school\", \"school\", \"school\", \"school\", \"school\", \"sea\", \"sea\", \"sea\", \"see\", \"see\", \"see\", \"see\", \"see\", \"seed\", \"seed\", \"seed\", \"seed\", \"sensation\", \"september\", \"shady\", \"shady\", \"shady\", \"shady\", \"shake\", \"shake\", \"shake\", \"shake\", \"shake\", \"shakin\", \"shine\", \"shine\", \"shine\", \"shine\", \"shit\", \"shit\", \"shit\", \"shit\", \"shoop\", \"shooting\", \"shorty\", \"shot\", \"shot\", \"shot\", \"shot\", \"shot\", \"showin\", \"sick\", \"sick\", \"sick\", \"sick\", \"sick\", \"side\", \"silver\", \"silver\", \"silver\", \"sin\", \"sin\", \"sin\", \"sin\", \"sin\", \"sing\", \"sing\", \"sing\", \"sing\", \"sing\", \"sinner\", \"sinner\", \"sittin\", \"sittin\", \"sittin\", \"skull\", \"sky\", \"sky\", \"sky\", \"sky\", \"someday\", \"someday\", \"song\", \"song\", \"song\", \"song\", \"song\", \"sos\", \"soul\", \"soul\", \"soul\", \"soul\", \"soul\", \"star\", \"star\", \"star\", \"star\", \"starry\", \"stay\", \"stay\", \"stay\", \"stay\", \"stay\", \"stone\", \"stone\", \"stone\", \"stone\", \"stone\", \"stop\", \"stop\", \"stop\", \"stop\", \"stop\", \"street\", \"street\", \"street\", \"street\", \"street\", \"suffer\", \"suffer\", \"sugar\", \"suicide\", \"suicide\", \"sun\", \"sun\", \"sun\", \"sun\", \"swag\", \"talkin\", \"talkin\", \"team\", \"team\", \"team\", \"tell\", \"tell\", \"tell\", \"tell\", \"tell\", \"temple\", \"thank\", \"thank\", \"thank\", \"thank\", \"thing\", \"thing\", \"thing\", \"thing\", \"thing\", \"think\", \"think\", \"think\", \"think\", \"think\", \"thinkin\", \"thinkin\", \"thinkin\", \"thriller\", \"tiger\", \"time\", \"time\", \"time\", \"time\", \"time\", \"tommy\", \"town\", \"town\", \"town\", \"town\", \"town\", \"train\", \"train\", \"train\", \"train\", \"tree\", \"tree\", \"tree\", \"tree\", \"tree\", \"true\", \"true\", \"true\", \"true\", \"true\", \"try\", \"try\", \"try\", \"try\", \"try\", \"tryin\", \"tryin\", \"tryin\", \"tryin\", \"tryin\", \"tunnel\", \"turn\", \"turn\", \"turn\", \"turn\", \"turn\", \"uette\", \"uhhuh\", \"unconditional\", \"untrue\", \"valium\", \"verse\", \"verse\", \"verse\", \"verse\", \"virgin\", \"virgin\", \"wait\", \"wait\", \"wait\", \"wait\", \"wait\", \"walk\", \"walk\", \"walk\", \"walk\", \"walk\", \"wanna\", \"wanna\", \"wanna\", \"wanna\", \"wanna\", \"want\", \"want\", \"want\", \"want\", \"want\", \"war\", \"war\", \"war\", \"war\", \"water\", \"water\", \"water\", \"water\", \"water\", \"way\", \"way\", \"way\", \"way\", \"way\", \"whatcha\", \"whatcha\", \"white\", \"white\", \"white\", \"white\", \"white\", \"whoo\", \"wind\", \"wind\", \"wind\", \"wind\", \"wire\", \"wire\", \"wire\", \"wire\", \"wish\", \"wish\", \"wish\", \"wish\", \"wish\", \"wit\", \"wit\", \"wit\", \"witness\", \"witness\", \"woah\", \"woah\", \"woah\", \"woh\", \"woman\", \"woman\", \"woman\", \"woman\", \"woman\", \"womanizer\", \"wonderland\", \"woo\", \"woo\", \"work\", \"work\", \"work\", \"work\", \"work\", \"workin\", \"workin\", \"world\", \"world\", \"world\", \"world\", \"world\", \"worship\", \"wow\", \"yea\", \"yea\", \"yea\", \"yeah\", \"yeah\", \"yeah\", \"yeah\", \"yeah\", \"yeh\", \"yuh\"]}, \"R\": 30, \"lambda.step\": 0.01, \"plot.opts\": {\"xlab\": \"PC1\", \"ylab\": \"PC2\"}, \"topic.order\": [2, 4, 1, 5, 3]};\n",
       "\n",
       "function LDAvis_load_lib(url, callback){\n",
       "  var s = document.createElement('script');\n",
       "  s.src = url;\n",
       "  s.async = true;\n",
       "  s.onreadystatechange = s.onload = callback;\n",
       "  s.onerror = function(){console.warn(\"failed to load library \" + url);};\n",
       "  document.getElementsByTagName(\"head\")[0].appendChild(s);\n",
       "}\n",
       "\n",
       "if(typeof(LDAvis) !== \"undefined\"){\n",
       "   // already loaded: just create the visualization\n",
       "   !function(LDAvis){\n",
       "       new LDAvis(\"#\" + \"ldavis_el60311403101979642409782640008\", ldavis_el60311403101979642409782640008_data);\n",
       "   }(LDAvis);\n",
       "}else if(typeof define === \"function\" && define.amd){\n",
       "   // require.js is available: use it to load d3/LDAvis\n",
       "   require.config({paths: {d3: \"https://d3js.org/d3.v5\"}});\n",
       "   require([\"d3\"], function(d3){\n",
       "      window.d3 = d3;\n",
       "      LDAvis_load_lib(\"https://cdn.jsdelivr.net/gh/bmabey/pyLDAvis@3.3.1/pyLDAvis/js/ldavis.v3.0.0.js\", function(){\n",
       "        new LDAvis(\"#\" + \"ldavis_el60311403101979642409782640008\", ldavis_el60311403101979642409782640008_data);\n",
       "      });\n",
       "    });\n",
       "}else{\n",
       "    // require.js not available: dynamically load d3 & LDAvis\n",
       "    LDAvis_load_lib(\"https://d3js.org/d3.v5.js\", function(){\n",
       "         LDAvis_load_lib(\"https://cdn.jsdelivr.net/gh/bmabey/pyLDAvis@3.3.1/pyLDAvis/js/ldavis.v3.0.0.js\", function(){\n",
       "                 new LDAvis(\"#\" + \"ldavis_el60311403101979642409782640008\", ldavis_el60311403101979642409782640008_data);\n",
       "            })\n",
       "         });\n",
       "}\n",
       "</script>"
      ],
      "text/plain": [
       "PreparedData(topic_coordinates=              x         y  topics  cluster       Freq\n",
       "topic                                                \n",
       "1      0.116254  0.078126       1        1  40.158350\n",
       "3      0.116241  0.018802       2        1  21.030822\n",
       "0     -0.103552  0.162084       3        1  17.615800\n",
       "4      0.121015 -0.159651       4        1  14.304600\n",
       "2     -0.249957 -0.099362       5        1   6.890427, topic_info=       Term          Freq         Total Category  logprob  loglift\n",
       "33     love  22164.000000  22164.000000  Default  30.0000  30.0000\n",
       "113    baby  10941.000000  10941.000000  Default  29.0000  29.0000\n",
       "110    yeah  10359.000000  10359.000000  Default  28.0000  28.0000\n",
       "116    girl   6728.000000   6728.000000  Default  27.0000  27.0000\n",
       "115     get  16325.000000  16325.000000  Default  26.0000  26.0000\n",
       "..      ...           ...           ...      ...      ...      ...\n",
       "53     want    411.172712  10466.908478   Topic5  -5.3216  -0.5619\n",
       "198  little    344.048194   4223.840227   Topic5  -5.4998   0.1673\n",
       "151   right    325.272398   6273.623554   Topic5  -5.5559  -0.2844\n",
       "494    real    293.263471   1760.970750   Topic5  -5.6595   0.8825\n",
       "289  chorus    286.060159   3625.357079   Topic5  -5.6844   0.1355\n",
       "\n",
       "[452 rows x 6 columns], token_table=      Topic      Freq       Term\n",
       "term                            \n",
       "3660      3  0.990740       aaah\n",
       "7674      4  0.998638        aah\n",
       "1462      1  0.978531   addicted\n",
       "4434      2  0.989620  afternoon\n",
       "2674      5  0.989252       ahhh\n",
       "...     ...       ...        ...\n",
       "110       3  0.604168       yeah\n",
       "110       4  0.004633       yeah\n",
       "110       5  0.055793       yeah\n",
       "3802      3  0.990914        yeh\n",
       "8079      5  0.995588        yuh\n",
       "\n",
       "[1102 rows x 3 columns], R=30, lambda_step=0.01, plot_opts={'xlab': 'PC1', 'ylab': 'PC2'}, topic_order=[2, 4, 1, 5, 3])"
      ]
     },
     "execution_count": 55,
     "metadata": {},
     "output_type": "execute_result"
    }
   ],
   "source": [
    "pyLDAvis.enable_notebook()\n",
    "vis = pyLDAvis.gensim_models.prepare(lda_multicore, corpus, id2words)\n",
    "vis"
   ]
  },
  {
   "cell_type": "code",
   "execution_count": null,
   "id": "6771ef65",
   "metadata": {},
   "outputs": [],
   "source": []
  }
 ],
 "metadata": {
  "kernelspec": {
   "display_name": "Python 3",
   "language": "python",
   "name": "python3"
  },
  "language_info": {
   "codemirror_mode": {
    "name": "ipython",
    "version": 3
   },
   "file_extension": ".py",
   "mimetype": "text/x-python",
   "name": "python",
   "nbconvert_exporter": "python",
   "pygments_lexer": "ipython3",
   "version": "3.8.7"
  }
 },
 "nbformat": 4,
 "nbformat_minor": 5
}
